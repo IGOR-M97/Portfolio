{
 "cells": [
  {
   "cell_type": "markdown",
   "id": "3d02b5fd",
   "metadata": {},
   "source": [
    "# Визуализация отчетов главного онколога страны за 2011-2021 годы в России"
   ]
  },
  {
   "cell_type": "markdown",
   "id": "5cbc0e5f",
   "metadata": {},
   "source": [
    "<div style=\"border:solid green 2px; padding: 20px\">\n",
    "\n",
    "**Цель проекта:** визуализация данных годовых отчетов главного онколога Минздрава России Андрея Дмитриевича Каприна.  \n",
    "**Заказчик:** руководитель информационной службы Медицинского объединения специализированного лечения онкологических заболеваний «Санрайз клиник» Андрей Валериевич Иванов.  \n",
    "**Формат отчета:** [дашборд в DataLens.](https://datalens.yandex/kx754azn0z7i9?tab=MY&state=d1303e7f149)  \n",
    "**Причина обращения:** желание заказчика видеть \"юзабельный\" интерфейс восприятия годовых отчетов.  \n",
    "**Результат будет использоваться для:** изучения данных профильными специалистами, демонстрации возможностей визуальной отчетности для должностных лиц в сфере здравохранения."
   ]
  },
  {
   "cell_type": "markdown",
   "id": "494b6f70",
   "metadata": {},
   "source": [
    "<div style=\"border:solid yellow 2px; padding: 20px\">\n",
    "\n",
    "**Задача:** отобразить основные показатели состояния онкологической помощи различных локализаций в различных возрастных группах.\n"
   ]
  },
  {
   "cell_type": "markdown",
   "id": "a1055d20",
   "metadata": {},
   "source": [
    "<div style=\"border:solid blue 2px; padding: 20px\">\n",
    "\n",
    "**Описание от заказчика:**\n",
    "    \n",
    "Этот отчет ежегодно публикуется. Последний опубликованный отчет это два PDF файла 491 страница больше двух сотен таблиц (многие многостраничные). Все это практически невозможно оценить ни в отношении долгосрочной динамики изменений, ни в смысле сравнения показателей различных регионов России между собой. Эти таблицы конвертированы в Эксель и теперь осуществляется попытка дать предметным специалистам (онкологам и организаторам здравоохранения) современный, технологичный, наглядный инструмент для анализа и сравнения. \n",
    "\n",
    "В перспективе этот проект видится как рейтинг онкологического благополучия регионов России. Хотя, вполне возможно, когда мы увидим цифры из годового отчета главного онколога России в виде современного, \"юзабельного\", удобно воспринимаемого дашборда, откроются самые неожиданные горизонты и возможности использования этих данных (заболеваемости, смертности, распространенности различных нозологических форм злокачественных новообразований в различных регионах России. А также сравнение эффективности диагностики и лечения) в различных регионах России.\n",
    "\n",
    "Для данной работы получена только часть документов, а именно 15 Эксель файлов, которые требуется предобработать для дальнейшей загрузки в DataLens.\n"
   ]
  },
  {
   "cell_type": "markdown",
   "id": "6ee8ce12",
   "metadata": {},
   "source": [
    "<div style=\"border:solid black 2px; padding: 20px\">\n",
    "\n",
    "**Описание данных:**\n",
    "\n",
    "**Таблица 5:** Распространенность злокачественных новообразований в России в 2011-2021 гг.\n",
    "(численность контингента больных на 100 тыс. населения)  \n",
    "\n",
    "**Таблица 6:** Доля больных, состоявших на учете в онкологических учреждениях России 5 лет и более\n",
    "с момента установления диагноза злокачественного новообразования, от числа состоявших на учете на конец отчетного года в 2011-2021 гг., %  \n",
    "\n",
    "**Таблица 7:** \n",
    "Доля больных, состоявших на учете в онкологических учреждениях России 5 лет и более\n",
    "с момента становления диагноза злокачественного новообразования, от числа состоявших на учете на конец отчетного года  5 лет назад  в 2011-2021 гг., %\n",
    "\n",
    "**Таблица 8:** Индекс накопления контингента больных со злокачественными новообразованиями различных нозологических групп в России в 2011-2021 гг.\n",
    "\n",
    "**Таблица 9:** Удельный вес больных с диагнозом, подтвержденным морфологически, от числа больных с впервые в жизни установленным диагнозом злокачественного новообразования в России в 2011-2021 гг., %\n",
    "\n",
    "**Таблица 10:** Удельный вес больных со злокачественными новообразованиями, выявленных активно, от числа больных с впервые в жизни установленным диагнозом злокачественного новообразования в России в 2011-2021 гг., %\n",
    "\n",
    "**Таблица 11:** Показатели активного выявления злокачественных новообразований в России в 2011-2021 гг.\n",
    "\n",
    "**Таблица 12:** Выявление рака шейки матки в стадии in situ в России в 2011-2021 гг.\n",
    "\n",
    "**Таблица 13:** Удельный вес злокачественных новообразований, выявленных в I-II стадии, из числе впервые выявленных злокачественных новообразований в России в 2011-2021 гг., %\n",
    "\n",
    "**Таблица 14:** Удельный вес злокачественных новообразований, выявленных в III стадии, из числа впервые выявленных злокачественных новообразований  в России в 2011-2021 гг., %\n",
    "\n",
    "**Таблица 15:** Удельный вес злокачественных новообразований, выявленных в запущенной стадии (IV стадия), из числа впервые выявленных злокачественных новообразований в России в 2011-2021 гг., %\n",
    "\n",
    "**Таблица 16:** Летальность больных в течение года с момента установления диагноза злокачественного новообразования (из числа больных, впервые взятых на учет в предыдущем году) в России в 2011-2021 гг.,  %\n",
    "\n",
    "**Таблица 17:** Основные показатели состояния онкологической помощи детскому населению (0-14 лет) России в 2011-2021 гг.\n",
    "\n",
    "**Таблица 55:** Сведения о злокачественных новообразованиях, лечение которых не проводилось по причине отказа пациента и противопоказаний к проведению лечения в России в 2011-2021 гг.\n",
    "\n",
    "**Таблица 56:** Сведения о лечении детей (0-14 лет) со злокачественными новообразованиями в России в 2011-2021 г."
   ]
  },
  {
   "cell_type": "code",
   "execution_count": 297,
   "id": "a9d2785e",
   "metadata": {},
   "outputs": [],
   "source": [
    "import pandas as pd\n",
    "import matplotlib.pyplot as plt\n",
    "import seaborn as sns\n",
    "import numpy as np\n",
    "import os"
   ]
  },
  {
   "cell_type": "markdown",
   "id": "b9589682",
   "metadata": {},
   "source": [
    "## 1 Загрузка данных"
   ]
  },
  {
   "cell_type": "code",
   "execution_count": 298,
   "id": "1f092d69",
   "metadata": {},
   "outputs": [],
   "source": [
    "home_folder = '/Users/User/Desktop/med_project' # зададим папку с исходными файлами"
   ]
  },
  {
   "cell_type": "code",
   "execution_count": 299,
   "id": "37a3d8c9",
   "metadata": {},
   "outputs": [
    {
     "data": {
      "text/plain": [
       "'C:\\\\Users\\\\User\\\\Desktop\\\\med_project'"
      ]
     },
     "execution_count": 299,
     "metadata": {},
     "output_type": "execute_result"
    }
   ],
   "source": [
    "os.chdir(home_folder) # изменим рабочую директорию\n",
    "os.getcwd() # отображение пути к рабочей директории"
   ]
  },
  {
   "cell_type": "code",
   "execution_count": 300,
   "id": "40a386a6",
   "metadata": {},
   "outputs": [],
   "source": [
    "list_of_files = [file for file in os.listdir() if file.endswith('.xlsx')] # создадим список файлов"
   ]
  },
  {
   "cell_type": "code",
   "execution_count": 301,
   "id": "76097ef7",
   "metadata": {},
   "outputs": [
    {
     "data": {
      "text/plain": [
       "['2021_Таблица_005_Состояние_онко_помощи_в_РФ.xlsx',\n",
       " '2021_Таблица_006_Состояние_онко_помощи_в_РФ.xlsx',\n",
       " '2021_Таблица_007_Состояние_онко_помощи_в_РФ.xlsx',\n",
       " '2021_Таблица_008_Состояние_онко_помощи_в_РФ.xlsx',\n",
       " '2021_Таблица_009_Состояние_онко_помощи_в_РФ.xlsx',\n",
       " '2021_Таблица_010_Состояние_онко_помощи_в_РФ.xlsx',\n",
       " '2021_Таблица_011_Состояние_онко_помощи_в_РФ.xlsx',\n",
       " '2021_Таблица_012_Состояние_онко_помощи_в_РФ.xlsx',\n",
       " '2021_Таблица_013_Состояние_онко_помощи_в_РФ.xlsx',\n",
       " '2021_Таблица_014_Состояние_онко_помощи_в_РФ.xlsx',\n",
       " '2021_Таблица_015_Состояние_онко_помощи_в_РФ.xlsx',\n",
       " '2021_Таблица_016_Состояние_онко_помощи_в_РФ.xlsx',\n",
       " '2021_Таблица_017_Состояние_онко_помощи_в_РФ.xlsx',\n",
       " '2021_Таблица_055_Состояние_онко_помощи_в_РФ.xlsx',\n",
       " '2021_Таблица_056_Состояние_онко_помощи_в_РФ.xlsx']"
      ]
     },
     "execution_count": 301,
     "metadata": {},
     "output_type": "execute_result"
    }
   ],
   "source": [
    "list_of_files # проверим названия файлов"
   ]
  },
  {
   "cell_type": "code",
   "execution_count": 302,
   "id": "dcd459ce",
   "metadata": {},
   "outputs": [],
   "source": [
    "# прочитаем файлы по отдельности\n",
    "try:\n",
    "    data5 = pd.read_excel(list_of_files[0], header = [3])\n",
    "    data6 = pd.read_excel(list_of_files[1], header = [3])\n",
    "    data7 = pd.read_excel(list_of_files[2], header = [3])\n",
    "    data8 = pd.read_excel(list_of_files[3], header = [3])\n",
    "    data9 = pd.read_excel(list_of_files[4], header = [3])\n",
    "    data10 = pd.read_excel(list_of_files[5], header = [3])\n",
    "    data11 = pd.read_excel(list_of_files[6], header = [2])\n",
    "    data12 = pd.read_excel(list_of_files[7], header = [2])\n",
    "    data13 = pd.read_excel(list_of_files[8], header = [3])\n",
    "    data14 = pd.read_excel(list_of_files[9], header = [2])\n",
    "    data15 = pd.read_excel(list_of_files[10], header = [2])\n",
    "    data16 = pd.read_excel(list_of_files[11], header = [2])\n",
    "    data17 = pd.read_excel(list_of_files[12], header = [5])\n",
    "    data55 = pd.read_excel(list_of_files[13], header = [2])\n",
    "    data56 = pd.read_excel(list_of_files[14], header = [2])\n",
    "except:\n",
    "    print('Ошибка чтения данных!')"
   ]
  },
  {
   "cell_type": "markdown",
   "id": "350447ab",
   "metadata": {},
   "source": [
    "## 2 Предобратобка данных"
   ]
  },
  {
   "cell_type": "markdown",
   "id": "f5778ffb",
   "metadata": {},
   "source": [
    "### Таблица 5"
   ]
  },
  {
   "cell_type": "markdown",
   "id": "48989fbd",
   "metadata": {},
   "source": [
    "Будем работать с таблицами последовательно, чтобы не упустить важные моменты в их предобработке, таблицы не все одинаковые."
   ]
  },
  {
   "cell_type": "code",
   "execution_count": 303,
   "id": "98f6fb53",
   "metadata": {},
   "outputs": [
    {
     "data": {
      "text/html": [
       "<div>\n",
       "<style scoped>\n",
       "    .dataframe tbody tr th:only-of-type {\n",
       "        vertical-align: middle;\n",
       "    }\n",
       "\n",
       "    .dataframe tbody tr th {\n",
       "        vertical-align: top;\n",
       "    }\n",
       "\n",
       "    .dataframe thead th {\n",
       "        text-align: right;\n",
       "    }\n",
       "</style>\n",
       "<table border=\"1\" class=\"dataframe\">\n",
       "  <thead>\n",
       "    <tr style=\"text-align: right;\">\n",
       "      <th></th>\n",
       "      <th>name</th>\n",
       "      <th>mkb-10</th>\n",
       "      <th>2011</th>\n",
       "      <th>2012</th>\n",
       "      <th>2013</th>\n",
       "      <th>2014</th>\n",
       "      <th>2015</th>\n",
       "      <th>2016</th>\n",
       "      <th>2017</th>\n",
       "      <th>2018</th>\n",
       "      <th>2019</th>\n",
       "      <th>2020</th>\n",
       "      <th>2021</th>\n",
       "    </tr>\n",
       "  </thead>\n",
       "  <tbody>\n",
       "    <tr>\n",
       "      <th>0</th>\n",
       "      <td>Все злокачествен. новообразования</td>\n",
       "      <td>С00-96</td>\n",
       "      <td>2029.0</td>\n",
       "      <td>2091.9</td>\n",
       "      <td>2159.4</td>\n",
       "      <td>2252.4</td>\n",
       "      <td>2325.2</td>\n",
       "      <td>2399.1</td>\n",
       "      <td>2472.4</td>\n",
       "      <td>2562.3</td>\n",
       "      <td>2676.6</td>\n",
       "      <td>2712.9</td>\n",
       "      <td>2690.5</td>\n",
       "    </tr>\n",
       "    <tr>\n",
       "      <th>1</th>\n",
       "      <td>Губа</td>\n",
       "      <td>С00</td>\n",
       "      <td>41.9</td>\n",
       "      <td>40.2</td>\n",
       "      <td>37.7</td>\n",
       "      <td>36.8</td>\n",
       "      <td>34.9</td>\n",
       "      <td>32.9</td>\n",
       "      <td>30.5</td>\n",
       "      <td>29.1</td>\n",
       "      <td>27.5</td>\n",
       "      <td>26.1</td>\n",
       "      <td>22.5</td>\n",
       "    </tr>\n",
       "    <tr>\n",
       "      <th>2</th>\n",
       "      <td>Полость рта</td>\n",
       "      <td>С01-09</td>\n",
       "      <td>23.1</td>\n",
       "      <td>23.3</td>\n",
       "      <td>24.4</td>\n",
       "      <td>25.2</td>\n",
       "      <td>25.9</td>\n",
       "      <td>26.6</td>\n",
       "      <td>27.2</td>\n",
       "      <td>28.5</td>\n",
       "      <td>29.7</td>\n",
       "      <td>30.8</td>\n",
       "      <td>30.8</td>\n",
       "    </tr>\n",
       "    <tr>\n",
       "      <th>3</th>\n",
       "      <td>Глотка</td>\n",
       "      <td>С10-13</td>\n",
       "      <td>10.1</td>\n",
       "      <td>10.2</td>\n",
       "      <td>10.7</td>\n",
       "      <td>11.2</td>\n",
       "      <td>11.5</td>\n",
       "      <td>11.7</td>\n",
       "      <td>11.9</td>\n",
       "      <td>12.3</td>\n",
       "      <td>12.7</td>\n",
       "      <td>13.2</td>\n",
       "      <td>12.8</td>\n",
       "    </tr>\n",
       "    <tr>\n",
       "      <th>4</th>\n",
       "      <td>Пищевод</td>\n",
       "      <td>С15</td>\n",
       "      <td>8.2</td>\n",
       "      <td>8.2</td>\n",
       "      <td>8.4</td>\n",
       "      <td>8.7</td>\n",
       "      <td>8.7</td>\n",
       "      <td>9.2</td>\n",
       "      <td>9.2</td>\n",
       "      <td>9.4</td>\n",
       "      <td>9.8</td>\n",
       "      <td>10.2</td>\n",
       "      <td>9.5</td>\n",
       "    </tr>\n",
       "  </tbody>\n",
       "</table>\n",
       "</div>"
      ],
      "text/plain": [
       "                                name  mkb-10    2011    2012    2013    2014  \\\n",
       "0  Все злокачествен. новообразования  С00-96  2029.0  2091.9  2159.4  2252.4   \n",
       "1                               Губа     С00    41.9    40.2    37.7    36.8   \n",
       "2                        Полость рта  С01-09    23.1    23.3    24.4    25.2   \n",
       "3                             Глотка  С10-13    10.1    10.2    10.7    11.2   \n",
       "4                            Пищевод     С15     8.2     8.2     8.4     8.7   \n",
       "\n",
       "     2015    2016    2017    2018    2019    2020    2021  \n",
       "0  2325.2  2399.1  2472.4  2562.3  2676.6  2712.9  2690.5  \n",
       "1    34.9    32.9    30.5    29.1    27.5    26.1    22.5  \n",
       "2    25.9    26.6    27.2    28.5    29.7    30.8    30.8  \n",
       "3    11.5    11.7    11.9    12.3    12.7    13.2    12.8  \n",
       "4     8.7     9.2     9.2     9.4     9.8    10.2     9.5  "
      ]
     },
     "execution_count": 303,
     "metadata": {},
     "output_type": "execute_result"
    }
   ],
   "source": [
    "# переименуем колонки, удалим ненужную информацию\n",
    "data5 = data5.rename(columns = {'Unnamed: 0':'name','Unnamed: 1':'mkb-10','2021*':2021})\n",
    "data5 = data5.drop(index=25)\n",
    "data5.head()"
   ]
  },
  {
   "cell_type": "code",
   "execution_count": 304,
   "id": "0d831241",
   "metadata": {},
   "outputs": [
    {
     "name": "stdout",
     "output_type": "stream",
     "text": [
      "[-4.381468703794978, -4.259285816721679, -4.357691951468017, -4.302077783697373, -4.236194735936655, -4.314117794172777, -4.230707005338993, -4.316434453420733, -4.587910035119222, -4.312728076965642, -3.887753205723823]\n"
     ]
    }
   ],
   "source": [
    "# проверим показатель всего данный с расчетным\n",
    "rok = [2011, 2012, 2013, 2014, 2015, 2016, 2017, 2018, 2019, 2020, 2021]\n",
    "total = []\n",
    "for i in rok:\n",
    "    total.append((sum(data5[i]) - (2 * data5.loc[0,i])) / data5.loc[0,i] * 100)\n",
    "print(total) # на сколько % отличается данный параметр всего от расчетного по годам 2011-2021"
   ]
  },
  {
   "cell_type": "markdown",
   "id": "7f52332e",
   "metadata": {},
   "source": [
    "На 4,4% есть отличия в расчетах показателя всего от данного (Все злокачествен. новообразования), пренебрежем этими отклонениями, удалим данный показатель (впоследствии всего будет рассчитываться по сумме показателей)."
   ]
  },
  {
   "cell_type": "code",
   "execution_count": 305,
   "id": "00941f37",
   "metadata": {},
   "outputs": [],
   "source": [
    "data5 = data5.drop(index=0).reset_index(drop=True)"
   ]
  },
  {
   "cell_type": "code",
   "execution_count": 306,
   "id": "a92155fc",
   "metadata": {},
   "outputs": [
    {
     "data": {
      "text/html": [
       "<div>\n",
       "<style scoped>\n",
       "    .dataframe tbody tr th:only-of-type {\n",
       "        vertical-align: middle;\n",
       "    }\n",
       "\n",
       "    .dataframe tbody tr th {\n",
       "        vertical-align: top;\n",
       "    }\n",
       "\n",
       "    .dataframe thead th {\n",
       "        text-align: right;\n",
       "    }\n",
       "</style>\n",
       "<table border=\"1\" class=\"dataframe\">\n",
       "  <thead>\n",
       "    <tr style=\"text-align: right;\">\n",
       "      <th></th>\n",
       "      <th>name</th>\n",
       "      <th>mkb-10</th>\n",
       "      <th>2011</th>\n",
       "      <th>2012</th>\n",
       "      <th>2013</th>\n",
       "      <th>2014</th>\n",
       "      <th>2015</th>\n",
       "      <th>2016</th>\n",
       "      <th>2017</th>\n",
       "      <th>2018</th>\n",
       "      <th>2019</th>\n",
       "      <th>2020</th>\n",
       "      <th>2021</th>\n",
       "    </tr>\n",
       "  </thead>\n",
       "  <tbody>\n",
       "    <tr>\n",
       "      <th>0</th>\n",
       "      <td>Губа</td>\n",
       "      <td>С00</td>\n",
       "      <td>41.9</td>\n",
       "      <td>40.2</td>\n",
       "      <td>37.7</td>\n",
       "      <td>36.8</td>\n",
       "      <td>34.9</td>\n",
       "      <td>32.9</td>\n",
       "      <td>30.5</td>\n",
       "      <td>29.1</td>\n",
       "      <td>27.5</td>\n",
       "      <td>26.1</td>\n",
       "      <td>22.5</td>\n",
       "    </tr>\n",
       "    <tr>\n",
       "      <th>1</th>\n",
       "      <td>Полость рта</td>\n",
       "      <td>С01-09</td>\n",
       "      <td>23.1</td>\n",
       "      <td>23.3</td>\n",
       "      <td>24.4</td>\n",
       "      <td>25.2</td>\n",
       "      <td>25.9</td>\n",
       "      <td>26.6</td>\n",
       "      <td>27.2</td>\n",
       "      <td>28.5</td>\n",
       "      <td>29.7</td>\n",
       "      <td>30.8</td>\n",
       "      <td>30.8</td>\n",
       "    </tr>\n",
       "    <tr>\n",
       "      <th>2</th>\n",
       "      <td>Глотка</td>\n",
       "      <td>С10-13</td>\n",
       "      <td>10.1</td>\n",
       "      <td>10.2</td>\n",
       "      <td>10.7</td>\n",
       "      <td>11.2</td>\n",
       "      <td>11.5</td>\n",
       "      <td>11.7</td>\n",
       "      <td>11.9</td>\n",
       "      <td>12.3</td>\n",
       "      <td>12.7</td>\n",
       "      <td>13.2</td>\n",
       "      <td>12.8</td>\n",
       "    </tr>\n",
       "    <tr>\n",
       "      <th>3</th>\n",
       "      <td>Пищевод</td>\n",
       "      <td>С15</td>\n",
       "      <td>8.2</td>\n",
       "      <td>8.2</td>\n",
       "      <td>8.4</td>\n",
       "      <td>8.7</td>\n",
       "      <td>8.7</td>\n",
       "      <td>9.2</td>\n",
       "      <td>9.2</td>\n",
       "      <td>9.4</td>\n",
       "      <td>9.8</td>\n",
       "      <td>10.2</td>\n",
       "      <td>9.5</td>\n",
       "    </tr>\n",
       "    <tr>\n",
       "      <th>4</th>\n",
       "      <td>Желудок</td>\n",
       "      <td>С16</td>\n",
       "      <td>94.1</td>\n",
       "      <td>94.1</td>\n",
       "      <td>94.1</td>\n",
       "      <td>95.0</td>\n",
       "      <td>94.8</td>\n",
       "      <td>95.3</td>\n",
       "      <td>95.3</td>\n",
       "      <td>95.1</td>\n",
       "      <td>96.0</td>\n",
       "      <td>94.9</td>\n",
       "      <td>91.2</td>\n",
       "    </tr>\n",
       "  </tbody>\n",
       "</table>\n",
       "</div>"
      ],
      "text/plain": [
       "          name  mkb-10  2011  2012  2013  2014  2015  2016  2017  2018  2019  \\\n",
       "0         Губа     С00  41.9  40.2  37.7  36.8  34.9  32.9  30.5  29.1  27.5   \n",
       "1  Полость рта  С01-09  23.1  23.3  24.4  25.2  25.9  26.6  27.2  28.5  29.7   \n",
       "2       Глотка  С10-13  10.1  10.2  10.7  11.2  11.5  11.7  11.9  12.3  12.7   \n",
       "3      Пищевод     С15   8.2   8.2   8.4   8.7   8.7   9.2   9.2   9.4   9.8   \n",
       "4      Желудок     С16  94.1  94.1  94.1  95.0  94.8  95.3  95.3  95.1  96.0   \n",
       "\n",
       "   2020  2021  \n",
       "0  26.1  22.5  \n",
       "1  30.8  30.8  \n",
       "2  13.2  12.8  \n",
       "3  10.2   9.5  \n",
       "4  94.9  91.2  "
      ]
     },
     "execution_count": 306,
     "metadata": {},
     "output_type": "execute_result"
    }
   ],
   "source": [
    "data5.head()"
   ]
  },
  {
   "cell_type": "code",
   "execution_count": 307,
   "id": "3bc60a66",
   "metadata": {},
   "outputs": [],
   "source": [
    "# создадим функцию модификации таблицы типа одна строка - одно значение (для первых двух колонок object)\n",
    "def modify_2(table):    \n",
    "    list_x = [] # создадим список для мини таблиц одной из таблицы исходников\n",
    "    list_years = [2011,2012,2013,2014,2015,2016,2017,2018,2019,2020,2021]\n",
    "    for x in range(2,13): # перечислим все колонки с датой последовательно\n",
    "        y = table[['name', 'mkb-10']] # выберем первые 2 поля с названиями\n",
    "        y1 = y.copy()\n",
    "        y1['year'] = table.columns[x] # добавим колонку год\n",
    "        y1['result'] = table.iloc[:,x] # добавим колонку со значением и сохраним в переменной у\n",
    "        list_x.append(y1) # добавим в список наш татасет у\n",
    "    table_full = pd.concat(list_x, axis=0, ignore_index=True) # склеим мини таблицы в один датасет\n",
    "                                                              # (данные ровно одной исходной таблицы)\n",
    "    return table_full"
   ]
  },
  {
   "cell_type": "code",
   "execution_count": 308,
   "id": "5c07a03c",
   "metadata": {},
   "outputs": [
    {
     "name": "stdout",
     "output_type": "stream",
     "text": [
      "<class 'pandas.core.frame.DataFrame'>\n",
      "RangeIndex: 264 entries, 0 to 263\n",
      "Data columns (total 4 columns):\n",
      " #   Column  Non-Null Count  Dtype  \n",
      "---  ------  --------------  -----  \n",
      " 0   name    264 non-null    object \n",
      " 1   mkb-10  264 non-null    object \n",
      " 2   year    264 non-null    int64  \n",
      " 3   result  264 non-null    float64\n",
      "dtypes: float64(1), int64(1), object(2)\n",
      "memory usage: 8.4+ KB\n"
     ]
    }
   ],
   "source": [
    "# применим эту функцию к датасету data5 и заменим его\n",
    "data5 = modify_2(data5)\n",
    "data5.info()"
   ]
  },
  {
   "cell_type": "code",
   "execution_count": 309,
   "id": "837c04de",
   "metadata": {},
   "outputs": [],
   "source": [
    "# добавим код МКБ-10 в название, т.к. заказчик предпочел видеть его рядом с наименованием класса онкологического заболевания\n",
    "data5['name'] = data5['name'] + ', ' + data5['mkb-10']"
   ]
  },
  {
   "cell_type": "code",
   "execution_count": 310,
   "id": "526af576",
   "metadata": {},
   "outputs": [
    {
     "name": "stdout",
     "output_type": "stream",
     "text": [
      "<class 'pandas.core.frame.DataFrame'>\n",
      "RangeIndex: 264 entries, 0 to 263\n",
      "Data columns (total 4 columns):\n",
      " #   Column  Non-Null Count  Dtype  \n",
      "---  ------  --------------  -----  \n",
      " 0   name    264 non-null    object \n",
      " 1   mkb-10  264 non-null    object \n",
      " 2   year    264 non-null    int64  \n",
      " 3   result  264 non-null    float64\n",
      "dtypes: float64(1), int64(1), object(2)\n",
      "memory usage: 8.4+ KB\n"
     ]
    }
   ],
   "source": [
    "data5.info()"
   ]
  },
  {
   "cell_type": "markdown",
   "id": "46570934",
   "metadata": {},
   "source": [
    "<div style=\"border:solid black 2px; padding: 20px\">\n",
    "\n",
    "Таблица 5 готова, типы данных в порядке,  \n",
    "**2021 год рассчитан понаселению 2020 года!**"
   ]
  },
  {
   "cell_type": "markdown",
   "id": "656cf3f1",
   "metadata": {},
   "source": [
    "### Таблица 6"
   ]
  },
  {
   "cell_type": "code",
   "execution_count": 311,
   "id": "91a680f1",
   "metadata": {},
   "outputs": [],
   "source": [
    "# напишем функцию переименования колонок\n",
    "def rename_function(data):\n",
    "    data = data.rename(columns = {'Unnamed: 0':'name','Unnamed: 1':'mkb-10'})\n",
    "    return data"
   ]
  },
  {
   "cell_type": "code",
   "execution_count": 312,
   "id": "55f23654",
   "metadata": {},
   "outputs": [],
   "source": [
    "# заменим названия в колонках\n",
    "data6 = rename_function(data6)\n",
    "#data6 # Доля больных, состоявших на учете в онкологических учреждениях России 5 лет и более\n",
    "#с момента установления диагноза злокачественного новообразования, от числа состоявших на учете на конец отчетного года\n",
    "#в 2011-2021 гг., %"
   ]
  },
  {
   "cell_type": "code",
   "execution_count": 313,
   "id": "37375267",
   "metadata": {},
   "outputs": [
    {
     "data": {
      "text/html": [
       "<div>\n",
       "<style scoped>\n",
       "    .dataframe tbody tr th:only-of-type {\n",
       "        vertical-align: middle;\n",
       "    }\n",
       "\n",
       "    .dataframe tbody tr th {\n",
       "        vertical-align: top;\n",
       "    }\n",
       "\n",
       "    .dataframe thead th {\n",
       "        text-align: right;\n",
       "    }\n",
       "</style>\n",
       "<table border=\"1\" class=\"dataframe\">\n",
       "  <thead>\n",
       "    <tr style=\"text-align: right;\">\n",
       "      <th></th>\n",
       "      <th>name</th>\n",
       "      <th>mkb-10</th>\n",
       "      <th>2011</th>\n",
       "      <th>2012</th>\n",
       "      <th>2013</th>\n",
       "      <th>2014</th>\n",
       "      <th>2015</th>\n",
       "      <th>2016</th>\n",
       "      <th>2017</th>\n",
       "      <th>2018</th>\n",
       "      <th>2019</th>\n",
       "      <th>2020</th>\n",
       "      <th>2021</th>\n",
       "    </tr>\n",
       "  </thead>\n",
       "  <tbody>\n",
       "    <tr>\n",
       "      <th>0</th>\n",
       "      <td>Все злокачествен. новообразования</td>\n",
       "      <td>С00-96</td>\n",
       "      <td>51.3</td>\n",
       "      <td>51.1</td>\n",
       "      <td>51.7</td>\n",
       "      <td>52.4</td>\n",
       "      <td>52.9</td>\n",
       "      <td>53.3</td>\n",
       "      <td>53.9</td>\n",
       "      <td>54.5</td>\n",
       "      <td>55.3</td>\n",
       "      <td>56.6</td>\n",
       "      <td>57.4</td>\n",
       "    </tr>\n",
       "    <tr>\n",
       "      <th>1</th>\n",
       "      <td>Губа</td>\n",
       "      <td>С00</td>\n",
       "      <td>75.1</td>\n",
       "      <td>74.7</td>\n",
       "      <td>74.9</td>\n",
       "      <td>75.1</td>\n",
       "      <td>75.6</td>\n",
       "      <td>76.1</td>\n",
       "      <td>76.3</td>\n",
       "      <td>76.3</td>\n",
       "      <td>76.8</td>\n",
       "      <td>74.4</td>\n",
       "      <td>75.9</td>\n",
       "    </tr>\n",
       "    <tr>\n",
       "      <th>2</th>\n",
       "      <td>Полость рта</td>\n",
       "      <td>С01-09</td>\n",
       "      <td>49.6</td>\n",
       "      <td>48.9</td>\n",
       "      <td>48.2</td>\n",
       "      <td>49.0</td>\n",
       "      <td>50.5</td>\n",
       "      <td>50.8</td>\n",
       "      <td>51.8</td>\n",
       "      <td>51.9</td>\n",
       "      <td>52.2</td>\n",
       "      <td>52.0</td>\n",
       "      <td>52.3</td>\n",
       "    </tr>\n",
       "    <tr>\n",
       "      <th>3</th>\n",
       "      <td>Глотка</td>\n",
       "      <td>С10-13</td>\n",
       "      <td>41.2</td>\n",
       "      <td>39.9</td>\n",
       "      <td>39.8</td>\n",
       "      <td>40.2</td>\n",
       "      <td>40.4</td>\n",
       "      <td>40.4</td>\n",
       "      <td>41.9</td>\n",
       "      <td>42.6</td>\n",
       "      <td>43.6</td>\n",
       "      <td>43.2</td>\n",
       "      <td>43.4</td>\n",
       "    </tr>\n",
       "    <tr>\n",
       "      <th>4</th>\n",
       "      <td>Пищевод</td>\n",
       "      <td>С15</td>\n",
       "      <td>32.4</td>\n",
       "      <td>31.8</td>\n",
       "      <td>31.9</td>\n",
       "      <td>32.3</td>\n",
       "      <td>33.0</td>\n",
       "      <td>34.6</td>\n",
       "      <td>35.8</td>\n",
       "      <td>37.5</td>\n",
       "      <td>38.2</td>\n",
       "      <td>38.5</td>\n",
       "      <td>38.3</td>\n",
       "    </tr>\n",
       "  </tbody>\n",
       "</table>\n",
       "</div>"
      ],
      "text/plain": [
       "                                name  mkb-10  2011  2012  2013  2014  2015  \\\n",
       "0  Все злокачествен. новообразования  С00-96  51.3  51.1  51.7  52.4  52.9   \n",
       "1                               Губа     С00  75.1  74.7  74.9  75.1  75.6   \n",
       "2                        Полость рта  С01-09  49.6  48.9  48.2  49.0  50.5   \n",
       "3                             Глотка  С10-13  41.2  39.9  39.8  40.2  40.4   \n",
       "4                            Пищевод     С15  32.4  31.8  31.9  32.3  33.0   \n",
       "\n",
       "   2016  2017  2018  2019  2020  2021  \n",
       "0  53.3  53.9  54.5  55.3  56.6  57.4  \n",
       "1  76.1  76.3  76.3  76.8  74.4  75.9  \n",
       "2  50.8  51.8  51.9  52.2  52.0  52.3  \n",
       "3  40.4  41.9  42.6  43.6  43.2  43.4  \n",
       "4  34.6  35.8  37.5  38.2  38.5  38.3  "
      ]
     },
     "execution_count": 313,
     "metadata": {},
     "output_type": "execute_result"
    }
   ],
   "source": [
    "data6.head()"
   ]
  },
  {
   "cell_type": "code",
   "execution_count": 314,
   "id": "eb0c300c",
   "metadata": {},
   "outputs": [],
   "source": [
    "# применим функцию модификации датасета под ДатаЛенс\n",
    "data6 = modify_2(data6)"
   ]
  },
  {
   "cell_type": "code",
   "execution_count": 315,
   "id": "20ac771e",
   "metadata": {},
   "outputs": [],
   "source": [
    "data6['name'] = data6['name'] + ', ' + data6['mkb-10'] # добавим в название мкб-10"
   ]
  },
  {
   "cell_type": "code",
   "execution_count": 316,
   "id": "b0b96ae1",
   "metadata": {},
   "outputs": [
    {
     "name": "stdout",
     "output_type": "stream",
     "text": [
      "<class 'pandas.core.frame.DataFrame'>\n",
      "RangeIndex: 264 entries, 0 to 263\n",
      "Data columns (total 4 columns):\n",
      " #   Column  Non-Null Count  Dtype  \n",
      "---  ------  --------------  -----  \n",
      " 0   name    264 non-null    object \n",
      " 1   mkb-10  264 non-null    object \n",
      " 2   year    264 non-null    int64  \n",
      " 3   result  264 non-null    float64\n",
      "dtypes: float64(1), int64(1), object(2)\n",
      "memory usage: 8.4+ KB\n"
     ]
    }
   ],
   "source": [
    "data6.info()"
   ]
  },
  {
   "cell_type": "markdown",
   "id": "d04cfd6d",
   "metadata": {},
   "source": [
    "<div style=\"border:solid black 2px; padding: 20px\">\n",
    "\n",
    "Таблица 6 готова!\n",
    "    \n",
    "**C 2014 года в статистику вошли Крым и Севастополь!**"
   ]
  },
  {
   "cell_type": "markdown",
   "id": "a2b64e3a",
   "metadata": {},
   "source": [
    "### Таблица 7"
   ]
  },
  {
   "cell_type": "code",
   "execution_count": 317,
   "id": "5fac2910",
   "metadata": {},
   "outputs": [],
   "source": [
    "# редактируем имена колонок\n",
    "data7 = data7.rename(columns = {'Unnamed: 0':'name','Unnamed: 1':'mkb-10','2014*':2014,'2015*':2015,'2016*':2016,'2017*':2017,'2018*':2018})\n",
    "# удаляем ненужную строку описания и применяем к датасету изменения\n",
    "data7.drop(index=19, inplace=True)"
   ]
  },
  {
   "cell_type": "code",
   "execution_count": 318,
   "id": "a97db29f",
   "metadata": {},
   "outputs": [
    {
     "data": {
      "text/html": [
       "<div>\n",
       "<style scoped>\n",
       "    .dataframe tbody tr th:only-of-type {\n",
       "        vertical-align: middle;\n",
       "    }\n",
       "\n",
       "    .dataframe tbody tr th {\n",
       "        vertical-align: top;\n",
       "    }\n",
       "\n",
       "    .dataframe thead th {\n",
       "        text-align: right;\n",
       "    }\n",
       "</style>\n",
       "<table border=\"1\" class=\"dataframe\">\n",
       "  <thead>\n",
       "    <tr style=\"text-align: right;\">\n",
       "      <th></th>\n",
       "      <th>name</th>\n",
       "      <th>mkb-10</th>\n",
       "      <th>2011</th>\n",
       "      <th>2012</th>\n",
       "      <th>2013</th>\n",
       "      <th>2014</th>\n",
       "      <th>2015</th>\n",
       "      <th>2016</th>\n",
       "      <th>2017</th>\n",
       "      <th>2018</th>\n",
       "      <th>2019</th>\n",
       "      <th>2020</th>\n",
       "      <th>2021</th>\n",
       "    </tr>\n",
       "  </thead>\n",
       "  <tbody>\n",
       "    <tr>\n",
       "      <th>0</th>\n",
       "      <td>Все злокачественные новообразования (за исключ...</td>\n",
       "      <td>С00-96</td>\n",
       "      <td>64.7</td>\n",
       "      <td>64.5</td>\n",
       "      <td>65.5</td>\n",
       "      <td>66.7</td>\n",
       "      <td>67.1</td>\n",
       "      <td>67.4</td>\n",
       "      <td>68.0</td>\n",
       "      <td>68.8</td>\n",
       "      <td>69.9</td>\n",
       "      <td>69.6</td>\n",
       "      <td>67.5</td>\n",
       "    </tr>\n",
       "    <tr>\n",
       "      <th>1</th>\n",
       "      <td>Губа</td>\n",
       "      <td>С00</td>\n",
       "      <td>61.1</td>\n",
       "      <td>61.7</td>\n",
       "      <td>60.4</td>\n",
       "      <td>60.6</td>\n",
       "      <td>60.0</td>\n",
       "      <td>59.8</td>\n",
       "      <td>58.0</td>\n",
       "      <td>58.7</td>\n",
       "      <td>57.8</td>\n",
       "      <td>55.6</td>\n",
       "      <td>51.8</td>\n",
       "    </tr>\n",
       "    <tr>\n",
       "      <th>2</th>\n",
       "      <td>Полость рта и глотка</td>\n",
       "      <td>С01-14</td>\n",
       "      <td>54.3</td>\n",
       "      <td>52.5</td>\n",
       "      <td>53.0</td>\n",
       "      <td>53.4</td>\n",
       "      <td>54.3</td>\n",
       "      <td>55.3</td>\n",
       "      <td>57.2</td>\n",
       "      <td>57.3</td>\n",
       "      <td>57.9</td>\n",
       "      <td>57.9</td>\n",
       "      <td>56.5</td>\n",
       "    </tr>\n",
       "    <tr>\n",
       "      <th>3</th>\n",
       "      <td>Пищевод</td>\n",
       "      <td>С15</td>\n",
       "      <td>36.2</td>\n",
       "      <td>35.2</td>\n",
       "      <td>35.6</td>\n",
       "      <td>36.7</td>\n",
       "      <td>36.2</td>\n",
       "      <td>39.3</td>\n",
       "      <td>40.8</td>\n",
       "      <td>42.3</td>\n",
       "      <td>43.4</td>\n",
       "      <td>45.4</td>\n",
       "      <td>39.5</td>\n",
       "    </tr>\n",
       "    <tr>\n",
       "      <th>4</th>\n",
       "      <td>Желудок</td>\n",
       "      <td>С16</td>\n",
       "      <td>54.3</td>\n",
       "      <td>54.0</td>\n",
       "      <td>55.1</td>\n",
       "      <td>56.2</td>\n",
       "      <td>56.4</td>\n",
       "      <td>57.5</td>\n",
       "      <td>57.7</td>\n",
       "      <td>58.6</td>\n",
       "      <td>59.5</td>\n",
       "      <td>58.6</td>\n",
       "      <td>55.9</td>\n",
       "    </tr>\n",
       "  </tbody>\n",
       "</table>\n",
       "</div>"
      ],
      "text/plain": [
       "                                                name  mkb-10  2011  2012  \\\n",
       "0  Все злокачественные новообразования (за исключ...  С00-96  64.7  64.5   \n",
       "1                                               Губа     С00  61.1  61.7   \n",
       "2                               Полость рта и глотка  С01-14  54.3  52.5   \n",
       "3                                            Пищевод     С15  36.2  35.2   \n",
       "4                                            Желудок     С16  54.3  54.0   \n",
       "\n",
       "   2013  2014  2015  2016  2017  2018  2019  2020  2021  \n",
       "0  65.5  66.7  67.1  67.4  68.0  68.8  69.9  69.6  67.5  \n",
       "1  60.4  60.6  60.0  59.8  58.0  58.7  57.8  55.6  51.8  \n",
       "2  53.0  53.4  54.3  55.3  57.2  57.3  57.9  57.9  56.5  \n",
       "3  35.6  36.7  36.2  39.3  40.8  42.3  43.4  45.4  39.5  \n",
       "4  55.1  56.2  56.4  57.5  57.7  58.6  59.5  58.6  55.9  "
      ]
     },
     "execution_count": 318,
     "metadata": {},
     "output_type": "execute_result"
    }
   ],
   "source": [
    "data7.head()"
   ]
  },
  {
   "cell_type": "code",
   "execution_count": 319,
   "id": "d825a04b",
   "metadata": {},
   "outputs": [],
   "source": [
    "# модифицируем датасет известной функцией\n",
    "data7 = modify_2(data7)"
   ]
  },
  {
   "cell_type": "code",
   "execution_count": 320,
   "id": "6bf5c10c",
   "metadata": {},
   "outputs": [],
   "source": [
    "data7['name'] = data7['name'] + ', ' + data7['mkb-10']"
   ]
  },
  {
   "cell_type": "code",
   "execution_count": 321,
   "id": "da179b36",
   "metadata": {},
   "outputs": [
    {
     "name": "stdout",
     "output_type": "stream",
     "text": [
      "<class 'pandas.core.frame.DataFrame'>\n",
      "RangeIndex: 209 entries, 0 to 208\n",
      "Data columns (total 4 columns):\n",
      " #   Column  Non-Null Count  Dtype  \n",
      "---  ------  --------------  -----  \n",
      " 0   name    209 non-null    object \n",
      " 1   mkb-10  209 non-null    object \n",
      " 2   year    209 non-null    int64  \n",
      " 3   result  209 non-null    float64\n",
      "dtypes: float64(1), int64(1), object(2)\n",
      "memory usage: 6.7+ KB\n"
     ]
    }
   ],
   "source": [
    "data7.info()"
   ]
  },
  {
   "cell_type": "markdown",
   "id": "855a99aa",
   "metadata": {},
   "source": [
    "<div style=\"border:solid black 2px; padding: 20px\">\n",
    "\n",
    "Таблица 7 готова!\n",
    "    \n",
    "**C 2019 года в статистику вошли Крым и Севастополь!**"
   ]
  },
  {
   "cell_type": "markdown",
   "id": "9d882088",
   "metadata": {},
   "source": [
    "### Таблицы 8-10, 16"
   ]
  },
  {
   "cell_type": "code",
   "execution_count": 322,
   "id": "49656947",
   "metadata": {},
   "outputs": [],
   "source": [
    "# применим функцию переименования колонок\n",
    "data8, data9, data10, data16 = rename_function(data8), rename_function(data9), rename_function(data10), \\\n",
    "rename_function(data16)"
   ]
  },
  {
   "cell_type": "code",
   "execution_count": 323,
   "id": "daeba1b5",
   "metadata": {},
   "outputs": [],
   "source": [
    "# заменим \",\" на \".\" и изменим тип данных\n",
    "data16[2018] = data16[2018].astype('str')\n",
    "data16.loc[0,2018] = data16.loc[0,2018].replace(',', '.')\n",
    "data16[2018] = pd.to_numeric(data16[2018])"
   ]
  },
  {
   "cell_type": "code",
   "execution_count": 324,
   "id": "1766ec1c",
   "metadata": {},
   "outputs": [],
   "source": [
    "# пропущенные значения не являются нулевыми, заменим их на NaN,\n",
    "# впоследствии ДатаЛенс будет их игнорировать при построении графиков\n",
    "data16.loc[data16[2011] == '-', 2011] = np.nan\n",
    "# изменим тип данных колонки 2011\n",
    "data16[2011] = pd.to_numeric(data16[2011])"
   ]
  },
  {
   "cell_type": "code",
   "execution_count": 325,
   "id": "b2971efa",
   "metadata": {},
   "outputs": [],
   "source": [
    "# применим последовательно функцию модификации датасета\n",
    "data8, data9, data10, data16 = modify_2(data8), modify_2(data9), modify_2(data10), modify_2(data16)\n",
    "\n",
    "# добавим мкб-10 в название\n",
    "for n in data8, data9, data10, data16:\n",
    "    n['name'] = n['name'] + ', ' + n['mkb-10']"
   ]
  },
  {
   "cell_type": "code",
   "execution_count": 326,
   "id": "def7eb56",
   "metadata": {},
   "outputs": [],
   "source": [
    "# уберем строки с отсутствующими значениями и скинем индексы перезаписав их\n",
    "data16 = data16[data16['result'].notnull()].reset_index(drop=True)"
   ]
  },
  {
   "cell_type": "code",
   "execution_count": 327,
   "id": "7fed50cd",
   "metadata": {},
   "outputs": [
    {
     "name": "stdout",
     "output_type": "stream",
     "text": [
      "<class 'pandas.core.frame.DataFrame'>\n",
      "RangeIndex: 268 entries, 0 to 267\n",
      "Data columns (total 4 columns):\n",
      " #   Column  Non-Null Count  Dtype  \n",
      "---  ------  --------------  -----  \n",
      " 0   name    268 non-null    object \n",
      " 1   mkb-10  268 non-null    object \n",
      " 2   year    268 non-null    int64  \n",
      " 3   result  268 non-null    float64\n",
      "dtypes: float64(1), int64(1), object(2)\n",
      "memory usage: 8.5+ KB\n"
     ]
    }
   ],
   "source": [
    "data16.info()"
   ]
  },
  {
   "cell_type": "markdown",
   "id": "416f4e1c",
   "metadata": {},
   "source": [
    "<div style=\"border:solid black 2px; padding: 20px\">\n",
    "\n",
    "Таблицы 8-10, 16 готовы!"
   ]
  },
  {
   "cell_type": "markdown",
   "id": "31ed912e",
   "metadata": {},
   "source": [
    "### Таблицы 13-15"
   ]
  },
  {
   "cell_type": "code",
   "execution_count": 328,
   "id": "6066d2d3",
   "metadata": {},
   "outputs": [],
   "source": [
    "# изменим названия колонок\n",
    "data13, data14, data15 = rename_function(data13), rename_function(data14), rename_function(data15)"
   ]
  },
  {
   "cell_type": "markdown",
   "id": "d6b76b34",
   "metadata": {},
   "source": [
    "Создадим функцию для совмещения трех таблиц в одну по диагнозам поставленным на разных стадиях заболевания:"
   ]
  },
  {
   "cell_type": "code",
   "execution_count": 329,
   "id": "ea9243ff",
   "metadata": {},
   "outputs": [],
   "source": [
    "list_table = [] # список для нескольких преобразованных исходных таблиц\n",
    "i = 0 # создадим счетчик по которому определим с какой таблицей работает цикл\n",
    "\n",
    "for table in data13, data14, data15: # создадим цикл для совмещения нескольких таблиц\n",
    "    table_full = modify_2(table)\n",
    "    if i == 0:\n",
    "        table_full['class'] = 'I-II'\n",
    "    elif i == 1:\n",
    "        table_full['class'] = 'III'\n",
    "    elif i == 2:\n",
    "        table_full['class'] = 'IV'\n",
    "    i += 1\n",
    "    list_table.append(table_full) # добавляем несколько исходных таблиц в список\n",
    "df_1234 = pd.concat(list_table, axis=0, ignore_index=True) # склеиваем несколько исходных таблиц в один датасет"
   ]
  },
  {
   "cell_type": "code",
   "execution_count": 330,
   "id": "c8880fc6",
   "metadata": {},
   "outputs": [],
   "source": [
    "# добавим мкб-10\n",
    "df_1234['name'] = df_1234['name'] + ', ' + df_1234['mkb-10']"
   ]
  },
  {
   "cell_type": "code",
   "execution_count": 331,
   "id": "e5d53280",
   "metadata": {},
   "outputs": [
    {
     "name": "stdout",
     "output_type": "stream",
     "text": [
      "<class 'pandas.core.frame.DataFrame'>\n",
      "RangeIndex: 825 entries, 0 to 824\n",
      "Data columns (total 5 columns):\n",
      " #   Column  Non-Null Count  Dtype  \n",
      "---  ------  --------------  -----  \n",
      " 0   name    825 non-null    object \n",
      " 1   mkb-10  825 non-null    object \n",
      " 2   year    825 non-null    int64  \n",
      " 3   result  825 non-null    float64\n",
      " 4   class   825 non-null    object \n",
      "dtypes: float64(1), int64(1), object(3)\n",
      "memory usage: 32.4+ KB\n"
     ]
    }
   ],
   "source": [
    "df_1234.info() # собранные таблицы 13-15"
   ]
  },
  {
   "cell_type": "markdown",
   "id": "e5a36a47",
   "metadata": {},
   "source": [
    "<div style=\"border:solid black 2px; padding: 20px\">\n",
    "\n",
    "Датасет df_1234 из таблиц 13-15 готов!"
   ]
  },
  {
   "cell_type": "markdown",
   "id": "4a6a3f62",
   "metadata": {},
   "source": [
    "### Таблицы 11-12"
   ]
  },
  {
   "cell_type": "code",
   "execution_count": 332,
   "id": "c260a5a2",
   "metadata": {},
   "outputs": [],
   "source": [
    "# переименуем первую колонку\n",
    "data11 = data11.rename(columns = {'Unnamed: 0':'name'})\n",
    "data12 = data12.rename(columns = {'Unnamed: 0':'name'})"
   ]
  },
  {
   "cell_type": "code",
   "execution_count": 333,
   "id": "14bf4d2c",
   "metadata": {},
   "outputs": [],
   "source": [
    "# уберем переносы в тексте\n",
    "data11.iloc[:,0] = data11.iloc[:,0].str.replace('- ','')"
   ]
  },
  {
   "cell_type": "code",
   "execution_count": 334,
   "id": "7004e2fd",
   "metadata": {},
   "outputs": [],
   "source": [
    "# создадим функцию модификации таблицы типа одна строка - одно значение (для одной колонки object)\n",
    "def modify_1(table):    \n",
    "    list_x = [] # создадим список для мини таблиц одной из таблицы исходников\n",
    "    for x in range(1,12): # перечислим все колонки с датой последовательно\n",
    "        y = table[['name']] # выберем поле с названием\n",
    "        y1 = y.copy()\n",
    "        y1['year'] = table.columns[x] # добавим колонку год\n",
    "        y1['result'] = table.iloc[:,x] # добавим колонку со значением и сохраним в переменной у\n",
    "        list_x.append(y1) # добавим в список наш татасет у\n",
    "    table_full = pd.concat(list_x, axis=0, ignore_index=True) # склеим мини таблицы в один датасет\n",
    "                                                              # (данные ровно одной исходной таблицы)\n",
    "    return table_full"
   ]
  },
  {
   "cell_type": "code",
   "execution_count": 335,
   "id": "762f2e0f",
   "metadata": {},
   "outputs": [],
   "source": [
    "# применим выше написанную функцию\n",
    "data11 = modify_1(data11)\n",
    "data12 = modify_1(data12)"
   ]
  },
  {
   "cell_type": "code",
   "execution_count": 336,
   "id": "a8a6bca5",
   "metadata": {},
   "outputs": [
    {
     "name": "stdout",
     "output_type": "stream",
     "text": [
      "                                                name  year  result\n",
      "0  Доля больных с I-II стадией заболевания, выявл...  2011    19.2\n",
      "1  Доля больных с I-II стадией заболевания, выявл...  2011    67.2\n",
      "2  Доля больных с ЗНО визуальных локализаций от ч...  2011    64.8\n",
      "3  Доля больных с I-II стадией заболевания, выявл...  2012    21.3\n",
      "4  Доля больных с I-II стадией заболевания, выявл...  2012    73.1\n",
      "                                                name  year   result\n",
      "0  Абсолютное число ЗНО шейки матки (С53) (без вы...  2011  14617.0\n",
      "1  Абсолютное число новообразований in situ\\nшейк...  2011   3144.0\n",
      "2                       на 100 ЗНО шейки матки (С53)  2011     21.3\n",
      "3  Абсолютное число ЗНО шейки матки (С53) (без вы...  2012  14865.0\n",
      "4  Абсолютное число новообразований in situ\\nшейк...  2012   3585.0\n"
     ]
    }
   ],
   "source": [
    "print(data11.head())\n",
    "print(data12.head())"
   ]
  },
  {
   "cell_type": "markdown",
   "id": "0d3dbff9",
   "metadata": {},
   "source": [
    "<div style=\"border:solid black 2px; padding: 20px\">\n",
    "\n",
    "Таблицы 11-12 готовы!"
   ]
  },
  {
   "cell_type": "markdown",
   "id": "c8b9d95e",
   "metadata": {},
   "source": [
    "### Таблица 17"
   ]
  },
  {
   "cell_type": "code",
   "execution_count": 337,
   "id": "b65351b3",
   "metadata": {},
   "outputs": [
    {
     "data": {
      "text/html": [
       "<div>\n",
       "<style scoped>\n",
       "    .dataframe tbody tr th:only-of-type {\n",
       "        vertical-align: middle;\n",
       "    }\n",
       "\n",
       "    .dataframe tbody tr th {\n",
       "        vertical-align: top;\n",
       "    }\n",
       "\n",
       "    .dataframe thead th {\n",
       "        text-align: right;\n",
       "    }\n",
       "</style>\n",
       "<table border=\"1\" class=\"dataframe\">\n",
       "  <thead>\n",
       "    <tr style=\"text-align: right;\">\n",
       "      <th></th>\n",
       "      <th>Unnamed: 0</th>\n",
       "      <th>Unnamed: 1</th>\n",
       "      <th>Unnamed: 2</th>\n",
       "      <th>Unnamed: 3</th>\n",
       "      <th>I-II</th>\n",
       "      <th>III</th>\n",
       "      <th>IV</th>\n",
       "      <th>не  ус- танов- лена</th>\n",
       "      <th>Unnamed: 8</th>\n",
       "      <th>Unnamed: 9</th>\n",
       "      <th>Unnamed: 10</th>\n",
       "      <th>Unnamed: 11</th>\n",
       "      <th>Unnamed: 12</th>\n",
       "      <th>Unnamed: 13</th>\n",
       "      <th>Unnamed: 14</th>\n",
       "    </tr>\n",
       "  </thead>\n",
       "  <tbody>\n",
       "    <tr>\n",
       "      <th>0</th>\n",
       "      <td>2011</td>\n",
       "      <td>2621.0</td>\n",
       "      <td>3.7</td>\n",
       "      <td>92.4</td>\n",
       "      <td>27.0</td>\n",
       "      <td>11.8</td>\n",
       "      <td>8.1</td>\n",
       "      <td>43.0</td>\n",
       "      <td>11.2</td>\n",
       "      <td>4.2</td>\n",
       "      <td>14083.0</td>\n",
       "      <td>64</td>\n",
       "      <td>5054.0</td>\n",
       "      <td>35.9</td>\n",
       "      <td>5.4</td>\n",
       "    </tr>\n",
       "    <tr>\n",
       "      <th>1</th>\n",
       "      <td>2012</td>\n",
       "      <td>2682.0</td>\n",
       "      <td>3.0</td>\n",
       "      <td>93.2</td>\n",
       "      <td>22.9</td>\n",
       "      <td>11.4</td>\n",
       "      <td>9.0</td>\n",
       "      <td>56.7</td>\n",
       "      <td>10.8</td>\n",
       "      <td>3.9</td>\n",
       "      <td>14858.0</td>\n",
       "      <td>66</td>\n",
       "      <td>5400.0</td>\n",
       "      <td>36.3</td>\n",
       "      <td>5.5</td>\n",
       "    </tr>\n",
       "    <tr>\n",
       "      <th>2</th>\n",
       "      <td>2013</td>\n",
       "      <td>2819.0</td>\n",
       "      <td>5.4</td>\n",
       "      <td>89.6</td>\n",
       "      <td>23.1</td>\n",
       "      <td>10.5</td>\n",
       "      <td>9.3</td>\n",
       "      <td>57.1</td>\n",
       "      <td>12.2</td>\n",
       "      <td>3.8</td>\n",
       "      <td>15360.0</td>\n",
       "      <td>66.5</td>\n",
       "      <td>5536.0</td>\n",
       "      <td>36.0</td>\n",
       "      <td>5.5</td>\n",
       "    </tr>\n",
       "    <tr>\n",
       "      <th>3</th>\n",
       "      <td>2014</td>\n",
       "      <td>3003.0</td>\n",
       "      <td>4.5</td>\n",
       "      <td>89.6</td>\n",
       "      <td>22.9</td>\n",
       "      <td>10.4</td>\n",
       "      <td>8.6</td>\n",
       "      <td>58.2</td>\n",
       "      <td>9.5</td>\n",
       "      <td>3.4</td>\n",
       "      <td>16540.0</td>\n",
       "      <td>68.7</td>\n",
       "      <td>6143.0</td>\n",
       "      <td>37.1</td>\n",
       "      <td>5.5</td>\n",
       "    </tr>\n",
       "    <tr>\n",
       "      <th>4</th>\n",
       "      <td>2015</td>\n",
       "      <td>3102.0</td>\n",
       "      <td>4.9</td>\n",
       "      <td>92.6</td>\n",
       "      <td>21.1</td>\n",
       "      <td>9.0</td>\n",
       "      <td>8.6</td>\n",
       "      <td>61.3</td>\n",
       "      <td>9.3</td>\n",
       "      <td>3.4</td>\n",
       "      <td>17515.0</td>\n",
       "      <td>70.9</td>\n",
       "      <td>6648.0</td>\n",
       "      <td>38.0</td>\n",
       "      <td>5.6</td>\n",
       "    </tr>\n",
       "    <tr>\n",
       "      <th>5</th>\n",
       "      <td>2016</td>\n",
       "      <td>3220.0</td>\n",
       "      <td>5.0</td>\n",
       "      <td>93.4</td>\n",
       "      <td>22.7</td>\n",
       "      <td>9.7</td>\n",
       "      <td>9.7</td>\n",
       "      <td>58.0</td>\n",
       "      <td>8.8</td>\n",
       "      <td>3.0</td>\n",
       "      <td>19136.0</td>\n",
       "      <td>75.7</td>\n",
       "      <td>7532.0</td>\n",
       "      <td>39.4</td>\n",
       "      <td>5.9</td>\n",
       "    </tr>\n",
       "    <tr>\n",
       "      <th>6</th>\n",
       "      <td>2017</td>\n",
       "      <td>3279.0</td>\n",
       "      <td>5.2</td>\n",
       "      <td>95.5</td>\n",
       "      <td>23.5</td>\n",
       "      <td>9.7</td>\n",
       "      <td>8.5</td>\n",
       "      <td>58.3</td>\n",
       "      <td>9.3</td>\n",
       "      <td>2.7</td>\n",
       "      <td>20370.0</td>\n",
       "      <td>79.3</td>\n",
       "      <td>8488.0</td>\n",
       "      <td>41.7</td>\n",
       "      <td>6.2</td>\n",
       "    </tr>\n",
       "    <tr>\n",
       "      <th>7</th>\n",
       "      <td>2018</td>\n",
       "      <td>3214.0</td>\n",
       "      <td>5.6</td>\n",
       "      <td>95.1</td>\n",
       "      <td>23.9</td>\n",
       "      <td>8.1</td>\n",
       "      <td>9.0</td>\n",
       "      <td>59.1</td>\n",
       "      <td>8.4</td>\n",
       "      <td>2.6</td>\n",
       "      <td>21248.0</td>\n",
       "      <td>82.1</td>\n",
       "      <td>8751.0</td>\n",
       "      <td>41.2</td>\n",
       "      <td>6.6</td>\n",
       "    </tr>\n",
       "    <tr>\n",
       "      <th>8</th>\n",
       "      <td>2019</td>\n",
       "      <td>3115.0</td>\n",
       "      <td>4.0</td>\n",
       "      <td>95.5</td>\n",
       "      <td>23.7</td>\n",
       "      <td>9.6</td>\n",
       "      <td>9.1</td>\n",
       "      <td>57.6</td>\n",
       "      <td>7.6</td>\n",
       "      <td>2.3</td>\n",
       "      <td>21855.0</td>\n",
       "      <td>84.4</td>\n",
       "      <td>9373.0</td>\n",
       "      <td>42.9</td>\n",
       "      <td>7.0</td>\n",
       "    </tr>\n",
       "    <tr>\n",
       "      <th>9</th>\n",
       "      <td>2020</td>\n",
       "      <td>3110.0</td>\n",
       "      <td>5.9</td>\n",
       "      <td>95.2</td>\n",
       "      <td>21.4</td>\n",
       "      <td>6.8</td>\n",
       "      <td>9.6</td>\n",
       "      <td>62.2</td>\n",
       "      <td>7.7</td>\n",
       "      <td>2.5</td>\n",
       "      <td>22566.0</td>\n",
       "      <td>87.1</td>\n",
       "      <td>9893.0</td>\n",
       "      <td>43.8</td>\n",
       "      <td>7.3</td>\n",
       "    </tr>\n",
       "    <tr>\n",
       "      <th>10</th>\n",
       "      <td>2021</td>\n",
       "      <td>2928.0</td>\n",
       "      <td>5.8</td>\n",
       "      <td>95.8</td>\n",
       "      <td>25.0</td>\n",
       "      <td>7.4</td>\n",
       "      <td>8.9</td>\n",
       "      <td>58.7</td>\n",
       "      <td>7.0</td>\n",
       "      <td>2.2</td>\n",
       "      <td>22905.0</td>\n",
       "      <td>88,4*</td>\n",
       "      <td>10464.0</td>\n",
       "      <td>45.7</td>\n",
       "      <td>7.8</td>\n",
       "    </tr>\n",
       "    <tr>\n",
       "      <th>11</th>\n",
       "      <td>*использована численность населения 2020 г.</td>\n",
       "      <td>NaN</td>\n",
       "      <td>NaN</td>\n",
       "      <td>NaN</td>\n",
       "      <td>NaN</td>\n",
       "      <td>NaN</td>\n",
       "      <td>NaN</td>\n",
       "      <td>NaN</td>\n",
       "      <td>NaN</td>\n",
       "      <td>NaN</td>\n",
       "      <td>NaN</td>\n",
       "      <td>NaN</td>\n",
       "      <td>NaN</td>\n",
       "      <td>NaN</td>\n",
       "      <td>NaN</td>\n",
       "    </tr>\n",
       "  </tbody>\n",
       "</table>\n",
       "</div>"
      ],
      "text/plain": [
       "                                     Unnamed: 0  Unnamed: 1  Unnamed: 2  \\\n",
       "0                                          2011      2621.0         3.7   \n",
       "1                                          2012      2682.0         3.0   \n",
       "2                                          2013      2819.0         5.4   \n",
       "3                                          2014      3003.0         4.5   \n",
       "4                                          2015      3102.0         4.9   \n",
       "5                                          2016      3220.0         5.0   \n",
       "6                                          2017      3279.0         5.2   \n",
       "7                                          2018      3214.0         5.6   \n",
       "8                                          2019      3115.0         4.0   \n",
       "9                                          2020      3110.0         5.9   \n",
       "10                                         2021      2928.0         5.8   \n",
       "11  *использована численность населения 2020 г.         NaN         NaN   \n",
       "\n",
       "    Unnamed: 3  I-II   III   IV  не  ус- танов- лена  Unnamed: 8  Unnamed: 9  \\\n",
       "0         92.4  27.0  11.8  8.1                 43.0        11.2         4.2   \n",
       "1         93.2  22.9  11.4  9.0                 56.7        10.8         3.9   \n",
       "2         89.6  23.1  10.5  9.3                 57.1        12.2         3.8   \n",
       "3         89.6  22.9  10.4  8.6                 58.2         9.5         3.4   \n",
       "4         92.6  21.1   9.0  8.6                 61.3         9.3         3.4   \n",
       "5         93.4  22.7   9.7  9.7                 58.0         8.8         3.0   \n",
       "6         95.5  23.5   9.7  8.5                 58.3         9.3         2.7   \n",
       "7         95.1  23.9   8.1  9.0                 59.1         8.4         2.6   \n",
       "8         95.5  23.7   9.6  9.1                 57.6         7.6         2.3   \n",
       "9         95.2  21.4   6.8  9.6                 62.2         7.7         2.5   \n",
       "10        95.8  25.0   7.4  8.9                 58.7         7.0         2.2   \n",
       "11         NaN   NaN   NaN  NaN                  NaN         NaN         NaN   \n",
       "\n",
       "    Unnamed: 10 Unnamed: 11  Unnamed: 12  Unnamed: 13  Unnamed: 14  \n",
       "0       14083.0          64       5054.0         35.9          5.4  \n",
       "1       14858.0          66       5400.0         36.3          5.5  \n",
       "2       15360.0        66.5       5536.0         36.0          5.5  \n",
       "3       16540.0        68.7       6143.0         37.1          5.5  \n",
       "4       17515.0        70.9       6648.0         38.0          5.6  \n",
       "5       19136.0        75.7       7532.0         39.4          5.9  \n",
       "6       20370.0        79.3       8488.0         41.7          6.2  \n",
       "7       21248.0        82.1       8751.0         41.2          6.6  \n",
       "8       21855.0        84.4       9373.0         42.9          7.0  \n",
       "9       22566.0        87.1       9893.0         43.8          7.3  \n",
       "10      22905.0       88,4*      10464.0         45.7          7.8  \n",
       "11          NaN         NaN          NaN          NaN          NaN  "
      ]
     },
     "execution_count": 337,
     "metadata": {},
     "output_type": "execute_result"
    }
   ],
   "source": [
    "data17"
   ]
  },
  {
   "cell_type": "code",
   "execution_count": 338,
   "id": "07b5b520",
   "metadata": {},
   "outputs": [],
   "source": [
    "# удалим лишнюю стороку и применим изменение\n",
    "data17.drop(index=11, inplace=True)"
   ]
  },
  {
   "cell_type": "code",
   "execution_count": 339,
   "id": "5767bef6",
   "metadata": {},
   "outputs": [],
   "source": [
    "# переименуем колонки\n",
    "data17 = data17.rename(columns = {'Unnamed: 0':'year','Unnamed: 1':\\\n",
    "                         'Абсолютное число больных с впервые в жизни установленным диагнозом',\\\n",
    "                         'Unnamed: 2':'Выявлено АКТИВНО',\\\n",
    "                         'Unnamed: 3':'Подтверждено МОРФОЛОГИЧЕСКИ',\\\n",
    "                         'не  ус- танов- лена':'не установлена',\\\n",
    "                         'Unnamed: 8':'Летальность на первом году с момента установления диагноза, %',\\\n",
    "                         'Unnamed: 9':'Летальность, %',\\\n",
    "                         'Unnamed: 10': 'Количество под наблюдением на конец года','Unnamed: 11':'Численность контингента \\\n",
    "                         больных на 100 тыс. детского населения','Unnamed: 12':'5 лет и более \\\n",
    "                         находились под наблюдением','Unnamed: 13':\\\n",
    "                         '5 лет и более находились под наблюдением, %','Unnamed: 14':\\\n",
    "                         'Индекс накопления контингента больных'\n",
    "                        })"
   ]
  },
  {
   "cell_type": "code",
   "execution_count": 340,
   "id": "d0052046",
   "metadata": {},
   "outputs": [
    {
     "data": {
      "text/plain": [
       "0        64\n",
       "1        66\n",
       "2      66.5\n",
       "3      68.7\n",
       "4      70.9\n",
       "5      75.7\n",
       "6      79.3\n",
       "7      82.1\n",
       "8      84.4\n",
       "9      87.1\n",
       "10    88,4*\n",
       "Name: Численность контингента                          больных на 100 тыс. детского населения, dtype: object"
      ]
     },
     "execution_count": 340,
     "metadata": {},
     "output_type": "execute_result"
    }
   ],
   "source": [
    "# просмотрим 12-ую колонку\n",
    "data17.iloc[:,11]"
   ]
  },
  {
   "cell_type": "code",
   "execution_count": 341,
   "id": "6f91fa3c",
   "metadata": {},
   "outputs": [],
   "source": [
    "# переназначим символы в строках\n",
    "data17.iloc[10,11] = data17.iloc[10,11].replace(',','.')\n",
    "data17.iloc[10,11] = data17.iloc[10,11].replace('*','')"
   ]
  },
  {
   "cell_type": "code",
   "execution_count": 342,
   "id": "7c88df2e",
   "metadata": {},
   "outputs": [],
   "source": [
    "# изменим тип данных\n",
    "data17.iloc[:,11] = pd.to_numeric(data17.iloc[:,11])"
   ]
  },
  {
   "cell_type": "code",
   "execution_count": 343,
   "id": "4bbeae58",
   "metadata": {},
   "outputs": [
    {
     "name": "stdout",
     "output_type": "stream",
     "text": [
      "<class 'pandas.core.frame.DataFrame'>\n",
      "RangeIndex: 11 entries, 0 to 10\n",
      "Data columns (total 15 columns):\n",
      " #   Column                                                                                   Non-Null Count  Dtype  \n",
      "---  ------                                                                                   --------------  -----  \n",
      " 0   year                                                                                     11 non-null     object \n",
      " 1   Абсолютное число больных с впервые в жизни установленным диагнозом                       11 non-null     float64\n",
      " 2   Выявлено АКТИВНО                                                                         11 non-null     float64\n",
      " 3   Подтверждено МОРФОЛОГИЧЕСКИ                                                              11 non-null     float64\n",
      " 4   I-II                                                                                     11 non-null     float64\n",
      " 5   III                                                                                      11 non-null     float64\n",
      " 6   IV                                                                                       11 non-null     float64\n",
      " 7   не установлена                                                                           11 non-null     float64\n",
      " 8   Летальность на первом году с момента установления диагноза, %                            11 non-null     float64\n",
      " 9   Летальность, %                                                                           11 non-null     float64\n",
      " 10  Количество под наблюдением на конец года                                                 11 non-null     float64\n",
      " 11  Численность контингента                          больных на 100 тыс. детского населения  11 non-null     float64\n",
      " 12  5 лет и более                          находились под наблюдением                        11 non-null     float64\n",
      " 13  5 лет и более находились под наблюдением, %                                              11 non-null     float64\n",
      " 14  Индекс накопления контингента больных                                                    11 non-null     float64\n",
      "dtypes: float64(14), object(1)\n",
      "memory usage: 1.4+ KB\n"
     ]
    }
   ],
   "source": [
    "data17.info()"
   ]
  },
  {
   "cell_type": "code",
   "execution_count": 344,
   "id": "4aad16c9",
   "metadata": {},
   "outputs": [
    {
     "data": {
      "text/html": [
       "<div>\n",
       "<style scoped>\n",
       "    .dataframe tbody tr th:only-of-type {\n",
       "        vertical-align: middle;\n",
       "    }\n",
       "\n",
       "    .dataframe tbody tr th {\n",
       "        vertical-align: top;\n",
       "    }\n",
       "\n",
       "    .dataframe thead th {\n",
       "        text-align: right;\n",
       "    }\n",
       "</style>\n",
       "<table border=\"1\" class=\"dataframe\">\n",
       "  <thead>\n",
       "    <tr style=\"text-align: right;\">\n",
       "      <th></th>\n",
       "      <th>year</th>\n",
       "      <th>Абсолютное число больных с впервые в жизни установленным диагнозом</th>\n",
       "      <th>Выявлено АКТИВНО</th>\n",
       "      <th>Подтверждено МОРФОЛОГИЧЕСКИ</th>\n",
       "      <th>I-II</th>\n",
       "      <th>III</th>\n",
       "      <th>IV</th>\n",
       "      <th>не установлена</th>\n",
       "      <th>Летальность на первом году с момента установления диагноза, %</th>\n",
       "      <th>Летальность, %</th>\n",
       "      <th>Количество под наблюдением на конец года</th>\n",
       "      <th>Численность контингента                          больных на 100 тыс. детского населения</th>\n",
       "      <th>5 лет и более                          находились под наблюдением</th>\n",
       "      <th>5 лет и более находились под наблюдением, %</th>\n",
       "      <th>Индекс накопления контингента больных</th>\n",
       "    </tr>\n",
       "  </thead>\n",
       "  <tbody>\n",
       "    <tr>\n",
       "      <th>0</th>\n",
       "      <td>2011</td>\n",
       "      <td>2621.0</td>\n",
       "      <td>3.7</td>\n",
       "      <td>92.4</td>\n",
       "      <td>27.0</td>\n",
       "      <td>11.8</td>\n",
       "      <td>8.1</td>\n",
       "      <td>43.0</td>\n",
       "      <td>11.2</td>\n",
       "      <td>4.2</td>\n",
       "      <td>14083.0</td>\n",
       "      <td>64.0</td>\n",
       "      <td>5054.0</td>\n",
       "      <td>35.9</td>\n",
       "      <td>5.4</td>\n",
       "    </tr>\n",
       "    <tr>\n",
       "      <th>1</th>\n",
       "      <td>2012</td>\n",
       "      <td>2682.0</td>\n",
       "      <td>3.0</td>\n",
       "      <td>93.2</td>\n",
       "      <td>22.9</td>\n",
       "      <td>11.4</td>\n",
       "      <td>9.0</td>\n",
       "      <td>56.7</td>\n",
       "      <td>10.8</td>\n",
       "      <td>3.9</td>\n",
       "      <td>14858.0</td>\n",
       "      <td>66.0</td>\n",
       "      <td>5400.0</td>\n",
       "      <td>36.3</td>\n",
       "      <td>5.5</td>\n",
       "    </tr>\n",
       "    <tr>\n",
       "      <th>2</th>\n",
       "      <td>2013</td>\n",
       "      <td>2819.0</td>\n",
       "      <td>5.4</td>\n",
       "      <td>89.6</td>\n",
       "      <td>23.1</td>\n",
       "      <td>10.5</td>\n",
       "      <td>9.3</td>\n",
       "      <td>57.1</td>\n",
       "      <td>12.2</td>\n",
       "      <td>3.8</td>\n",
       "      <td>15360.0</td>\n",
       "      <td>66.5</td>\n",
       "      <td>5536.0</td>\n",
       "      <td>36.0</td>\n",
       "      <td>5.5</td>\n",
       "    </tr>\n",
       "    <tr>\n",
       "      <th>3</th>\n",
       "      <td>2014</td>\n",
       "      <td>3003.0</td>\n",
       "      <td>4.5</td>\n",
       "      <td>89.6</td>\n",
       "      <td>22.9</td>\n",
       "      <td>10.4</td>\n",
       "      <td>8.6</td>\n",
       "      <td>58.2</td>\n",
       "      <td>9.5</td>\n",
       "      <td>3.4</td>\n",
       "      <td>16540.0</td>\n",
       "      <td>68.7</td>\n",
       "      <td>6143.0</td>\n",
       "      <td>37.1</td>\n",
       "      <td>5.5</td>\n",
       "    </tr>\n",
       "    <tr>\n",
       "      <th>4</th>\n",
       "      <td>2015</td>\n",
       "      <td>3102.0</td>\n",
       "      <td>4.9</td>\n",
       "      <td>92.6</td>\n",
       "      <td>21.1</td>\n",
       "      <td>9.0</td>\n",
       "      <td>8.6</td>\n",
       "      <td>61.3</td>\n",
       "      <td>9.3</td>\n",
       "      <td>3.4</td>\n",
       "      <td>17515.0</td>\n",
       "      <td>70.9</td>\n",
       "      <td>6648.0</td>\n",
       "      <td>38.0</td>\n",
       "      <td>5.6</td>\n",
       "    </tr>\n",
       "  </tbody>\n",
       "</table>\n",
       "</div>"
      ],
      "text/plain": [
       "   year  Абсолютное число больных с впервые в жизни установленным диагнозом  \\\n",
       "0  2011                                             2621.0                    \n",
       "1  2012                                             2682.0                    \n",
       "2  2013                                             2819.0                    \n",
       "3  2014                                             3003.0                    \n",
       "4  2015                                             3102.0                    \n",
       "\n",
       "   Выявлено АКТИВНО  Подтверждено МОРФОЛОГИЧЕСКИ  I-II   III   IV  \\\n",
       "0               3.7                         92.4  27.0  11.8  8.1   \n",
       "1               3.0                         93.2  22.9  11.4  9.0   \n",
       "2               5.4                         89.6  23.1  10.5  9.3   \n",
       "3               4.5                         89.6  22.9  10.4  8.6   \n",
       "4               4.9                         92.6  21.1   9.0  8.6   \n",
       "\n",
       "   не установлена  \\\n",
       "0            43.0   \n",
       "1            56.7   \n",
       "2            57.1   \n",
       "3            58.2   \n",
       "4            61.3   \n",
       "\n",
       "   Летальность на первом году с момента установления диагноза, %  \\\n",
       "0                                               11.2               \n",
       "1                                               10.8               \n",
       "2                                               12.2               \n",
       "3                                                9.5               \n",
       "4                                                9.3               \n",
       "\n",
       "   Летальность, %  Количество под наблюдением на конец года  \\\n",
       "0             4.2                                   14083.0   \n",
       "1             3.9                                   14858.0   \n",
       "2             3.8                                   15360.0   \n",
       "3             3.4                                   16540.0   \n",
       "4             3.4                                   17515.0   \n",
       "\n",
       "   Численность контингента                          больных на 100 тыс. детского населения  \\\n",
       "0                                               64.0                                         \n",
       "1                                               66.0                                         \n",
       "2                                               66.5                                         \n",
       "3                                               68.7                                         \n",
       "4                                               70.9                                         \n",
       "\n",
       "   5 лет и более                          находились под наблюдением  \\\n",
       "0                                             5054.0                   \n",
       "1                                             5400.0                   \n",
       "2                                             5536.0                   \n",
       "3                                             6143.0                   \n",
       "4                                             6648.0                   \n",
       "\n",
       "   5 лет и более находились под наблюдением, %  \\\n",
       "0                                         35.9   \n",
       "1                                         36.3   \n",
       "2                                         36.0   \n",
       "3                                         37.1   \n",
       "4                                         38.0   \n",
       "\n",
       "   Индекс накопления контингента больных  \n",
       "0                                    5.4  \n",
       "1                                    5.5  \n",
       "2                                    5.5  \n",
       "3                                    5.5  \n",
       "4                                    5.6  "
      ]
     },
     "execution_count": 344,
     "metadata": {},
     "output_type": "execute_result"
    }
   ],
   "source": [
    "data17.head()"
   ]
  },
  {
   "cell_type": "code",
   "execution_count": 345,
   "id": "dc21a0c3",
   "metadata": {},
   "outputs": [],
   "source": [
    "# переделаем data17 в датасет типа одна сторока - одно значение\n",
    "\n",
    "list_x = [] # создадим список для мини таблиц одной из таблицы исходников\n",
    "\n",
    "for x in range(1,15): # перечислим все колонки с датой последовательно\n",
    "    y = data17[['year']] # выберем поле с названием\n",
    "    y1 = y.copy()\n",
    "    y1['name'] = data17.columns[x] # добавим колонку год\n",
    "    y1['result'] = data17.iloc[:,x] # добавим колонку со значением и сохраним в переменной у\n",
    "    list_x.append(y1) # добавим в список наш татасет у\n",
    "    \n",
    "data17 = pd.concat(list_x, axis=0, ignore_index=True) # склеим мини таблицы в один датасет\n",
    "                                                              # (данные ровно одной исходной таблицы)"
   ]
  },
  {
   "cell_type": "code",
   "execution_count": 346,
   "id": "885fe68c",
   "metadata": {},
   "outputs": [
    {
     "name": "stdout",
     "output_type": "stream",
     "text": [
      "<class 'pandas.core.frame.DataFrame'>\n",
      "RangeIndex: 154 entries, 0 to 153\n",
      "Data columns (total 3 columns):\n",
      " #   Column  Non-Null Count  Dtype  \n",
      "---  ------  --------------  -----  \n",
      " 0   year    154 non-null    object \n",
      " 1   name    154 non-null    object \n",
      " 2   result  154 non-null    float64\n",
      "dtypes: float64(1), object(2)\n",
      "memory usage: 3.7+ KB\n"
     ]
    }
   ],
   "source": [
    "data17.info()"
   ]
  },
  {
   "cell_type": "markdown",
   "id": "833073b1",
   "metadata": {},
   "source": [
    "<div style=\"border:solid black 2px; padding: 20px\">\n",
    "    \n",
    "Таблица 17 готова!  \n",
    "    \n",
    "**Использована численность населения 2020 года для 2021 года, где необходимо было!**"
   ]
  },
  {
   "cell_type": "markdown",
   "id": "5c8a2a42",
   "metadata": {},
   "source": [
    "### Таблица 55"
   ]
  },
  {
   "cell_type": "code",
   "execution_count": 347,
   "id": "c23e8d8b",
   "metadata": {},
   "outputs": [
    {
     "data": {
      "text/html": [
       "<div>\n",
       "<style scoped>\n",
       "    .dataframe tbody tr th:only-of-type {\n",
       "        vertical-align: middle;\n",
       "    }\n",
       "\n",
       "    .dataframe tbody tr th {\n",
       "        vertical-align: top;\n",
       "    }\n",
       "\n",
       "    .dataframe thead th {\n",
       "        text-align: right;\n",
       "    }\n",
       "</style>\n",
       "<table border=\"1\" class=\"dataframe\">\n",
       "  <thead>\n",
       "    <tr style=\"text-align: right;\">\n",
       "      <th></th>\n",
       "      <th>Unnamed: 0</th>\n",
       "      <th>2011</th>\n",
       "      <th>2012</th>\n",
       "      <th>2013</th>\n",
       "      <th>2014</th>\n",
       "      <th>2015</th>\n",
       "      <th>2016</th>\n",
       "      <th>2017</th>\n",
       "      <th>2018</th>\n",
       "      <th>2019</th>\n",
       "      <th>2020</th>\n",
       "      <th>2021</th>\n",
       "    </tr>\n",
       "  </thead>\n",
       "  <tbody>\n",
       "    <tr>\n",
       "      <th>0</th>\n",
       "      <td>Доля злокачественных новообразований, лечение ...</td>\n",
       "      <td>2.9</td>\n",
       "      <td>2.6</td>\n",
       "      <td>2.4</td>\n",
       "      <td>2.2</td>\n",
       "      <td>2.2</td>\n",
       "      <td>2.0</td>\n",
       "      <td>1.8</td>\n",
       "      <td>1.8</td>\n",
       "      <td>1.6</td>\n",
       "      <td>1.5</td>\n",
       "      <td>1.4</td>\n",
       "    </tr>\n",
       "    <tr>\n",
       "      <th>1</th>\n",
       "      <td>Доля злокачественных новообразований в I-II ст...</td>\n",
       "      <td>40.9</td>\n",
       "      <td>42.2</td>\n",
       "      <td>44.3</td>\n",
       "      <td>46.0</td>\n",
       "      <td>42.1</td>\n",
       "      <td>46.8</td>\n",
       "      <td>50.3</td>\n",
       "      <td>48.5</td>\n",
       "      <td>53.0</td>\n",
       "      <td>49.3</td>\n",
       "      <td>51.3</td>\n",
       "    </tr>\n",
       "    <tr>\n",
       "      <th>2</th>\n",
       "      <td>Доля злокачественных новообразований, лечение ...</td>\n",
       "      <td>8.8</td>\n",
       "      <td>9.3</td>\n",
       "      <td>8.6</td>\n",
       "      <td>7.4</td>\n",
       "      <td>7.1</td>\n",
       "      <td>6.7</td>\n",
       "      <td>6.8</td>\n",
       "      <td>6.9</td>\n",
       "      <td>6.4</td>\n",
       "      <td>6.0</td>\n",
       "      <td>6.1</td>\n",
       "    </tr>\n",
       "    <tr>\n",
       "      <th>3</th>\n",
       "      <td>Доля злокачественных новообразований в I-II ст...</td>\n",
       "      <td>31.9</td>\n",
       "      <td>30.3</td>\n",
       "      <td>30.6</td>\n",
       "      <td>34.3</td>\n",
       "      <td>34.0</td>\n",
       "      <td>35.9</td>\n",
       "      <td>36.3</td>\n",
       "      <td>38.8</td>\n",
       "      <td>43.0</td>\n",
       "      <td>43.3</td>\n",
       "      <td>44.5</td>\n",
       "    </tr>\n",
       "  </tbody>\n",
       "</table>\n",
       "</div>"
      ],
      "text/plain": [
       "                                          Unnamed: 0  2011  2012  2013  2014  \\\n",
       "0  Доля злокачественных новообразований, лечение ...   2.9   2.6   2.4   2.2   \n",
       "1  Доля злокачественных новообразований в I-II ст...  40.9  42.2  44.3  46.0   \n",
       "2  Доля злокачественных новообразований, лечение ...   8.8   9.3   8.6   7.4   \n",
       "3  Доля злокачественных новообразований в I-II ст...  31.9  30.3  30.6  34.3   \n",
       "\n",
       "   2015  2016  2017  2018  2019  2020  2021  \n",
       "0   2.2   2.0   1.8   1.8   1.6   1.5   1.4  \n",
       "1  42.1  46.8  50.3  48.5  53.0  49.3  51.3  \n",
       "2   7.1   6.7   6.8   6.9   6.4   6.0   6.1  \n",
       "3  34.0  35.9  36.3  38.8  43.0  43.3  44.5  "
      ]
     },
     "execution_count": 347,
     "metadata": {},
     "output_type": "execute_result"
    }
   ],
   "source": [
    "data55"
   ]
  },
  {
   "cell_type": "code",
   "execution_count": 348,
   "id": "77956b33",
   "metadata": {},
   "outputs": [],
   "source": [
    "# переименуем колонку\n",
    "data55 = data55.rename(columns = {'Unnamed: 0':'name'})"
   ]
  },
  {
   "cell_type": "code",
   "execution_count": 349,
   "id": "251f5a31",
   "metadata": {},
   "outputs": [],
   "source": [
    "# изменим названия в строках первой колонки\n",
    "data55.iloc[0,0] = 'По причине отказа пациента от числа впервые выявленных'"
   ]
  },
  {
   "cell_type": "code",
   "execution_count": 350,
   "id": "52a9837b",
   "metadata": {},
   "outputs": [],
   "source": [
    "data55.iloc[1,0] = 'По причине отказа пациента только I-II стадии'"
   ]
  },
  {
   "cell_type": "code",
   "execution_count": 351,
   "id": "c380f78e",
   "metadata": {},
   "outputs": [],
   "source": [
    "data55.iloc[2,0] = 'По причине противопоказаний от числа впервые выявленных'"
   ]
  },
  {
   "cell_type": "code",
   "execution_count": 352,
   "id": "6ee429d7",
   "metadata": {},
   "outputs": [],
   "source": [
    "data55.iloc[3,0] = 'По причине противопоказаний только I-II стадии'"
   ]
  },
  {
   "cell_type": "code",
   "execution_count": 353,
   "id": "80693f16",
   "metadata": {},
   "outputs": [],
   "source": [
    "# стандартизируем датасет для ДатаЛенс\n",
    "data55 = modify_1(data55)"
   ]
  },
  {
   "cell_type": "code",
   "execution_count": 354,
   "id": "bbc28e60",
   "metadata": {},
   "outputs": [
    {
     "name": "stdout",
     "output_type": "stream",
     "text": [
      "<class 'pandas.core.frame.DataFrame'>\n",
      "RangeIndex: 44 entries, 0 to 43\n",
      "Data columns (total 3 columns):\n",
      " #   Column  Non-Null Count  Dtype  \n",
      "---  ------  --------------  -----  \n",
      " 0   name    44 non-null     object \n",
      " 1   year    44 non-null     int64  \n",
      " 2   result  44 non-null     float64\n",
      "dtypes: float64(1), int64(1), object(1)\n",
      "memory usage: 1.2+ KB\n"
     ]
    }
   ],
   "source": [
    "data55.info()"
   ]
  },
  {
   "cell_type": "markdown",
   "id": "1394d4ff",
   "metadata": {},
   "source": [
    "<div style=\"border:solid black 2px; padding: 20px\">\n",
    "    \n",
    "Таблица 55 готова!"
   ]
  },
  {
   "cell_type": "markdown",
   "id": "0309478d",
   "metadata": {},
   "source": [
    "### Таблица 56"
   ]
  },
  {
   "cell_type": "code",
   "execution_count": 355,
   "id": "0347a33a",
   "metadata": {},
   "outputs": [
    {
     "data": {
      "text/html": [
       "<div>\n",
       "<style scoped>\n",
       "    .dataframe tbody tr th:only-of-type {\n",
       "        vertical-align: middle;\n",
       "    }\n",
       "\n",
       "    .dataframe tbody tr th {\n",
       "        vertical-align: top;\n",
       "    }\n",
       "\n",
       "    .dataframe thead th {\n",
       "        text-align: right;\n",
       "    }\n",
       "</style>\n",
       "<table border=\"1\" class=\"dataframe\">\n",
       "  <thead>\n",
       "    <tr style=\"text-align: right;\">\n",
       "      <th></th>\n",
       "      <th>Unnamed: 0</th>\n",
       "      <th>абсолютное число</th>\n",
       "      <th>на 100 впервые взятых на учет</th>\n",
       "      <th>только хирургического, %</th>\n",
       "      <th>только лучевого, %</th>\n",
       "      <th>только лекарственного, %</th>\n",
       "      <th>комбинированного или комплексного, %</th>\n",
       "      <th>химиолучевого, %</th>\n",
       "    </tr>\n",
       "  </thead>\n",
       "  <tbody>\n",
       "    <tr>\n",
       "      <th>0</th>\n",
       "      <td>2011</td>\n",
       "      <td>1325</td>\n",
       "      <td>50.3</td>\n",
       "      <td>23.2</td>\n",
       "      <td>1.3</td>\n",
       "      <td>37.6</td>\n",
       "      <td>32.9</td>\n",
       "      <td>5.1</td>\n",
       "    </tr>\n",
       "    <tr>\n",
       "      <th>1</th>\n",
       "      <td>2012</td>\n",
       "      <td>1283</td>\n",
       "      <td>47.8</td>\n",
       "      <td>25.1</td>\n",
       "      <td>0.3</td>\n",
       "      <td>40.6</td>\n",
       "      <td>29.1</td>\n",
       "      <td>4.9</td>\n",
       "    </tr>\n",
       "    <tr>\n",
       "      <th>2</th>\n",
       "      <td>2013</td>\n",
       "      <td>1316</td>\n",
       "      <td>46.4</td>\n",
       "      <td>24.5</td>\n",
       "      <td>0.5</td>\n",
       "      <td>41.3</td>\n",
       "      <td>29.3</td>\n",
       "      <td>4.4</td>\n",
       "    </tr>\n",
       "    <tr>\n",
       "      <th>3</th>\n",
       "      <td>2014</td>\n",
       "      <td>1343</td>\n",
       "      <td>44.5</td>\n",
       "      <td>24.7</td>\n",
       "      <td>1.5</td>\n",
       "      <td>39.0</td>\n",
       "      <td>30.5</td>\n",
       "      <td>4.3</td>\n",
       "    </tr>\n",
       "    <tr>\n",
       "      <th>4</th>\n",
       "      <td>2015</td>\n",
       "      <td>1410</td>\n",
       "      <td>45.1</td>\n",
       "      <td>27.1</td>\n",
       "      <td>0.6</td>\n",
       "      <td>42.6</td>\n",
       "      <td>27.2</td>\n",
       "      <td>2.5</td>\n",
       "    </tr>\n",
       "    <tr>\n",
       "      <th>5</th>\n",
       "      <td>2016</td>\n",
       "      <td>1402</td>\n",
       "      <td>43.3</td>\n",
       "      <td>24.8</td>\n",
       "      <td>0.6</td>\n",
       "      <td>42.4</td>\n",
       "      <td>28.9</td>\n",
       "      <td>3.2</td>\n",
       "    </tr>\n",
       "    <tr>\n",
       "      <th>6</th>\n",
       "      <td>2017</td>\n",
       "      <td>1434</td>\n",
       "      <td>43.5</td>\n",
       "      <td>25.7</td>\n",
       "      <td>0.3</td>\n",
       "      <td>44.1</td>\n",
       "      <td>27.5</td>\n",
       "      <td>2.3</td>\n",
       "    </tr>\n",
       "    <tr>\n",
       "      <th>7</th>\n",
       "      <td>2018</td>\n",
       "      <td>1304</td>\n",
       "      <td>40.3</td>\n",
       "      <td>24.5</td>\n",
       "      <td>1.0</td>\n",
       "      <td>40.6</td>\n",
       "      <td>31.1</td>\n",
       "      <td>2.8</td>\n",
       "    </tr>\n",
       "    <tr>\n",
       "      <th>8</th>\n",
       "      <td>2019</td>\n",
       "      <td>1255</td>\n",
       "      <td>40.2</td>\n",
       "      <td>31.3</td>\n",
       "      <td>1.0</td>\n",
       "      <td>38.4</td>\n",
       "      <td>26.6</td>\n",
       "      <td>2.6</td>\n",
       "    </tr>\n",
       "    <tr>\n",
       "      <th>9</th>\n",
       "      <td>2020</td>\n",
       "      <td>1220</td>\n",
       "      <td>39.2</td>\n",
       "      <td>27.8</td>\n",
       "      <td>1.2</td>\n",
       "      <td>42.1</td>\n",
       "      <td>26.6</td>\n",
       "      <td>2.4</td>\n",
       "    </tr>\n",
       "    <tr>\n",
       "      <th>10</th>\n",
       "      <td>2021</td>\n",
       "      <td>1214</td>\n",
       "      <td>41.5</td>\n",
       "      <td>29.0</td>\n",
       "      <td>1.1</td>\n",
       "      <td>39.6</td>\n",
       "      <td>27.9</td>\n",
       "      <td>2.4</td>\n",
       "    </tr>\n",
       "  </tbody>\n",
       "</table>\n",
       "</div>"
      ],
      "text/plain": [
       "    Unnamed: 0  абсолютное число  на 100 впервые взятых на учет  \\\n",
       "0         2011              1325                           50.3   \n",
       "1         2012              1283                           47.8   \n",
       "2         2013              1316                           46.4   \n",
       "3         2014              1343                           44.5   \n",
       "4         2015              1410                           45.1   \n",
       "5         2016              1402                           43.3   \n",
       "6         2017              1434                           43.5   \n",
       "7         2018              1304                           40.3   \n",
       "8         2019              1255                           40.2   \n",
       "9         2020              1220                           39.2   \n",
       "10        2021              1214                           41.5   \n",
       "\n",
       "    только хирургического, %  только лучевого, %  только лекарственного, %  \\\n",
       "0                       23.2                 1.3                      37.6   \n",
       "1                       25.1                 0.3                      40.6   \n",
       "2                       24.5                 0.5                      41.3   \n",
       "3                       24.7                 1.5                      39.0   \n",
       "4                       27.1                 0.6                      42.6   \n",
       "5                       24.8                 0.6                      42.4   \n",
       "6                       25.7                 0.3                      44.1   \n",
       "7                       24.5                 1.0                      40.6   \n",
       "8                       31.3                 1.0                      38.4   \n",
       "9                       27.8                 1.2                      42.1   \n",
       "10                      29.0                 1.1                      39.6   \n",
       "\n",
       "    комбинированного или комплексного, %  химиолучевого, %  \n",
       "0                                   32.9               5.1  \n",
       "1                                   29.1               4.9  \n",
       "2                                   29.3               4.4  \n",
       "3                                   30.5               4.3  \n",
       "4                                   27.2               2.5  \n",
       "5                                   28.9               3.2  \n",
       "6                                   27.5               2.3  \n",
       "7                                   31.1               2.8  \n",
       "8                                   26.6               2.6  \n",
       "9                                   26.6               2.4  \n",
       "10                                  27.9               2.4  "
      ]
     },
     "execution_count": 355,
     "metadata": {},
     "output_type": "execute_result"
    }
   ],
   "source": [
    "data56"
   ]
  },
  {
   "cell_type": "code",
   "execution_count": 356,
   "id": "27f75048",
   "metadata": {},
   "outputs": [],
   "source": [
    "# переименуем колонки\n",
    "data56 = data56.rename(columns = {'Unnamed: 0':'year','абсолютное число':'Количество больных закончивших \\\n",
    "радикальное лечение','на 100 впервые взятых на учет':'Количество больных закончивших радикальное лечение \\\n",
    "на 100 впервые взятых на учет','только хирургического, %':'Хирургический метод, %',\\\n",
    "'только лучевого, %':'Лучевой метод, %','только лекарственного, %':'Лекарственный метод, %',\\\n",
    "'комбинированного или комплексного, %':'Комбинированный или комплексный \\\n",
    "метод, %','химиолучевого, %':'Химиолучевой метод, %'})"
   ]
  },
  {
   "cell_type": "code",
   "execution_count": 357,
   "id": "fceb7022",
   "metadata": {},
   "outputs": [],
   "source": [
    "# стандартизируем датасет data56\n",
    "\n",
    "list_x = [] # создадим список для мини таблиц одной из таблицы исходников\n",
    "\n",
    "for x in range(1,8): # перечислим все колонки с датой последовательно\n",
    "    y = data56[['year']] # выберем поле с названием\n",
    "    y1 = y.copy()\n",
    "    y1['name'] = data56.columns[x] # добавим колонку год\n",
    "    y1['result'] = data56.iloc[:,x] # добавим колонку со значением и сохраним в переменной у\n",
    "    list_x.append(y1) # добавим в список наш татасет у\n",
    "    \n",
    "data56 = pd.concat(list_x, axis=0, ignore_index=True) # склеим мини таблицы в один датасет\n",
    "                                                              # (данные ровно одной исходной таблицы)"
   ]
  },
  {
   "cell_type": "code",
   "execution_count": 358,
   "id": "54d123a8",
   "metadata": {},
   "outputs": [
    {
     "data": {
      "text/html": [
       "<div>\n",
       "<style scoped>\n",
       "    .dataframe tbody tr th:only-of-type {\n",
       "        vertical-align: middle;\n",
       "    }\n",
       "\n",
       "    .dataframe tbody tr th {\n",
       "        vertical-align: top;\n",
       "    }\n",
       "\n",
       "    .dataframe thead th {\n",
       "        text-align: right;\n",
       "    }\n",
       "</style>\n",
       "<table border=\"1\" class=\"dataframe\">\n",
       "  <thead>\n",
       "    <tr style=\"text-align: right;\">\n",
       "      <th></th>\n",
       "      <th>year</th>\n",
       "      <th>name</th>\n",
       "      <th>result</th>\n",
       "    </tr>\n",
       "  </thead>\n",
       "  <tbody>\n",
       "    <tr>\n",
       "      <th>0</th>\n",
       "      <td>2011</td>\n",
       "      <td>Количество больных закончивших радикальное леч...</td>\n",
       "      <td>1325.0</td>\n",
       "    </tr>\n",
       "    <tr>\n",
       "      <th>1</th>\n",
       "      <td>2012</td>\n",
       "      <td>Количество больных закончивших радикальное леч...</td>\n",
       "      <td>1283.0</td>\n",
       "    </tr>\n",
       "    <tr>\n",
       "      <th>2</th>\n",
       "      <td>2013</td>\n",
       "      <td>Количество больных закончивших радикальное леч...</td>\n",
       "      <td>1316.0</td>\n",
       "    </tr>\n",
       "    <tr>\n",
       "      <th>3</th>\n",
       "      <td>2014</td>\n",
       "      <td>Количество больных закончивших радикальное леч...</td>\n",
       "      <td>1343.0</td>\n",
       "    </tr>\n",
       "    <tr>\n",
       "      <th>4</th>\n",
       "      <td>2015</td>\n",
       "      <td>Количество больных закончивших радикальное леч...</td>\n",
       "      <td>1410.0</td>\n",
       "    </tr>\n",
       "  </tbody>\n",
       "</table>\n",
       "</div>"
      ],
      "text/plain": [
       "   year                                               name  result\n",
       "0  2011  Количество больных закончивших радикальное леч...  1325.0\n",
       "1  2012  Количество больных закончивших радикальное леч...  1283.0\n",
       "2  2013  Количество больных закончивших радикальное леч...  1316.0\n",
       "3  2014  Количество больных закончивших радикальное леч...  1343.0\n",
       "4  2015  Количество больных закончивших радикальное леч...  1410.0"
      ]
     },
     "execution_count": 358,
     "metadata": {},
     "output_type": "execute_result"
    }
   ],
   "source": [
    "data56.head()"
   ]
  },
  {
   "cell_type": "code",
   "execution_count": 359,
   "id": "0e7e0e5f",
   "metadata": {},
   "outputs": [
    {
     "name": "stdout",
     "output_type": "stream",
     "text": [
      "<class 'pandas.core.frame.DataFrame'>\n",
      "RangeIndex: 77 entries, 0 to 76\n",
      "Data columns (total 3 columns):\n",
      " #   Column  Non-Null Count  Dtype  \n",
      "---  ------  --------------  -----  \n",
      " 0   year    77 non-null     int64  \n",
      " 1   name    77 non-null     object \n",
      " 2   result  77 non-null     float64\n",
      "dtypes: float64(1), int64(1), object(1)\n",
      "memory usage: 1.9+ KB\n"
     ]
    }
   ],
   "source": [
    "data56.info()"
   ]
  },
  {
   "cell_type": "markdown",
   "id": "cdf823da",
   "metadata": {},
   "source": [
    "<div style=\"border:solid black 2px; padding: 20px\">\n",
    "    \n",
    "Таблица 56 готова!  "
   ]
  },
  {
   "cell_type": "markdown",
   "id": "06fb66c5",
   "metadata": {},
   "source": [
    "## 3 Выгрузка данных"
   ]
  },
  {
   "cell_type": "code",
   "execution_count": 360,
   "id": "313993a9",
   "metadata": {},
   "outputs": [
    {
     "name": "stdout",
     "output_type": "stream",
     "text": [
      "Измените тип нижней ячейки!\n"
     ]
    }
   ],
   "source": [
    "directory = r'C:\\Users\\User\\Desktop\\med_project\\csv' # укажите директорию для сохранения\n",
    "print('Измените тип нижней ячейки!')"
   ]
  },
  {
   "cell_type": "markdown",
   "id": "8e5ce0ed",
   "metadata": {},
   "source": [
    "data5.to_csv(f'{directory}\\data5.csv', sep=',')\n",
    "data6.to_csv(f'{directory}\\data6.csv', sep=',')\n",
    "data7.to_csv(f'{directory}\\data7.csv', sep=',')\n",
    "data8.to_csv(f'{directory}\\data8.csv', sep=',')\n",
    "data9.to_csv(f'{directory}\\data9.csv', sep=',')\n",
    "data10.to_csv(f'{directory}\\data10.csv', sep=',')\n",
    "data11.to_csv(f'{directory}\\data11.csv', sep=',')\n",
    "data12.to_csv(f'{directory}\\data12.csv', sep=',')\n",
    "df_1234.to_csv(f'{directory}\\df_1234.csv', sep=',')\n",
    "data16.to_csv(f'{directory}\\data16.csv', sep=',')\n",
    "data17.to_csv(f'{directory}\\data17.csv', sep=',')\n",
    "data55.to_csv(f'{directory}\\data55.csv', sep=',')\n",
    "data56.to_csv(f'{directory}\\data56.csv', sep=',')"
   ]
  }
 ],
 "metadata": {
  "kernelspec": {
   "display_name": "Python 3 (ipykernel)",
   "language": "python",
   "name": "python3"
  },
  "language_info": {
   "codemirror_mode": {
    "name": "ipython",
    "version": 3
   },
   "file_extension": ".py",
   "mimetype": "text/x-python",
   "name": "python",
   "nbconvert_exporter": "python",
   "pygments_lexer": "ipython3",
   "version": "3.9.13"
  }
 },
 "nbformat": 4,
 "nbformat_minor": 5
}
