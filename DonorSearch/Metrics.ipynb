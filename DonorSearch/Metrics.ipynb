{
 "cells": [
  {
   "cell_type": "code",
   "execution_count": 175,
   "id": "1adf57bf",
   "metadata": {
    "executionInfo": {
     "elapsed": 1924,
     "status": "ok",
     "timestamp": 1702757018630,
     "user": {
      "displayName": "Юля Иванюк",
      "userId": "12501384730573440112"
     },
     "user_tz": -60
    },
    "id": "1adf57bf"
   },
   "outputs": [],
   "source": [
    "#загрузим библиотеки\n",
    "import pandas as pd\n",
    "import matplotlib.pyplot as plt\n",
    "import numpy as np\n",
    "import datetime as dt\n",
    "from datetime import date\n",
    "import seaborn as sns"
   ]
  },
  {
   "cell_type": "code",
   "execution_count": 176,
   "id": "d71e9893",
   "metadata": {},
   "outputs": [],
   "source": [
    "pd.set_option('display.max_columns', None) # уберем ограничение по отображению количества столбцов"
   ]
  },
  {
   "cell_type": "markdown",
   "id": "d455177d",
   "metadata": {
    "id": "d455177d"
   },
   "source": [
    "# 3 DonorSearch. Выбор и расчет метрик"
   ]
  },
  {
   "cell_type": "markdown",
   "id": "df003e24",
   "metadata": {},
   "source": [
    "<div style=\"border:solid green 2px; padding: 20px\">\n",
    "    \n",
    "**Цель:** Выбрать и рассчитать метрики для оценки эффективности платформы."
   ]
  },
  {
   "cell_type": "markdown",
   "id": "eb1fad10",
   "metadata": {},
   "source": [
    "<div style=\"border:solid blue 2px; padding: 20px\">\n",
    "\n",
    "**Содержание:**\n",
    "    \n",
    "    3.1 Загрузка и предобработка данных\n",
    "        3.1.1 Датасеты донаций\n",
    "            3.1.1.1 Donations - фактические донации\n",
    "            3.1.1.2 Donation_plan - запланированные донации\n",
    "            3.1.1.3 Note - оценки пользователей станциям забора крови\n",
    "        3.1.2 Users - датасет пользователи и бонусы\n",
    "    \n",
    "    3.2 Расчет метрик\n",
    "        3.2.1 Общие метрики о произведенных донациях\n",
    "        3.2.2 Специальные метрики\n",
    "            3.2.2.1 RUR - коэффициент вернувшихся пользователей\n",
    "            3.2.2.2 ER - коэффициент вовлеченности\n",
    "        3.2.3 Прирост активных доноров\n",
    "        3.2.4 Прирост числа донаций\n",
    "        3.2.5 Среднее количество донаций на 1 донора\n",
    "        3.2.6 Среднее число планирования донаций на пользователя\n",
    "        3.2.7 Среднее число выставляемых оценок на пользователя\n",
    "        3.2.8 Скорость добавления донации на платформу\n",
    "        3.2.9 Retention rate - удержание пользователей\n",
    "        3.2.10 Доли доноров, сдающих кровь 1 или более раз\n",
    "        3.2.11 Среднее количество дней между донациями\n",
    "    \n",
    "    3.3 ВЫВОД по документу"
   ]
  },
  {
   "cell_type": "markdown",
   "id": "1921f665",
   "metadata": {
    "id": "1921f665"
   },
   "source": [
    "## 3.1 Загрузка и предобработка данных"
   ]
  },
  {
   "cell_type": "markdown",
   "id": "a4a4fb5a",
   "metadata": {
    "id": "a4a4fb5a"
   },
   "source": [
    "### 3.1.1 Датасеты донаций"
   ]
  },
  {
   "cell_type": "markdown",
   "id": "a05213aa",
   "metadata": {},
   "source": [
    "В этом пункте загрузим датасет **donations_anon 23_11** о фактических донациях пользователей (в следующей ячейке), также **donations_plan 13.11.23.csv** - данные о запланированных донациях в переменную donations_plan следующим. Затем загрузим **feedback_anon 13.11.23.csv** в переменную note - данные с оценками пользователей станциям забора крови. "
   ]
  },
  {
   "cell_type": "markdown",
   "id": "e66ef095",
   "metadata": {},
   "source": [
    "#### 3.1.1.1 Donations - фактические донации"
   ]
  },
  {
   "cell_type": "code",
   "execution_count": 177,
   "id": "14cf8862",
   "metadata": {
    "colab": {
     "base_uri": "https://localhost:8080/",
     "height": 300
    },
    "executionInfo": {
     "elapsed": 5196,
     "status": "ok",
     "timestamp": 1702757875964,
     "user": {
      "displayName": "Юля Иванюк",
      "userId": "12501384730573440112"
     },
     "user_tz": -60
    },
    "id": "14cf8862",
    "outputId": "e63b9b0a-7b91-4e5c-f69d-d0271054b1af",
    "scrolled": false
   },
   "outputs": [
    {
     "data": {
      "text/html": [
       "<div>\n",
       "<style scoped>\n",
       "    .dataframe tbody tr th:only-of-type {\n",
       "        vertical-align: middle;\n",
       "    }\n",
       "\n",
       "    .dataframe tbody tr th {\n",
       "        vertical-align: top;\n",
       "    }\n",
       "\n",
       "    .dataframe thead th {\n",
       "        text-align: right;\n",
       "    }\n",
       "</style>\n",
       "<table border=\"1\" class=\"dataframe\">\n",
       "  <thead>\n",
       "    <tr style=\"text-align: right;\">\n",
       "      <th></th>\n",
       "      <th>ID</th>\n",
       "      <th>ID пользователя</th>\n",
       "      <th>Класс крови</th>\n",
       "      <th>Дата донации</th>\n",
       "      <th>Дата планирования</th>\n",
       "      <th>Тип донации</th>\n",
       "      <th>Город</th>\n",
       "      <th>Регион</th>\n",
       "      <th>Страна</th>\n",
       "      <th>Место сдачи</th>\n",
       "      <th>Есть справка</th>\n",
       "      <th>Дата добавления донации</th>\n",
       "      <th>Статус донации</th>\n",
       "    </tr>\n",
       "  </thead>\n",
       "  <tbody>\n",
       "    <tr>\n",
       "      <th>0</th>\n",
       "      <td>257350</td>\n",
       "      <td>61553</td>\n",
       "      <td>Плазма</td>\n",
       "      <td>23.11.2023</td>\n",
       "      <td>Не указана</td>\n",
       "      <td>Безвозмездно</td>\n",
       "      <td>Москва</td>\n",
       "      <td>Не указан</td>\n",
       "      <td>Россия</td>\n",
       "      <td>ФГБУ НМИЦ Гематологии, (бывш. ГНЦ)</td>\n",
       "      <td>Да</td>\n",
       "      <td>23.11.2023</td>\n",
       "      <td>На модерации</td>\n",
       "    </tr>\n",
       "    <tr>\n",
       "      <th>1</th>\n",
       "      <td>257349</td>\n",
       "      <td>209605</td>\n",
       "      <td>Плазма</td>\n",
       "      <td>20.11.2023</td>\n",
       "      <td>Не указана</td>\n",
       "      <td>Безвозмездно</td>\n",
       "      <td>Нижний Новгород</td>\n",
       "      <td>Нижегородская область</td>\n",
       "      <td>Россия</td>\n",
       "      <td>Передвижная станция Яранского плазмоцентра ФГБ...</td>\n",
       "      <td>Да</td>\n",
       "      <td>23.11.2023</td>\n",
       "      <td>На модерации</td>\n",
       "    </tr>\n",
       "    <tr>\n",
       "      <th>2</th>\n",
       "      <td>257348</td>\n",
       "      <td>274248</td>\n",
       "      <td>Плазма</td>\n",
       "      <td>23.11.2023</td>\n",
       "      <td>Не указана</td>\n",
       "      <td>Безвозмездно</td>\n",
       "      <td>Елец</td>\n",
       "      <td>Липецкая область</td>\n",
       "      <td>Россия</td>\n",
       "      <td>Выездная акция</td>\n",
       "      <td>Да</td>\n",
       "      <td>23.11.2023</td>\n",
       "      <td>На модерации</td>\n",
       "    </tr>\n",
       "  </tbody>\n",
       "</table>\n",
       "</div>"
      ],
      "text/plain": [
       "       ID  ID пользователя Класс крови Дата донации Дата планирования  \\\n",
       "0  257350            61553      Плазма   23.11.2023        Не указана   \n",
       "1  257349           209605      Плазма   20.11.2023        Не указана   \n",
       "2  257348           274248      Плазма   23.11.2023        Не указана   \n",
       "\n",
       "    Тип донации            Город                 Регион  Страна  \\\n",
       "0  Безвозмездно           Москва              Не указан  Россия   \n",
       "1  Безвозмездно  Нижний Новгород  Нижегородская область  Россия   \n",
       "2  Безвозмездно             Елец       Липецкая область  Россия   \n",
       "\n",
       "                                         Место сдачи Есть справка  \\\n",
       "0                 ФГБУ НМИЦ Гематологии, (бывш. ГНЦ)           Да   \n",
       "1  Передвижная станция Яранского плазмоцентра ФГБ...           Да   \n",
       "2                                     Выездная акция           Да   \n",
       "\n",
       "  Дата добавления донации Статус донации  \n",
       "0              23.11.2023   На модерации  \n",
       "1              23.11.2023   На модерации  \n",
       "2              23.11.2023   На модерации  "
      ]
     },
     "execution_count": 177,
     "metadata": {},
     "output_type": "execute_result"
    }
   ],
   "source": [
    "#загрузим данные\n",
    "url= 'https://drive.google.com/file/d/1c9uO5b2geqlelAZgsxJEsimKG2gdeMDN/view?usp=sharing'\n",
    "url='https://drive.google.com/uc?id=' + url.split('/')[-2]\n",
    "donations = pd.read_csv(url)\n",
    "\n",
    "donations.head(3)"
   ]
  },
  {
   "cell_type": "code",
   "execution_count": 178,
   "id": "4d13fd64",
   "metadata": {
    "colab": {
     "base_uri": "https://localhost:8080/"
    },
    "executionInfo": {
     "elapsed": 668,
     "status": "ok",
     "timestamp": 1702757882216,
     "user": {
      "displayName": "Юля Иванюк",
      "userId": "12501384730573440112"
     },
     "user_tz": -60
    },
    "id": "4d13fd64",
    "outputId": "1faa9b7b-2301-4575-c7ed-a47a250603bc"
   },
   "outputs": [
    {
     "name": "stdout",
     "output_type": "stream",
     "text": [
      "<class 'pandas.core.frame.DataFrame'>\n",
      "RangeIndex: 248436 entries, 0 to 248435\n",
      "Data columns (total 13 columns):\n",
      " #   Column                   Non-Null Count   Dtype \n",
      "---  ------                   --------------   ----- \n",
      " 0   ID                       248436 non-null  int64 \n",
      " 1   ID пользователя          248436 non-null  int64 \n",
      " 2   Класс крови              248436 non-null  object\n",
      " 3   Дата донации             248436 non-null  object\n",
      " 4   Дата планирования        248436 non-null  object\n",
      " 5   Тип донации              248436 non-null  object\n",
      " 6   Город                    248436 non-null  object\n",
      " 7   Регион                   248436 non-null  object\n",
      " 8   Страна                   248436 non-null  object\n",
      " 9   Место сдачи              248436 non-null  object\n",
      " 10  Есть справка             248436 non-null  object\n",
      " 11  Дата добавления донации  248436 non-null  object\n",
      " 12  Статус донации           248436 non-null  object\n",
      "dtypes: int64(2), object(11)\n",
      "memory usage: 24.6+ MB\n"
     ]
    }
   ],
   "source": [
    "#изучим информацию о данных\n",
    "donations.info()"
   ]
  },
  {
   "cell_type": "code",
   "execution_count": 179,
   "id": "8f7d1bfc",
   "metadata": {
    "id": "8f7d1bfc"
   },
   "outputs": [],
   "source": [
    "#переименуем столбцы\n",
    "donations = donations.rename(columns={'ID': 'donation_id', 'ID пользователя': 'user_id', 'Класс крови': 'blood_type',\\\n",
    "                                      'Дата донации': 'donation_date', 'Дата планирования': 'plan_date', 'Тип донации'\\\n",
    "                                      : 'donation_type', 'Город': 'city', 'Регион': 'region', 'Страна': 'country',\\\n",
    "                                      'Место сдачи': 'blood_center', 'Есть справка': 'med_certificate', \n",
    "                                      'Дата добавления донации': 'donation_added_date', 'Статус донации': 'donation_status'})"
   ]
  },
  {
   "cell_type": "code",
   "execution_count": 180,
   "id": "da0ee761",
   "metadata": {
    "id": "da0ee761",
    "scrolled": false
   },
   "outputs": [],
   "source": [
    "#заменим пропуски на nan\n",
    "donations['plan_date'] = donations['plan_date'].replace('Не указана', np.nan)"
   ]
  },
  {
   "cell_type": "code",
   "execution_count": 181,
   "id": "c79a6b45",
   "metadata": {
    "id": "c79a6b45",
    "scrolled": true
   },
   "outputs": [],
   "source": [
    "#поменяем фортат данных\n",
    "donations['donation_date'] = pd.to_datetime(donations['donation_date'], format='%d.%m.%Y', errors = 'coerce')\n",
    "donations['plan_date'] = pd.to_datetime(donations['plan_date'], format='%d.%m.%Y', errors = 'coerce')\n",
    "donations['donation_added_date'] = pd.to_datetime(donations['donation_added_date'], format='%d.%m.%Y', errors = 'coerce')"
   ]
  },
  {
   "cell_type": "code",
   "execution_count": 182,
   "id": "aa6d7aa5",
   "metadata": {
    "id": "aa6d7aa5",
    "scrolled": true
   },
   "outputs": [],
   "source": [
    "#добавим столбцы\n",
    "donations['donation_year'] = pd.DatetimeIndex(donations['donation_date']).year\n",
    "donations['donation_month'] = pd.DatetimeIndex(donations['donation_date']).month\n",
    "\n",
    "donations['difference'] = (donations['donation_added_date'] - donations['donation_date']).dt.days\n",
    "donations['donation_added_year'] = donations['donation_added_date'].dt.year"
   ]
  },
  {
   "cell_type": "code",
   "execution_count": 183,
   "id": "4521bfcf",
   "metadata": {
    "id": "4521bfcf"
   },
   "outputs": [],
   "source": [
    "#поменяем фортат данных\n",
    "donations[['donation_year', 'donation_month']] = donations[['donation_year', 'donation_month']].astype('Int64')"
   ]
  },
  {
   "cell_type": "code",
   "execution_count": 184,
   "id": "061c23b1",
   "metadata": {
    "id": "061c23b1",
    "outputId": "8e8df756-861a-4a8c-bf25-39048529e6d6",
    "scrolled": true
   },
   "outputs": [
    {
     "data": {
      "text/plain": [
       "Цельная кровь              163836\n",
       "Плазма                      58763\n",
       "Тромбоциты                  25287\n",
       "Эритроциты                    450\n",
       "Гранулоциты (Лейкоциты)       100\n",
       "Name: blood_type, dtype: int64"
      ]
     },
     "execution_count": 184,
     "metadata": {},
     "output_type": "execute_result"
    }
   ],
   "source": [
    "#изучим столбец blood_type\n",
    "donations['blood_type'].value_counts()"
   ]
  },
  {
   "cell_type": "code",
   "execution_count": 185,
   "id": "f1480b6a",
   "metadata": {
    "id": "f1480b6a",
    "outputId": "e67c0a68-a728-4dbe-d538-7c9a8f92b798"
   },
   "outputs": [
    {
     "name": "stdout",
     "output_type": "stream",
     "text": [
      "1900-01-01 00:00:00\n",
      "2092-06-10 00:00:00\n"
     ]
    }
   ],
   "source": [
    "#посмотрим на макс и мин даты донаций\n",
    "print(donations['donation_date'].min())\n",
    "print(donations['donation_date'].max())"
   ]
  },
  {
   "cell_type": "markdown",
   "id": "d7575c35",
   "metadata": {
    "id": "d7575c35"
   },
   "source": [
    "Проект основан в 2013г., поэтому считаю логичным оставить для анализа данные о донациях за 2013 - 2023гг. Посмотрим, какое количество данных подлежит удалению."
   ]
  },
  {
   "cell_type": "code",
   "execution_count": 186,
   "id": "3c5911bb",
   "metadata": {},
   "outputs": [],
   "source": [
    "# перед удалением запишем в новую переменную количество записей исходных\n",
    "var_delete = len(donations['donation_id'])"
   ]
  },
  {
   "cell_type": "code",
   "execution_count": 187,
   "id": "390d29f4",
   "metadata": {
    "id": "390d29f4",
    "outputId": "55e4b65d-a662-4c18-a1ee-12134847de96",
    "scrolled": true
   },
   "outputs": [
    {
     "name": "stdout",
     "output_type": "stream",
     "text": [
      "11.63921492859328 % данных подлежит удалению\n"
     ]
    }
   ],
   "source": [
    "print(len(donations[(donations['donation_year'] < 2013) | (donations['donation_year'] > 2023)])\\\n",
    "      / len(donations['donation_id']) * 100, '% данных подлежит удалению')"
   ]
  },
  {
   "cell_type": "code",
   "execution_count": 188,
   "id": "271dbf3f",
   "metadata": {
    "id": "271dbf3f"
   },
   "outputs": [],
   "source": [
    "#удалим ненужные данные\n",
    "donations = donations[(donations['donation_year'] >= 2013) & (donations['donation_year'] <= 2023)]"
   ]
  },
  {
   "cell_type": "code",
   "execution_count": 189,
   "id": "26b217cd",
   "metadata": {
    "id": "26b217cd",
    "outputId": "61d290e7-28f8-4601-dc5e-02cf9419a014",
    "scrolled": true
   },
   "outputs": [
    {
     "name": "stdout",
     "output_type": "stream",
     "text": [
      "2020-11-20 00:00:00\n",
      "2023-11-23 00:00:00\n"
     ]
    }
   ],
   "source": [
    "#посмотрим на макс и мин даты планирования\n",
    "print(donations['plan_date'].min())\n",
    "print(donations['plan_date'].max())"
   ]
  },
  {
   "cell_type": "code",
   "execution_count": 190,
   "id": "47733afe",
   "metadata": {
    "id": "47733afe",
    "outputId": "94b877fd-bbf0-4243-c0bf-62b1ccadd320",
    "scrolled": true
   },
   "outputs": [
    {
     "data": {
      "text/plain": [
       "Безвозмездно    204204\n",
       "Платно           15309\n",
       "Name: donation_type, dtype: int64"
      ]
     },
     "execution_count": 190,
     "metadata": {},
     "output_type": "execute_result"
    }
   ],
   "source": [
    "#изучим столбец donation_type\n",
    "donations['donation_type'].value_counts()"
   ]
  },
  {
   "cell_type": "code",
   "execution_count": 191,
   "id": "10c842e0",
   "metadata": {
    "id": "10c842e0",
    "outputId": "33a3f67d-4b4a-4303-f3cd-eef3880b286d",
    "scrolled": true
   },
   "outputs": [
    {
     "data": {
      "text/plain": [
       "Да     204035\n",
       "Нет     15478\n",
       "Name: med_certificate, dtype: int64"
      ]
     },
     "execution_count": 191,
     "metadata": {},
     "output_type": "execute_result"
    }
   ],
   "source": [
    "#изучим столбец med_certificate\n",
    "donations['med_certificate'].value_counts()"
   ]
  },
  {
   "cell_type": "code",
   "execution_count": 192,
   "id": "088e40a5",
   "metadata": {
    "id": "088e40a5",
    "outputId": "9c88a302-57fe-463f-cdcd-946d66d1ecb4",
    "scrolled": false
   },
   "outputs": [
    {
     "name": "stdout",
     "output_type": "stream",
     "text": [
      "2020-11-18 00:00:00\n",
      "2023-11-23 00:00:00\n"
     ]
    }
   ],
   "source": [
    "#посмотрим на макс и мин даты добавления донаций\n",
    "print(donations['donation_added_date'].min())\n",
    "print(donations['donation_added_date'].max())"
   ]
  },
  {
   "cell_type": "markdown",
   "id": "6a484918",
   "metadata": {
    "id": "6a484918"
   },
   "source": [
    "Самая ранняя дата добавляения донации - ноябрь 2020, скорее всего это связано с новой версией сайта, запущенного как раз в ноябре 2020."
   ]
  },
  {
   "cell_type": "code",
   "execution_count": 193,
   "id": "451816a2",
   "metadata": {
    "id": "451816a2",
    "outputId": "fe0cd787-d01c-4b6f-cfa0-9d8e170d952f",
    "scrolled": true
   },
   "outputs": [
    {
     "data": {
      "text/plain": [
       "Принята         196054\n",
       "Без справки      16861\n",
       "Удалена           5250\n",
       "Отклонена         1228\n",
       "На модерации       120\n",
       "Name: donation_status, dtype: int64"
      ]
     },
     "execution_count": 193,
     "metadata": {},
     "output_type": "execute_result"
    }
   ],
   "source": [
    "#изучим столбец\n",
    "donations['donation_status'].value_counts()"
   ]
  },
  {
   "cell_type": "markdown",
   "id": "dcee40d7",
   "metadata": {
    "id": "dcee40d7"
   },
   "source": [
    "Донации со статусом \"удалена\", \"отклонена\", \"без справки\" и \"на модерации \"будет логично убрать из данных. Посмотрим, какой процент данных подлежит удалению."
   ]
  },
  {
   "cell_type": "code",
   "execution_count": 194,
   "id": "4e58ebdb",
   "metadata": {
    "id": "4e58ebdb",
    "outputId": "e2fd909a-f510-4028-b173-e40dc5e68ccd",
    "scrolled": true
   },
   "outputs": [
    {
     "name": "stdout",
     "output_type": "stream",
     "text": [
      "10.686838592702937 % подлежит удалению\n"
     ]
    }
   ],
   "source": [
    "print(len(donations[donations['donation_status'] != 'Принята']) / len(donations['donation_id']) *100,'% подлежит удалению')"
   ]
  },
  {
   "cell_type": "code",
   "execution_count": 195,
   "id": "5f652bb9",
   "metadata": {
    "id": "5f652bb9"
   },
   "outputs": [],
   "source": [
    "#удалим ненужные данные\n",
    "donations = donations[donations['donation_status'] == 'Принята']"
   ]
  },
  {
   "cell_type": "code",
   "execution_count": 196,
   "id": "9b84e80e",
   "metadata": {
    "id": "9b84e80e",
    "outputId": "a2ce1b7d-f8ce-453e-a4d4-e84d8121b4b0"
   },
   "outputs": [
    {
     "data": {
      "text/plain": [
       "488"
      ]
     },
     "execution_count": 196,
     "metadata": {},
     "output_type": "execute_result"
    }
   ],
   "source": [
    "#порверим дубликаты\n",
    "donations.duplicated().sum()"
   ]
  },
  {
   "cell_type": "code",
   "execution_count": 197,
   "id": "b982d604",
   "metadata": {
    "id": "b982d604"
   },
   "outputs": [],
   "source": [
    "#удалим дубликаты\n",
    "donations = donations.drop_duplicates().reset_index(drop=True)"
   ]
  },
  {
   "cell_type": "code",
   "execution_count": 198,
   "id": "dd201d8a",
   "metadata": {},
   "outputs": [
    {
     "name": "stdout",
     "output_type": "stream",
     "text": [
      "21.28113477917854 % данных потеряли всего\n"
     ]
    }
   ],
   "source": [
    "# посчитаем суммарный процент потери данных в датасете donations\n",
    "print((var_delete - len(donations['donation_id']))/var_delete*100,'% данных потеряли всего')"
   ]
  },
  {
   "cell_type": "markdown",
   "id": "5eb46da6",
   "metadata": {},
   "source": [
    "#### 3.1.1.2 Donation_plan - запланированные донации"
   ]
  },
  {
   "cell_type": "markdown",
   "id": "2c325b45",
   "metadata": {},
   "source": [
    "Загрузим следующий датасет donation_plan о запланированных донациях:"
   ]
  },
  {
   "cell_type": "code",
   "execution_count": 199,
   "id": "c9ddc5ac",
   "metadata": {
    "id": "c9ddc5ac",
    "outputId": "82bfc539-fa86-49c2-8aa7-045e94e1e333",
    "scrolled": true
   },
   "outputs": [
    {
     "data": {
      "text/html": [
       "<div>\n",
       "<style scoped>\n",
       "    .dataframe tbody tr th:only-of-type {\n",
       "        vertical-align: middle;\n",
       "    }\n",
       "\n",
       "    .dataframe tbody tr th {\n",
       "        vertical-align: top;\n",
       "    }\n",
       "\n",
       "    .dataframe thead th {\n",
       "        text-align: right;\n",
       "    }\n",
       "</style>\n",
       "<table border=\"1\" class=\"dataframe\">\n",
       "  <thead>\n",
       "    <tr style=\"text-align: right;\">\n",
       "      <th></th>\n",
       "      <th>ID</th>\n",
       "      <th>ID пользователя</th>\n",
       "      <th>Класс крови</th>\n",
       "      <th>Дата донации</th>\n",
       "      <th>Дата планирования</th>\n",
       "      <th>Тип донации</th>\n",
       "      <th>Регион</th>\n",
       "      <th>Место стадчи</th>\n",
       "      <th>Статус</th>\n",
       "      <th>Есть справка</th>\n",
       "    </tr>\n",
       "  </thead>\n",
       "  <tbody>\n",
       "    <tr>\n",
       "      <th>0</th>\n",
       "      <td>27870</td>\n",
       "      <td>262549</td>\n",
       "      <td>Цельная кровь</td>\n",
       "      <td>14.11.2023</td>\n",
       "      <td>13.11.2023</td>\n",
       "      <td>Безвозмездно</td>\n",
       "      <td>Россия, Ульяновская область, Димитровград</td>\n",
       "      <td>ФГБУЗ Клиническая больница №172 ФМБА России Це...</td>\n",
       "      <td>донация запланирована</td>\n",
       "      <td>Нет</td>\n",
       "    </tr>\n",
       "    <tr>\n",
       "      <th>1</th>\n",
       "      <td>27869</td>\n",
       "      <td>203</td>\n",
       "      <td>Цельная кровь</td>\n",
       "      <td>15.11.2023</td>\n",
       "      <td>13.11.2023</td>\n",
       "      <td>Безвозмездно</td>\n",
       "      <td>Россия, Тульская область, Тула</td>\n",
       "      <td>ГУЗ \"Тульская областная станция переливания кр...</td>\n",
       "      <td>донация запланирована</td>\n",
       "      <td>Нет</td>\n",
       "    </tr>\n",
       "    <tr>\n",
       "      <th>2</th>\n",
       "      <td>27868</td>\n",
       "      <td>274735</td>\n",
       "      <td>Плазма</td>\n",
       "      <td>14.11.2023</td>\n",
       "      <td>13.11.2023</td>\n",
       "      <td>Безвозмездно</td>\n",
       "      <td>Россия, Тульская область, Чернь</td>\n",
       "      <td>Выездная акция</td>\n",
       "      <td>планирование отменено</td>\n",
       "      <td>Нет</td>\n",
       "    </tr>\n",
       "    <tr>\n",
       "      <th>3</th>\n",
       "      <td>27867</td>\n",
       "      <td>260348</td>\n",
       "      <td>Цельная кровь</td>\n",
       "      <td>19.01.2024</td>\n",
       "      <td>13.11.2023</td>\n",
       "      <td>Безвозмездно</td>\n",
       "      <td>Россия, Амурская область, Благовещенск</td>\n",
       "      <td>ГБУЗ Амурской области \"Амурская областная стан...</td>\n",
       "      <td>донация запланирована</td>\n",
       "      <td>Нет</td>\n",
       "    </tr>\n",
       "    <tr>\n",
       "      <th>4</th>\n",
       "      <td>27866</td>\n",
       "      <td>232312</td>\n",
       "      <td>Цельная кровь</td>\n",
       "      <td>29.11.2023</td>\n",
       "      <td>13.11.2023</td>\n",
       "      <td>Безвозмездно</td>\n",
       "      <td>Россия, Крым, Севастополь</td>\n",
       "      <td>1472 Военно-морской клинический госпиталь имен...</td>\n",
       "      <td>донация запланирована</td>\n",
       "      <td>Нет</td>\n",
       "    </tr>\n",
       "  </tbody>\n",
       "</table>\n",
       "</div>"
      ],
      "text/plain": [
       "      ID  ID пользователя    Класс крови Дата донации Дата планирования  \\\n",
       "0  27870           262549  Цельная кровь   14.11.2023        13.11.2023   \n",
       "1  27869              203  Цельная кровь   15.11.2023        13.11.2023   \n",
       "2  27868           274735         Плазма   14.11.2023        13.11.2023   \n",
       "3  27867           260348  Цельная кровь   19.01.2024        13.11.2023   \n",
       "4  27866           232312  Цельная кровь   29.11.2023        13.11.2023   \n",
       "\n",
       "    Тип донации                                     Регион  \\\n",
       "0  Безвозмездно  Россия, Ульяновская область, Димитровград   \n",
       "1  Безвозмездно             Россия, Тульская область, Тула   \n",
       "2  Безвозмездно            Россия, Тульская область, Чернь   \n",
       "3  Безвозмездно     Россия, Амурская область, Благовещенск   \n",
       "4  Безвозмездно                  Россия, Крым, Севастополь   \n",
       "\n",
       "                                        Место стадчи                 Статус  \\\n",
       "0  ФГБУЗ Клиническая больница №172 ФМБА России Це...  донация запланирована   \n",
       "1  ГУЗ \"Тульская областная станция переливания кр...  донация запланирована   \n",
       "2                                     Выездная акция  планирование отменено   \n",
       "3  ГБУЗ Амурской области \"Амурская областная стан...  донация запланирована   \n",
       "4  1472 Военно-морской клинический госпиталь имен...  донация запланирована   \n",
       "\n",
       "  Есть справка  \n",
       "0          Нет  \n",
       "1          Нет  \n",
       "2          Нет  \n",
       "3          Нет  \n",
       "4          Нет  "
      ]
     },
     "execution_count": 199,
     "metadata": {},
     "output_type": "execute_result"
    }
   ],
   "source": [
    "#загрузим данные\n",
    "donation_plan = pd.read_csv('C:/Users/User/Desktop/donor/Донации/donations_plan 13.11.23.csv')\n",
    "donation_plan.head()"
   ]
  },
  {
   "cell_type": "code",
   "execution_count": 200,
   "id": "d3afca66",
   "metadata": {
    "id": "d3afca66",
    "outputId": "216b3a0f-8d1c-4af0-f640-b4e0f1eff41e",
    "scrolled": true
   },
   "outputs": [
    {
     "name": "stdout",
     "output_type": "stream",
     "text": [
      "<class 'pandas.core.frame.DataFrame'>\n",
      "RangeIndex: 27191 entries, 0 to 27190\n",
      "Data columns (total 10 columns):\n",
      " #   Column             Non-Null Count  Dtype \n",
      "---  ------             --------------  ----- \n",
      " 0   ID                 27191 non-null  int64 \n",
      " 1   ID пользователя    27191 non-null  int64 \n",
      " 2   Класс крови        27191 non-null  object\n",
      " 3   Дата донации       27191 non-null  object\n",
      " 4   Дата планирования  27191 non-null  object\n",
      " 5   Тип донации        27191 non-null  object\n",
      " 6   Регион             27191 non-null  object\n",
      " 7   Место стадчи       27191 non-null  object\n",
      " 8   Статус             27191 non-null  object\n",
      " 9   Есть справка       27191 non-null  object\n",
      "dtypes: int64(2), object(8)\n",
      "memory usage: 2.1+ MB\n"
     ]
    }
   ],
   "source": [
    "#изучим данные\n",
    "donation_plan.info()"
   ]
  },
  {
   "cell_type": "code",
   "execution_count": 201,
   "id": "0e47625a",
   "metadata": {
    "id": "0e47625a"
   },
   "outputs": [],
   "source": [
    "#переименуем столбцы\n",
    "donation_plan = donation_plan.rename(columns={'ID': 'donation_id', 'ID пользователя': 'user_id', \\\n",
    "                                              'Класс крови': 'blood_type', 'Дата донации': 'donation_date', \\\n",
    "                                              'Дата планирования': 'plan_date', 'Тип донации': 'donation_type',\\\n",
    "                                              'Регион': 'region', 'Место стадчи': 'blood_center', \\\n",
    "                                              'Есть справка': 'med_certificate', 'Статус': 'status'})"
   ]
  },
  {
   "cell_type": "code",
   "execution_count": 202,
   "id": "38b33457",
   "metadata": {
    "id": "38b33457"
   },
   "outputs": [],
   "source": [
    "#поменяем фортат данных\n",
    "donation_plan['donation_date'] = pd.to_datetime(donation_plan['donation_date'], format='%d.%m.%Y', errors = 'coerce')\n",
    "donation_plan['plan_date'] = pd.to_datetime(donation_plan['plan_date'], format='%d.%m.%Y', errors = 'coerce')"
   ]
  },
  {
   "cell_type": "code",
   "execution_count": 203,
   "id": "d3d86b56",
   "metadata": {
    "id": "d3d86b56"
   },
   "outputs": [],
   "source": [
    "#добавим столбцы\n",
    "donation_plan['plan_year'] = pd.DatetimeIndex(donation_plan['plan_date']).year\n",
    "donation_plan['plan_month'] = pd.DatetimeIndex(donation_plan['plan_date']).month"
   ]
  },
  {
   "cell_type": "code",
   "execution_count": 204,
   "id": "b80511f0",
   "metadata": {
    "id": "b80511f0",
    "outputId": "ca9aeeb8-e38a-4e42-d2ff-cf1582335cf4",
    "scrolled": true
   },
   "outputs": [
    {
     "data": {
      "text/plain": [
       "Цельная кровь              21088\n",
       "Плазма                      4126\n",
       "Тромбоциты                  1837\n",
       "Эритроциты                    97\n",
       "Гранулоциты (Лейкоциты)       43\n",
       "Name: blood_type, dtype: int64"
      ]
     },
     "execution_count": 204,
     "metadata": {},
     "output_type": "execute_result"
    }
   ],
   "source": [
    "#изучим столбец blood_type\n",
    "donation_plan['blood_type'].value_counts()"
   ]
  },
  {
   "cell_type": "code",
   "execution_count": 205,
   "id": "c88092b1",
   "metadata": {
    "id": "c88092b1",
    "outputId": "c26e52e8-a0db-4e2c-8f0e-f4ffc30bc12e"
   },
   "outputs": [
    {
     "name": "stdout",
     "output_type": "stream",
     "text": [
      "2020-11-20 00:00:00\n",
      "2100-07-30 00:00:00\n"
     ]
    }
   ],
   "source": [
    "#проверим даты донации\n",
    "print(donation_plan['donation_date'].min())\n",
    "print(donation_plan['donation_date'].max())"
   ]
  },
  {
   "cell_type": "markdown",
   "id": "db7803ef",
   "metadata": {
    "id": "db7803ef"
   },
   "source": [
    "Самая ранняя дата - ноябрь 2020, что скорее всего связано с запуском новой версии сайта. Мало вероятно, что пользователи планируют донации, дальше чем на год вперед, поэтому удалим все даты позже 2024."
   ]
  },
  {
   "cell_type": "code",
   "execution_count": 206,
   "id": "ab4cdf3f",
   "metadata": {
    "id": "ab4cdf3f",
    "outputId": "ce29cd50-0eb7-403a-e0fb-efc3882693ab",
    "scrolled": true
   },
   "outputs": [
    {
     "data": {
      "text/plain": [
       "4"
      ]
     },
     "execution_count": 206,
     "metadata": {},
     "output_type": "execute_result"
    }
   ],
   "source": [
    "#посмотрим кол-во донаций, запланированных после 31.12.2024\n",
    "len(donation_plan[donation_plan['donation_date'] > '2024-12-31'])"
   ]
  },
  {
   "cell_type": "code",
   "execution_count": 207,
   "id": "dc49194d",
   "metadata": {
    "id": "dc49194d"
   },
   "outputs": [],
   "source": [
    "#удалим ненужные данные\n",
    "donation_plan = donation_plan[donation_plan['donation_date'] <= '2024-12-31']"
   ]
  },
  {
   "cell_type": "code",
   "execution_count": 208,
   "id": "aba6170f",
   "metadata": {
    "id": "aba6170f",
    "outputId": "f79b701a-244f-4f51-ca9f-9de55f411fb0",
    "scrolled": true
   },
   "outputs": [
    {
     "name": "stdout",
     "output_type": "stream",
     "text": [
      "2020-11-19 00:00:00\n",
      "2023-11-13 00:00:00\n"
     ]
    }
   ],
   "source": [
    "#проверим даты планирования\n",
    "print(donation_plan['plan_date'].min())\n",
    "print(donation_plan['plan_date'].max())"
   ]
  },
  {
   "cell_type": "code",
   "execution_count": 209,
   "id": "38e7dd23",
   "metadata": {
    "id": "38e7dd23",
    "outputId": "6b4c7740-9edf-4c97-86ef-2280bb968fde",
    "scrolled": true
   },
   "outputs": [
    {
     "data": {
      "text/plain": [
       "Безвозмездно    23790\n",
       "Платно           3397\n",
       "Name: donation_type, dtype: int64"
      ]
     },
     "execution_count": 209,
     "metadata": {},
     "output_type": "execute_result"
    }
   ],
   "source": [
    "#изучим столбец donation_type\n",
    "donation_plan['donation_type'].value_counts()"
   ]
  },
  {
   "cell_type": "code",
   "execution_count": 210,
   "id": "42ecb240",
   "metadata": {
    "id": "42ecb240",
    "outputId": "b3fb9ef1-1b59-44be-c4e5-1fc5f48734a3",
    "scrolled": true
   },
   "outputs": [
    {
     "data": {
      "text/plain": [
       "донация запланирована                                 10542\n",
       "запланированная донация добавлена                      8666\n",
       "планирование отменено                                  7236\n",
       "отказ прикрепить справку к прошедшему планированию      743\n",
       "Name: status, dtype: int64"
      ]
     },
     "execution_count": 210,
     "metadata": {},
     "output_type": "execute_result"
    }
   ],
   "source": [
    "#изучим столбец status\n",
    "donation_plan['status'].value_counts()"
   ]
  },
  {
   "cell_type": "code",
   "execution_count": 211,
   "id": "69161dd7",
   "metadata": {
    "id": "69161dd7",
    "outputId": "4d5e082b-99c6-4fb8-8230-36d7fac96def"
   },
   "outputs": [
    {
     "data": {
      "text/plain": [
       "Нет    15592\n",
       "Да     11595\n",
       "Name: med_certificate, dtype: int64"
      ]
     },
     "execution_count": 211,
     "metadata": {},
     "output_type": "execute_result"
    }
   ],
   "source": [
    "#изучим столбец med_certificate\n",
    "donation_plan['med_certificate'].value_counts()"
   ]
  },
  {
   "cell_type": "markdown",
   "id": "47a33620",
   "metadata": {},
   "source": [
    "#### 3.1.1.3 Note - оценки пользователей станциям забора крови"
   ]
  },
  {
   "cell_type": "code",
   "execution_count": 212,
   "id": "b0fd521c",
   "metadata": {
    "id": "b0fd521c",
    "outputId": "ddab7a00-65c2-437d-f607-6265bf2a4f0e"
   },
   "outputs": [
    {
     "data": {
      "text/html": [
       "<div>\n",
       "<style scoped>\n",
       "    .dataframe tbody tr th:only-of-type {\n",
       "        vertical-align: middle;\n",
       "    }\n",
       "\n",
       "    .dataframe tbody tr th {\n",
       "        vertical-align: top;\n",
       "    }\n",
       "\n",
       "    .dataframe thead th {\n",
       "        text-align: right;\n",
       "    }\n",
       "</style>\n",
       "<table border=\"1\" class=\"dataframe\">\n",
       "  <thead>\n",
       "    <tr style=\"text-align: right;\">\n",
       "      <th></th>\n",
       "      <th>ID пользователя</th>\n",
       "      <th>Место сдачи</th>\n",
       "      <th>Дата донации</th>\n",
       "      <th>Оценка</th>\n",
       "    </tr>\n",
       "  </thead>\n",
       "  <tbody>\n",
       "    <tr>\n",
       "      <th>0</th>\n",
       "      <td>163363</td>\n",
       "      <td>Не указано</td>\n",
       "      <td>13.11.2023</td>\n",
       "      <td>5</td>\n",
       "    </tr>\n",
       "    <tr>\n",
       "      <th>1</th>\n",
       "      <td>274716</td>\n",
       "      <td>ГУЗ \"Ульяновская областная станция переливания...</td>\n",
       "      <td>13.11.2023</td>\n",
       "      <td>5</td>\n",
       "    </tr>\n",
       "    <tr>\n",
       "      <th>2</th>\n",
       "      <td>274708</td>\n",
       "      <td>ОГБУЗ \"Томский региональный центр крови\"</td>\n",
       "      <td>26.10.2022</td>\n",
       "      <td>5</td>\n",
       "    </tr>\n",
       "    <tr>\n",
       "      <th>3</th>\n",
       "      <td>274708</td>\n",
       "      <td>Не указано</td>\n",
       "      <td>22.03.2023</td>\n",
       "      <td>5</td>\n",
       "    </tr>\n",
       "    <tr>\n",
       "      <th>4</th>\n",
       "      <td>155043</td>\n",
       "      <td>ГБУЗ \"Станция переливания крови\" МЗ Краснодарс...</td>\n",
       "      <td>08.10.2021</td>\n",
       "      <td>5</td>\n",
       "    </tr>\n",
       "  </tbody>\n",
       "</table>\n",
       "</div>"
      ],
      "text/plain": [
       "   ID пользователя                                        Место сдачи  \\\n",
       "0           163363                                         Не указано   \n",
       "1           274716  ГУЗ \"Ульяновская областная станция переливания...   \n",
       "2           274708           ОГБУЗ \"Томский региональный центр крови\"   \n",
       "3           274708                                         Не указано   \n",
       "4           155043  ГБУЗ \"Станция переливания крови\" МЗ Краснодарс...   \n",
       "\n",
       "  Дата донации  Оценка  \n",
       "0   13.11.2023       5  \n",
       "1   13.11.2023       5  \n",
       "2   26.10.2022       5  \n",
       "3   22.03.2023       5  \n",
       "4   08.10.2021       5  "
      ]
     },
     "execution_count": 212,
     "metadata": {},
     "output_type": "execute_result"
    }
   ],
   "source": [
    "#загрузим данные\n",
    "note = pd.read_csv('C:/Users/User/Desktop/donor/Донации/feedback_anon 13.11.23.csv')\n",
    "note.head()"
   ]
  },
  {
   "cell_type": "code",
   "execution_count": 213,
   "id": "e2ad1afd",
   "metadata": {
    "id": "e2ad1afd",
    "outputId": "dee9c741-5440-4493-e82a-8748c0ec888b",
    "scrolled": true
   },
   "outputs": [
    {
     "name": "stdout",
     "output_type": "stream",
     "text": [
      "<class 'pandas.core.frame.DataFrame'>\n",
      "RangeIndex: 16531 entries, 0 to 16530\n",
      "Data columns (total 4 columns):\n",
      " #   Column           Non-Null Count  Dtype \n",
      "---  ------           --------------  ----- \n",
      " 0   ID пользователя  16531 non-null  int64 \n",
      " 1   Место сдачи      16531 non-null  object\n",
      " 2   Дата донации     16531 non-null  object\n",
      " 3   Оценка           16531 non-null  int64 \n",
      "dtypes: int64(2), object(2)\n",
      "memory usage: 516.7+ KB\n"
     ]
    }
   ],
   "source": [
    "#изучим данные\n",
    "note.info()"
   ]
  },
  {
   "cell_type": "code",
   "execution_count": 214,
   "id": "a6b83b23",
   "metadata": {
    "id": "a6b83b23"
   },
   "outputs": [],
   "source": [
    "#переименуем столбцы\n",
    "note = note.rename(columns={'ID пользователя': 'user_id', 'Место сдачи': 'center', 'Дата донации': 'donation_date', \\\n",
    "                            'Оценка': 'note'})"
   ]
  },
  {
   "cell_type": "code",
   "execution_count": 215,
   "id": "4bbad893",
   "metadata": {
    "id": "4bbad893"
   },
   "outputs": [],
   "source": [
    "#поменяем формат данных\n",
    "note['donation_date'] = pd.to_datetime(note['donation_date'], format='%d.%m.%Y', errors = 'coerce')"
   ]
  },
  {
   "cell_type": "code",
   "execution_count": 216,
   "id": "e5c5b535",
   "metadata": {
    "id": "e5c5b535"
   },
   "outputs": [],
   "source": [
    "#добавим столбцы\n",
    "note['year'] = pd.DatetimeIndex(note['donation_date']).year\n",
    "note['month'] = pd.DatetimeIndex(note['donation_date']).month"
   ]
  },
  {
   "cell_type": "code",
   "execution_count": 217,
   "id": "024e446d",
   "metadata": {
    "id": "024e446d",
    "outputId": "26946a00-ceda-4b68-86fa-4029677af089"
   },
   "outputs": [
    {
     "name": "stdout",
     "output_type": "stream",
     "text": [
      "1988-05-03 00:00:00\n",
      "2023-11-13 00:00:00\n"
     ]
    }
   ],
   "source": [
    "#проверим даты оценок\n",
    "print(note['donation_date'].min())\n",
    "print(note['donation_date'].max())"
   ]
  },
  {
   "cell_type": "markdown",
   "id": "1713b78f",
   "metadata": {
    "id": "1713b78f"
   },
   "source": [
    "Оставим данные за период 2013-2023. Проверим, какой процент данных будет удален."
   ]
  },
  {
   "cell_type": "code",
   "execution_count": 218,
   "id": "bf87b464",
   "metadata": {
    "id": "bf87b464",
    "outputId": "beb670ca-e934-4f2d-8292-0c65f121d07a",
    "scrolled": true
   },
   "outputs": [
    {
     "name": "stdout",
     "output_type": "stream",
     "text": [
      "2.728207609944952 % данных подлежит удалению\n"
     ]
    }
   ],
   "source": [
    "print(len(note[note['donation_date'] <= '2013-01-01']) / len(note['user_id']) * 100,'% данных подлежит удалению')"
   ]
  },
  {
   "cell_type": "code",
   "execution_count": 219,
   "id": "5341e470",
   "metadata": {
    "id": "5341e470"
   },
   "outputs": [],
   "source": [
    "#удалим ненужные данные\n",
    "note = note[note['donation_date'] >= '2013-01-01']"
   ]
  },
  {
   "cell_type": "code",
   "execution_count": 220,
   "id": "c24d79f4",
   "metadata": {
    "id": "c24d79f4",
    "outputId": "b8bd86fc-d064-42a1-9930-40a1005fa634",
    "scrolled": true
   },
   "outputs": [
    {
     "data": {
      "text/plain": [
       "5    12699\n",
       "4     2317\n",
       "3      931\n",
       "2       94\n",
       "1       38\n",
       "Name: note, dtype: int64"
      ]
     },
     "execution_count": 220,
     "metadata": {},
     "output_type": "execute_result"
    }
   ],
   "source": [
    "#изучим столбец note\n",
    "note['note'].value_counts()"
   ]
  },
  {
   "cell_type": "markdown",
   "id": "13434525",
   "metadata": {
    "id": "13434525"
   },
   "source": [
    "### 3.1.2 Users - датасет пользователи и бонусы"
   ]
  },
  {
   "cell_type": "code",
   "execution_count": 221,
   "id": "c2954f2f",
   "metadata": {
    "id": "c2954f2f",
    "outputId": "33c53874-f09f-420f-e12a-cabaa2ac3670"
   },
   "outputs": [
    {
     "data": {
      "text/html": [
       "<div>\n",
       "<style scoped>\n",
       "    .dataframe tbody tr th:only-of-type {\n",
       "        vertical-align: middle;\n",
       "    }\n",
       "\n",
       "    .dataframe tbody tr th {\n",
       "        vertical-align: top;\n",
       "    }\n",
       "\n",
       "    .dataframe thead th {\n",
       "        text-align: right;\n",
       "    }\n",
       "</style>\n",
       "<table border=\"1\" class=\"dataframe\">\n",
       "  <thead>\n",
       "    <tr style=\"text-align: right;\">\n",
       "      <th></th>\n",
       "      <th>user_id</th>\n",
       "      <th>Пол</th>\n",
       "      <th>Дата_рождения</th>\n",
       "      <th>Регион</th>\n",
       "      <th>Группа_крови</th>\n",
       "      <th>Kell-фактор</th>\n",
       "      <th>Цельная кровь</th>\n",
       "      <th>Плазма</th>\n",
       "      <th>Тромбоциты</th>\n",
       "      <th>Эритроциты</th>\n",
       "      <th>Лейкоциты</th>\n",
       "      <th>Костный мозг</th>\n",
       "      <th>Почетный_донор</th>\n",
       "      <th>Отвод_от_донации</th>\n",
       "      <th>Цельная_кровь.1</th>\n",
       "      <th>Плазма.1</th>\n",
       "      <th>Тромбоциты.1</th>\n",
       "      <th>Эритроциты.1</th>\n",
       "      <th>Лейкоциты.1</th>\n",
       "      <th>Дата_регистрации</th>\n",
       "      <th>Не_подтверждённые_донации</th>\n",
       "      <th>Прошедших_донаций</th>\n",
       "      <th>Донаций_до_регистрации</th>\n",
       "      <th>Последняя_активность</th>\n",
       "      <th>Теги</th>\n",
       "      <th>Указан_email</th>\n",
       "      <th>Указан_телефон</th>\n",
       "      <th>Авторизация_через_ВК</th>\n",
       "      <th>Авторизация_через_Одноклассники</th>\n",
       "      <th>Авторизация_через_Твиттер</th>\n",
       "      <th>Авторизация_через_Яндекс</th>\n",
       "      <th>Авторизация_через_Гугл</th>\n",
       "      <th>Подтверждённые_донации</th>\n",
       "      <th>Получен_значок_20</th>\n",
       "      <th>Получен_значок_100</th>\n",
       "      <th>Донаций_на_момент_регистрации</th>\n",
       "      <th>Количество_взятых_бонусов</th>\n",
       "      <th>Дата_получения_почетного_донора</th>\n",
       "      <th>Подтвержденный_почетный_донор</th>\n",
       "      <th>Предполагаемая_дата_получения_почетного_донора</th>\n",
       "    </tr>\n",
       "  </thead>\n",
       "  <tbody>\n",
       "    <tr>\n",
       "      <th>0</th>\n",
       "      <td>275790</td>\n",
       "      <td>NaN</td>\n",
       "      <td>NaN</td>\n",
       "      <td>Россия, Кемеровская область, Мыски</td>\n",
       "      <td>O(I) Rh-</td>\n",
       "      <td>NaN</td>\n",
       "      <td>Да</td>\n",
       "      <td>Да</td>\n",
       "      <td>Да</td>\n",
       "      <td>Да</td>\n",
       "      <td>Да</td>\n",
       "      <td>Нет</td>\n",
       "      <td>Дата получения не известна</td>\n",
       "      <td>Нет</td>\n",
       "      <td>0</td>\n",
       "      <td>0</td>\n",
       "      <td>0</td>\n",
       "      <td>0</td>\n",
       "      <td>0</td>\n",
       "      <td>2023-11-23</td>\n",
       "      <td>0</td>\n",
       "      <td>0</td>\n",
       "      <td>NaN</td>\n",
       "      <td>2023-11-23</td>\n",
       "      <td>['DirectSignUp']</td>\n",
       "      <td>нет</td>\n",
       "      <td>да</td>\n",
       "      <td>нет</td>\n",
       "      <td>нет</td>\n",
       "      <td>нет</td>\n",
       "      <td>нет</td>\n",
       "      <td>нет</td>\n",
       "      <td>0</td>\n",
       "      <td>нет</td>\n",
       "      <td>нет</td>\n",
       "      <td>NaN</td>\n",
       "      <td>0</td>\n",
       "      <td>NaN</td>\n",
       "      <td>0</td>\n",
       "      <td>NaN</td>\n",
       "    </tr>\n",
       "    <tr>\n",
       "      <th>1</th>\n",
       "      <td>275789</td>\n",
       "      <td>Женский</td>\n",
       "      <td>NaN</td>\n",
       "      <td>NaN</td>\n",
       "      <td>NaN</td>\n",
       "      <td>NaN</td>\n",
       "      <td>Да</td>\n",
       "      <td>Да</td>\n",
       "      <td>Да</td>\n",
       "      <td>Да</td>\n",
       "      <td>Да</td>\n",
       "      <td>Нет</td>\n",
       "      <td>Дата получения не известна</td>\n",
       "      <td>Нет</td>\n",
       "      <td>0</td>\n",
       "      <td>0</td>\n",
       "      <td>0</td>\n",
       "      <td>0</td>\n",
       "      <td>0</td>\n",
       "      <td>2023-11-23</td>\n",
       "      <td>0</td>\n",
       "      <td>0</td>\n",
       "      <td>NaN</td>\n",
       "      <td>NaN</td>\n",
       "      <td>['CardsMobile']</td>\n",
       "      <td>да</td>\n",
       "      <td>да</td>\n",
       "      <td>нет</td>\n",
       "      <td>нет</td>\n",
       "      <td>нет</td>\n",
       "      <td>нет</td>\n",
       "      <td>нет</td>\n",
       "      <td>0</td>\n",
       "      <td>нет</td>\n",
       "      <td>нет</td>\n",
       "      <td>NaN</td>\n",
       "      <td>0</td>\n",
       "      <td>NaN</td>\n",
       "      <td>0</td>\n",
       "      <td>NaN</td>\n",
       "    </tr>\n",
       "    <tr>\n",
       "      <th>2</th>\n",
       "      <td>275788</td>\n",
       "      <td>NaN</td>\n",
       "      <td>NaN</td>\n",
       "      <td>NaN</td>\n",
       "      <td>NaN</td>\n",
       "      <td>NaN</td>\n",
       "      <td>Да</td>\n",
       "      <td>Да</td>\n",
       "      <td>Да</td>\n",
       "      <td>Да</td>\n",
       "      <td>Да</td>\n",
       "      <td>Нет</td>\n",
       "      <td>Дата получения не известна</td>\n",
       "      <td>Нет</td>\n",
       "      <td>0</td>\n",
       "      <td>0</td>\n",
       "      <td>0</td>\n",
       "      <td>0</td>\n",
       "      <td>0</td>\n",
       "      <td>2023-11-23</td>\n",
       "      <td>0</td>\n",
       "      <td>0</td>\n",
       "      <td>NaN</td>\n",
       "      <td>2023-11-23</td>\n",
       "      <td>['Blood']</td>\n",
       "      <td>нет</td>\n",
       "      <td>да</td>\n",
       "      <td>нет</td>\n",
       "      <td>нет</td>\n",
       "      <td>нет</td>\n",
       "      <td>нет</td>\n",
       "      <td>нет</td>\n",
       "      <td>0</td>\n",
       "      <td>нет</td>\n",
       "      <td>нет</td>\n",
       "      <td>NaN</td>\n",
       "      <td>0</td>\n",
       "      <td>NaN</td>\n",
       "      <td>0</td>\n",
       "      <td>NaN</td>\n",
       "    </tr>\n",
       "    <tr>\n",
       "      <th>3</th>\n",
       "      <td>275787</td>\n",
       "      <td>Мужской</td>\n",
       "      <td>1977-04-29</td>\n",
       "      <td>NaN</td>\n",
       "      <td>NaN</td>\n",
       "      <td>NaN</td>\n",
       "      <td>Да</td>\n",
       "      <td>Да</td>\n",
       "      <td>Да</td>\n",
       "      <td>Да</td>\n",
       "      <td>Да</td>\n",
       "      <td>Нет</td>\n",
       "      <td>Дата получения не известна</td>\n",
       "      <td>Нет</td>\n",
       "      <td>0</td>\n",
       "      <td>0</td>\n",
       "      <td>0</td>\n",
       "      <td>0</td>\n",
       "      <td>0</td>\n",
       "      <td>2023-11-23</td>\n",
       "      <td>0</td>\n",
       "      <td>0</td>\n",
       "      <td>32.0</td>\n",
       "      <td>2023-11-23</td>\n",
       "      <td>['MainPage']</td>\n",
       "      <td>да</td>\n",
       "      <td>да</td>\n",
       "      <td>нет</td>\n",
       "      <td>нет</td>\n",
       "      <td>нет</td>\n",
       "      <td>да</td>\n",
       "      <td>нет</td>\n",
       "      <td>0</td>\n",
       "      <td>нет</td>\n",
       "      <td>нет</td>\n",
       "      <td>32.0</td>\n",
       "      <td>0</td>\n",
       "      <td>NaN</td>\n",
       "      <td>0</td>\n",
       "      <td>NaN</td>\n",
       "    </tr>\n",
       "    <tr>\n",
       "      <th>4</th>\n",
       "      <td>275786</td>\n",
       "      <td>NaN</td>\n",
       "      <td>NaN</td>\n",
       "      <td>Россия, Москва</td>\n",
       "      <td>O(I) Rh+</td>\n",
       "      <td>NaN</td>\n",
       "      <td>Да</td>\n",
       "      <td>Да</td>\n",
       "      <td>Да</td>\n",
       "      <td>Да</td>\n",
       "      <td>Да</td>\n",
       "      <td>Нет</td>\n",
       "      <td>Дата получения не известна</td>\n",
       "      <td>Нет</td>\n",
       "      <td>0</td>\n",
       "      <td>0</td>\n",
       "      <td>0</td>\n",
       "      <td>0</td>\n",
       "      <td>0</td>\n",
       "      <td>2023-11-23</td>\n",
       "      <td>0</td>\n",
       "      <td>0</td>\n",
       "      <td>2.0</td>\n",
       "      <td>2023-11-23</td>\n",
       "      <td>['MainPage']</td>\n",
       "      <td>да</td>\n",
       "      <td>нет</td>\n",
       "      <td>да</td>\n",
       "      <td>нет</td>\n",
       "      <td>нет</td>\n",
       "      <td>нет</td>\n",
       "      <td>нет</td>\n",
       "      <td>0</td>\n",
       "      <td>нет</td>\n",
       "      <td>нет</td>\n",
       "      <td>2.0</td>\n",
       "      <td>0</td>\n",
       "      <td>NaN</td>\n",
       "      <td>0</td>\n",
       "      <td>NaN</td>\n",
       "    </tr>\n",
       "  </tbody>\n",
       "</table>\n",
       "</div>"
      ],
      "text/plain": [
       "   user_id      Пол Дата_рождения                              Регион  \\\n",
       "0   275790      NaN           NaN  Россия, Кемеровская область, Мыски   \n",
       "1   275789  Женский           NaN                                 NaN   \n",
       "2   275788      NaN           NaN                                 NaN   \n",
       "3   275787  Мужской    1977-04-29                                 NaN   \n",
       "4   275786      NaN           NaN                      Россия, Москва   \n",
       "\n",
       "  Группа_крови Kell-фактор Цельная кровь Плазма Тромбоциты Эритроциты  \\\n",
       "0     O(I) Rh-         NaN            Да     Да         Да         Да   \n",
       "1          NaN         NaN            Да     Да         Да         Да   \n",
       "2          NaN         NaN            Да     Да         Да         Да   \n",
       "3          NaN         NaN            Да     Да         Да         Да   \n",
       "4     O(I) Rh+         NaN            Да     Да         Да         Да   \n",
       "\n",
       "  Лейкоциты Костный мозг              Почетный_донор Отвод_от_донации  \\\n",
       "0        Да          Нет  Дата получения не известна              Нет   \n",
       "1        Да          Нет  Дата получения не известна              Нет   \n",
       "2        Да          Нет  Дата получения не известна              Нет   \n",
       "3        Да          Нет  Дата получения не известна              Нет   \n",
       "4        Да          Нет  Дата получения не известна              Нет   \n",
       "\n",
       "   Цельная_кровь.1  Плазма.1  Тромбоциты.1  Эритроциты.1  Лейкоциты.1  \\\n",
       "0                0         0             0             0            0   \n",
       "1                0         0             0             0            0   \n",
       "2                0         0             0             0            0   \n",
       "3                0         0             0             0            0   \n",
       "4                0         0             0             0            0   \n",
       "\n",
       "  Дата_регистрации  Не_подтверждённые_донации  Прошедших_донаций  \\\n",
       "0       2023-11-23                          0                  0   \n",
       "1       2023-11-23                          0                  0   \n",
       "2       2023-11-23                          0                  0   \n",
       "3       2023-11-23                          0                  0   \n",
       "4       2023-11-23                          0                  0   \n",
       "\n",
       "   Донаций_до_регистрации Последняя_активность              Теги Указан_email  \\\n",
       "0                     NaN           2023-11-23  ['DirectSignUp']          нет   \n",
       "1                     NaN                  NaN   ['CardsMobile']           да   \n",
       "2                     NaN           2023-11-23         ['Blood']          нет   \n",
       "3                    32.0           2023-11-23      ['MainPage']           да   \n",
       "4                     2.0           2023-11-23      ['MainPage']           да   \n",
       "\n",
       "  Указан_телефон Авторизация_через_ВК Авторизация_через_Одноклассники  \\\n",
       "0             да                  нет                             нет   \n",
       "1             да                  нет                             нет   \n",
       "2             да                  нет                             нет   \n",
       "3             да                  нет                             нет   \n",
       "4            нет                   да                             нет   \n",
       "\n",
       "  Авторизация_через_Твиттер Авторизация_через_Яндекс Авторизация_через_Гугл  \\\n",
       "0                       нет                      нет                    нет   \n",
       "1                       нет                      нет                    нет   \n",
       "2                       нет                      нет                    нет   \n",
       "3                       нет                       да                    нет   \n",
       "4                       нет                      нет                    нет   \n",
       "\n",
       "   Подтверждённые_донации Получен_значок_20 Получен_значок_100  \\\n",
       "0                       0               нет                нет   \n",
       "1                       0               нет                нет   \n",
       "2                       0               нет                нет   \n",
       "3                       0               нет                нет   \n",
       "4                       0               нет                нет   \n",
       "\n",
       "   Донаций_на_момент_регистрации  Количество_взятых_бонусов  \\\n",
       "0                            NaN                          0   \n",
       "1                            NaN                          0   \n",
       "2                            NaN                          0   \n",
       "3                           32.0                          0   \n",
       "4                            2.0                          0   \n",
       "\n",
       "  Дата_получения_почетного_донора  Подтвержденный_почетный_донор  \\\n",
       "0                             NaN                              0   \n",
       "1                             NaN                              0   \n",
       "2                             NaN                              0   \n",
       "3                             NaN                              0   \n",
       "4                             NaN                              0   \n",
       "\n",
       "  Предполагаемая_дата_получения_почетного_донора  \n",
       "0                                            NaN  \n",
       "1                                            NaN  \n",
       "2                                            NaN  \n",
       "3                                            NaN  \n",
       "4                                            NaN  "
      ]
     },
     "execution_count": 221,
     "metadata": {},
     "output_type": "execute_result"
    }
   ],
   "source": [
    "#загрузим данные\n",
    "users = pd.read_csv('C:/Users/User/Desktop/donor/users_anon_data_23_11.csv', low_memory=False)\n",
    "users.head()"
   ]
  },
  {
   "cell_type": "code",
   "execution_count": 222,
   "id": "840ff341",
   "metadata": {
    "id": "840ff341",
    "outputId": "8b375450-4eff-4f48-d0bf-d49823add6df",
    "scrolled": false
   },
   "outputs": [
    {
     "name": "stdout",
     "output_type": "stream",
     "text": [
      "<class 'pandas.core.frame.DataFrame'>\n",
      "RangeIndex: 265474 entries, 0 to 265473\n",
      "Data columns (total 40 columns):\n",
      " #   Column                                          Non-Null Count   Dtype  \n",
      "---  ------                                          --------------   -----  \n",
      " 0   user_id                                         265474 non-null  int64  \n",
      " 1   Пол                                             103645 non-null  object \n",
      " 2   Дата_рождения                                   92547 non-null   object \n",
      " 3   Регион                                          165061 non-null  object \n",
      " 4   Группа_крови                                    51967 non-null   object \n",
      " 5   Kell-фактор                                     44538 non-null   object \n",
      " 6   Цельная кровь                                   265474 non-null  object \n",
      " 7   Плазма                                          265474 non-null  object \n",
      " 8   Тромбоциты                                      265474 non-null  object \n",
      " 9   Эритроциты                                      265474 non-null  object \n",
      " 10  Лейкоциты                                       265474 non-null  object \n",
      " 11  Костный мозг                                    265474 non-null  object \n",
      " 12  Почетный_донор                                  265474 non-null  object \n",
      " 13  Отвод_от_донации                                265474 non-null  object \n",
      " 14  Цельная_кровь.1                                 265474 non-null  int64  \n",
      " 15  Плазма.1                                        265474 non-null  int64  \n",
      " 16  Тромбоциты.1                                    265474 non-null  int64  \n",
      " 17  Эритроциты.1                                    265474 non-null  int64  \n",
      " 18  Лейкоциты.1                                     265474 non-null  int64  \n",
      " 19  Дата_регистрации                                265474 non-null  object \n",
      " 20  Не_подтверждённые_донации                       265474 non-null  int64  \n",
      " 21  Прошедших_донаций                               265474 non-null  int64  \n",
      " 22  Донаций_до_регистрации                          12857 non-null   float64\n",
      " 23  Последняя_активность                            91622 non-null   object \n",
      " 24  Теги                                            82830 non-null   object \n",
      " 25  Указан_email                                    265474 non-null  object \n",
      " 26  Указан_телефон                                  265474 non-null  object \n",
      " 27  Авторизация_через_ВК                            265474 non-null  object \n",
      " 28  Авторизация_через_Одноклассники                 265474 non-null  object \n",
      " 29  Авторизация_через_Твиттер                       265474 non-null  object \n",
      " 30  Авторизация_через_Яндекс                        265474 non-null  object \n",
      " 31  Авторизация_через_Гугл                          265474 non-null  object \n",
      " 32  Подтверждённые_донации                          265474 non-null  int64  \n",
      " 33  Получен_значок_20                               265474 non-null  object \n",
      " 34  Получен_значок_100                              265474 non-null  object \n",
      " 35  Донаций_на_момент_регистрации                   10841 non-null   float64\n",
      " 36  Количество_взятых_бонусов                       265474 non-null  int64  \n",
      " 37  Дата_получения_почетного_донора                 6276 non-null    object \n",
      " 38  Подтвержденный_почетный_донор                   265474 non-null  int64  \n",
      " 39  Предполагаемая_дата_получения_почетного_донора  14708 non-null   object \n",
      "dtypes: float64(2), int64(11), object(27)\n",
      "memory usage: 81.0+ MB\n"
     ]
    }
   ],
   "source": [
    "#изучим данные\n",
    "users.info()"
   ]
  },
  {
   "cell_type": "code",
   "execution_count": 223,
   "id": "c698ee2d",
   "metadata": {
    "id": "c698ee2d"
   },
   "outputs": [],
   "source": [
    "#поменяем формат\n",
    "users['Дата_регистрации'] = pd.to_datetime(users['Дата_регистрации'], format='%Y.%m.%d', errors = 'coerce')\n",
    "users['Дата_рождения'] = pd.to_datetime(users['Дата_рождения'], format='%Y.%m.%d', errors = 'coerce')\n",
    "users['Последняя_активность'] = pd.to_datetime(users['Последняя_активность'], format='%Y.%m.%d', errors = 'coerce')\n",
    "users['Дата_получения_почетного_донора'] = pd.to_datetime(users['Дата_получения_почетного_донора'], format='%Y.%m.%d',\\\n",
    "                                                          errors = 'coerce')\n",
    "users['Предполагаемая_дата_получения_почетного_донора'] = \\\n",
    "pd.to_datetime(users['Предполагаемая_дата_получения_почетного_донора'], format='%Y.%m.%d', errors = 'coerce')"
   ]
  },
  {
   "cell_type": "markdown",
   "id": "ac240bf1",
   "metadata": {
    "id": "ac240bf1"
   },
   "source": [
    "## 3.2 Расчет метрик"
   ]
  },
  {
   "cell_type": "markdown",
   "id": "94811706",
   "metadata": {},
   "source": [
    "### 3.2.1 Общие метрики о произведенных донациях"
   ]
  },
  {
   "cell_type": "code",
   "execution_count": 224,
   "id": "86016006",
   "metadata": {},
   "outputs": [
    {
     "data": {
      "text/plain": [
       "array([2023, 2022, 2021, 2020], dtype=int64)"
      ]
     },
     "execution_count": 224,
     "metadata": {},
     "output_type": "execute_result"
    }
   ],
   "source": [
    "# посмотрим уникальные года добавления донации в базу\n",
    "donations['donation_added_year'].unique()"
   ]
  },
  {
   "cell_type": "code",
   "execution_count": 225,
   "id": "dd4907f6",
   "metadata": {},
   "outputs": [
    {
     "name": "stdout",
     "output_type": "stream",
     "text": [
      "В 2020 году:\n",
      "    В сумме:\n",
      "    1.  Общее количество пользователей: 21303;\n",
      "    2.  Общее количество донаций: 73128;\n",
      "\n",
      "    В расчете на одного человека:\n",
      "    3.  Максимальное количество донаций на одного человека: 145;\n",
      "    4.  Минимальное количество донаций на одного человека: 1;\n",
      "    5.  Среднее количество донаций на одного человека: 3.43;\n",
      "    6.  Медианное количество донаций на одного человека: 1;\n",
      "\n",
      "    В расчете по времени:\n",
      "    7.  Максимальный промежуток времени между датой донации и датой ее добавления в систему: 2878 дней;\n",
      "    8.  Средний промежуток времени между датой донации и датой ее добавления в систему: 1564.92 дней;\n",
      "    9. Медианный промежуток времени между датой донации и датой ее добавления в систему: 1669 дней.\n",
      "\n",
      "\n",
      "    \n",
      "В 2021 году:\n",
      "    В сумме:\n",
      "    1.  Общее количество пользователей: 2573;\n",
      "    2.  Общее количество донаций: 9983;\n",
      "\n",
      "    В расчете на одного человека:\n",
      "    3.  Максимальное количество донаций на одного человека: 63;\n",
      "    4.  Минимальное количество донаций на одного человека: 1;\n",
      "    5.  Среднее количество донаций на одного человека: 3.88;\n",
      "    6.  Медианное количество донаций на одного человека: 2;\n",
      "\n",
      "    В расчете по времени:\n",
      "    7.  Максимальный промежуток времени между датой донации и датой ее добавления в систему: 3231 дней;\n",
      "    8.  Средний промежуток времени между датой донации и датой ее добавления в систему: 374.33 дней;\n",
      "    9. Медианный промежуток времени между датой донации и датой ее добавления в систему: 54 дней.\n",
      "\n",
      "\n",
      "    \n",
      "В 2022 году:\n",
      "    В сумме:\n",
      "    1.  Общее количество пользователей: 9393;\n",
      "    2.  Общее количество донаций: 49006;\n",
      "\n",
      "    В расчете на одного человека:\n",
      "    3.  Максимальное количество донаций на одного человека: 187;\n",
      "    4.  Минимальное количество донаций на одного человека: 1;\n",
      "    5.  Среднее количество донаций на одного человека: 5.22;\n",
      "    6.  Медианное количество донаций на одного человека: 2;\n",
      "\n",
      "    В расчете по времени:\n",
      "    7.  Максимальный промежуток времени между датой донации и датой ее добавления в систему: 3644 дней;\n",
      "    8.  Средний промежуток времени между датой донации и датой ее добавления в систему: 822.22 дней;\n",
      "    9. Медианный промежуток времени между датой донации и датой ее добавления в систему: 362 дней.\n",
      "\n",
      "\n",
      "    \n",
      "В 2023 году:\n",
      "    В сумме:\n",
      "    1.  Общее количество пользователей: 11193;\n",
      "    2.  Общее количество донаций: 61756;\n",
      "\n",
      "    В расчете на одного человека:\n",
      "    3.  Максимальное количество донаций на одного человека: 191;\n",
      "    4.  Минимальное количество донаций на одного человека: 1;\n",
      "    5.  Среднее количество донаций на одного человека: 5.52;\n",
      "    6.  Медианное количество донаций на одного человека: 2;\n",
      "\n",
      "    В расчете по времени:\n",
      "    7.  Максимальный промежуток времени между датой донации и датой ее добавления в систему: 3962 дней;\n",
      "    8.  Средний промежуток времени между датой донации и датой ее добавления в систему: 879.84 дней;\n",
      "    9. Медианный промежуток времени между датой донации и датой ее добавления в систему: 340 дней.\n",
      "\n",
      "\n",
      "    \n"
     ]
    }
   ],
   "source": [
    "df = donations.copy()\n",
    "for y in sorted(df['donation_added_year'].dropna().unique().tolist()):\n",
    "    df_query = df[df['donation_added_year']==y]\n",
    "    print('''В {} году:\n",
    "    В сумме:\n",
    "    1.  Общее количество пользователей: {};\n",
    "    2.  Общее количество донаций: {};\n",
    "\n",
    "    В расчете на одного человека:\n",
    "    3.  Максимальное количество донаций на одного человека: {};\n",
    "    4.  Минимальное количество донаций на одного человека: {};\n",
    "    5.  Среднее количество донаций на одного человека: {};\n",
    "    6.  Медианное количество донаций на одного человека: {};\n",
    "\n",
    "    В расчете по времени:\n",
    "    7.  Максимальный промежуток времени между датой донации и датой ее добавления в систему: {} дней;\n",
    "    8.  Средний промежуток времени между датой донации и датой ее добавления в систему: {} дней;\n",
    "    9. Медианный промежуток времени между датой донации и датой ее добавления в систему: {} дней.\n",
    "\n",
    "\n",
    "    '''\n",
    "          .format(y,\n",
    "                  df_query['user_id'].nunique(),\n",
    "                  df_query['donation_id'].nunique(),\n",
    "                  max(df_query.groupby('user_id')['donation_id'].count()),\n",
    "                  min(df_query.groupby('user_id')['donation_id'].count()),\n",
    "                  round(df_query['donation_id'].nunique()/df_query['user_id'].nunique(), 2),\n",
    "                  round(df_query.groupby('user_id')['donation_id'].count().median()),\n",
    "                  (max(df_query['donation_added_date'] - df_query['donation_date']).days),\n",
    "                  round((df_query['donation_added_date'] - df_query['donation_date']).dt.days.mean(), 2),\n",
    "                  round((df_query['donation_added_date'] - df_query['donation_date']).dt.days.median())\n",
    "                 ))"
   ]
  },
  {
   "cell_type": "markdown",
   "id": "5ee0f07c",
   "metadata": {},
   "source": [
    "### 3.2.2 Специальные метрики"
   ]
  },
  {
   "cell_type": "markdown",
   "id": "52519f99",
   "metadata": {},
   "source": [
    "#### 3.2.2.1 RUR"
   ]
  },
  {
   "cell_type": "markdown",
   "id": "bb1c742b",
   "metadata": {},
   "source": [
    "RUR (Returning User Rate — коэффициент вернувшихся пользователей) — эта метрика показывает процент вернувшихся доноров из общего количества.\n",
    "\n",
    "**Формула расчета: Returning User Rate = Количество пользователей c более 1 донацией / Количество всех пользователей * 100%**"
   ]
  },
  {
   "cell_type": "code",
   "execution_count": 226,
   "id": "f757e88d",
   "metadata": {},
   "outputs": [
    {
     "name": "stdout",
     "output_type": "stream",
     "text": [
      "Значение RUR (по дате добавления донации) в 2020 году состовялет 46.14%\n",
      "Значение RUR (по дате добавления донации) в 2021 году состовялет 60.24%\n",
      "Значение RUR (по дате добавления донации) в 2022 году состовялет 53.22%\n",
      "Значение RUR (по дате добавления донации) в 2023 году состовялет 54.93%\n"
     ]
    }
   ],
   "source": [
    "df_group = donations.groupby(['user_id', 'donation_added_year'])['donation_id'].count().reset_index()\n",
    "\n",
    "for y in sorted(df_group['donation_added_year'].unique().tolist()): # разобьем по годам\n",
    "    df_group_query = df_group[df_group['donation_added_year']==y]\n",
    "    \n",
    "    rur = round(df_group_query[df_group_query['donation_id']>=2].shape[0] / df_group_query.shape[0] * 100, 2)\n",
    "    print('Значение RUR (по дате добавления донации) в {} году состовялет {}%'.format(y, rur))"
   ]
  },
  {
   "cell_type": "markdown",
   "id": "860c966a",
   "metadata": {},
   "source": [
    "#### 3.2.2.2 ER"
   ]
  },
  {
   "cell_type": "markdown",
   "id": "aaaf6260",
   "metadata": {},
   "source": [
    "ER (Engagement Rate — коэффициент вовлеченности) — эта метрика показывает, сколько пользователей из общего числа доноров добавили информацию о донации в течении 90 дней после нее.\n",
    "\n",
    "**Формула расчета: Engagement Rate = Добавления / Подписчики * 100%**"
   ]
  },
  {
   "cell_type": "code",
   "execution_count": 227,
   "id": "d45099be",
   "metadata": {},
   "outputs": [
    {
     "name": "stdout",
     "output_type": "stream",
     "text": [
      "Значение ER в 2020 году состовялет 1.7%\n",
      "Значение ER в 2021 году состовялет 54.69%\n",
      "Значение ER в 2022 году состовялет 35.42%\n",
      "Значение ER в 2023 году состовялет 38.74%\n"
     ]
    }
   ],
   "source": [
    "for y in sorted(df_group['donation_added_year'].unique().tolist()):\n",
    "    df_group_query = df[df['donation_added_year']==y]\n",
    "    er = round(df_group_query[(df_group_query['difference'] <= 90) & (df_group_query['difference'] >= 0)].shape[0] /\n",
    "               df_group_query[df_group_query['difference'] >= 0].shape[0] * 100, 2)\n",
    "    print('Значение ER в {} году состовялет {}%'.format(y, er))"
   ]
  },
  {
   "cell_type": "markdown",
   "id": "1815db01",
   "metadata": {
    "id": "1815db01"
   },
   "source": [
    "### 3.2.3 Прирост активных доноров"
   ]
  },
  {
   "cell_type": "code",
   "execution_count": 228,
   "id": "9e1716b4",
   "metadata": {
    "id": "9e1716b4",
    "outputId": "f6b91e2f-ad1a-4bb1-fc82-f92698341384"
   },
   "outputs": [
    {
     "data": {
      "text/html": [
       "<div>\n",
       "<style scoped>\n",
       "    .dataframe tbody tr th:only-of-type {\n",
       "        vertical-align: middle;\n",
       "    }\n",
       "\n",
       "    .dataframe tbody tr th {\n",
       "        vertical-align: top;\n",
       "    }\n",
       "\n",
       "    .dataframe thead th {\n",
       "        text-align: right;\n",
       "    }\n",
       "</style>\n",
       "<table border=\"1\" class=\"dataframe\">\n",
       "  <thead>\n",
       "    <tr style=\"text-align: right;\">\n",
       "      <th></th>\n",
       "      <th>donation_year</th>\n",
       "      <th>donors_total</th>\n",
       "      <th>growth</th>\n",
       "    </tr>\n",
       "  </thead>\n",
       "  <tbody>\n",
       "    <tr>\n",
       "      <th>0</th>\n",
       "      <td>2013</td>\n",
       "      <td>3152</td>\n",
       "      <td>NaN</td>\n",
       "    </tr>\n",
       "    <tr>\n",
       "      <th>1</th>\n",
       "      <td>2014</td>\n",
       "      <td>6914</td>\n",
       "      <td>119.35</td>\n",
       "    </tr>\n",
       "    <tr>\n",
       "      <th>2</th>\n",
       "      <td>2015</td>\n",
       "      <td>8385</td>\n",
       "      <td>21.28</td>\n",
       "    </tr>\n",
       "    <tr>\n",
       "      <th>3</th>\n",
       "      <td>2016</td>\n",
       "      <td>7549</td>\n",
       "      <td>-9.97</td>\n",
       "    </tr>\n",
       "    <tr>\n",
       "      <th>4</th>\n",
       "      <td>2017</td>\n",
       "      <td>5270</td>\n",
       "      <td>-30.19</td>\n",
       "    </tr>\n",
       "    <tr>\n",
       "      <th>5</th>\n",
       "      <td>2018</td>\n",
       "      <td>5444</td>\n",
       "      <td>3.30</td>\n",
       "    </tr>\n",
       "    <tr>\n",
       "      <th>6</th>\n",
       "      <td>2019</td>\n",
       "      <td>5343</td>\n",
       "      <td>-1.86</td>\n",
       "    </tr>\n",
       "    <tr>\n",
       "      <th>7</th>\n",
       "      <td>2020</td>\n",
       "      <td>4351</td>\n",
       "      <td>-18.57</td>\n",
       "    </tr>\n",
       "    <tr>\n",
       "      <th>8</th>\n",
       "      <td>2021</td>\n",
       "      <td>6008</td>\n",
       "      <td>38.08</td>\n",
       "    </tr>\n",
       "    <tr>\n",
       "      <th>9</th>\n",
       "      <td>2022</td>\n",
       "      <td>11313</td>\n",
       "      <td>88.30</td>\n",
       "    </tr>\n",
       "    <tr>\n",
       "      <th>10</th>\n",
       "      <td>2023</td>\n",
       "      <td>10288</td>\n",
       "      <td>-9.06</td>\n",
       "    </tr>\n",
       "  </tbody>\n",
       "</table>\n",
       "</div>"
      ],
      "text/plain": [
       "    donation_year  donors_total  growth\n",
       "0            2013          3152     NaN\n",
       "1            2014          6914  119.35\n",
       "2            2015          8385   21.28\n",
       "3            2016          7549   -9.97\n",
       "4            2017          5270  -30.19\n",
       "5            2018          5444    3.30\n",
       "6            2019          5343   -1.86\n",
       "7            2020          4351  -18.57\n",
       "8            2021          6008   38.08\n",
       "9            2022         11313   88.30\n",
       "10           2023         10288   -9.06"
      ]
     },
     "execution_count": 228,
     "metadata": {},
     "output_type": "execute_result"
    }
   ],
   "source": [
    "#посчитаем рост количетва доноров по отношению к предыдущему году в %\n",
    "donor_growth = donations.pivot_table(index='donation_year', values='user_id', aggfunc='nunique').reset_index().\\\n",
    "rename(columns={'user_id': 'donors_total'})\n",
    "\n",
    "donor_growth['growth'] = round((donor_growth.shift(-1)['donors_total'] - donor_growth['donors_total']) \\\n",
    "                               / donor_growth['donors_total'] * 100,2) # в %\n",
    "donor_growth['growth'] = donor_growth['growth'].shift(1)\n",
    "donor_growth"
   ]
  },
  {
   "cell_type": "code",
   "execution_count": 229,
   "id": "d24e6244",
   "metadata": {
    "id": "d24e6244",
    "outputId": "2dd9f9b5-2125-4d1e-dbf3-63f402f63e07"
   },
   "outputs": [
    {
     "data": {
      "image/png": "[encoded data removed]",
      "text/plain": [
       "<Figure size 700x500 with 1 Axes>"
      ]
     },
     "metadata": {},
     "output_type": "display_data"
    }
   ],
   "source": [
    "#построим график\n",
    "plt.figure(figsize=(7,5))\n",
    "ax = sns.barplot(data = donor_growth, x='donation_year', y='growth')\n",
    "ax.bar_label(ax.containers[0], fmt='%.1f%%')\n",
    "plt.title('Прирост активных доноров по отношению к прошлому году')\n",
    "plt.xlabel('Год')\n",
    "plt.ylabel('% прироста')\n",
    "plt.show()"
   ]
  },
  {
   "cell_type": "markdown",
   "id": "932f5274",
   "metadata": {
    "id": "932f5274"
   },
   "source": [
    "**Вывод:** \n",
    "\n",
    "В 2022 количество активных доноров, регистрирующих свои донации на платформе, выросло почти в 2 раза к 2021г. Рост в 2021 и 2022, возможно, связан с связан со снятием короновирусных ограничений. Также рост может быть связан с запуском новой версии сайта в ноябре 2020.\n",
    "\n",
    "Однако, на ноябрь 2023 количество активных доноров упало на 9%. Необходимо помнить, что данные за 2023 год неполные."
   ]
  },
  {
   "cell_type": "code",
   "execution_count": 230,
   "id": "0f1687f1",
   "metadata": {
    "id": "0f1687f1",
    "outputId": "514769ed-e30e-4828-a1b1-3c4e5ed8179c"
   },
   "outputs": [
    {
     "data": {
      "text/html": [
       "<div>\n",
       "<style scoped>\n",
       "    .dataframe tbody tr th:only-of-type {\n",
       "        vertical-align: middle;\n",
       "    }\n",
       "\n",
       "    .dataframe tbody tr th {\n",
       "        vertical-align: top;\n",
       "    }\n",
       "\n",
       "    .dataframe thead th {\n",
       "        text-align: right;\n",
       "    }\n",
       "</style>\n",
       "<table border=\"1\" class=\"dataframe\">\n",
       "  <thead>\n",
       "    <tr style=\"text-align: right;\">\n",
       "      <th>donation_year</th>\n",
       "      <th>2019</th>\n",
       "      <th>2020</th>\n",
       "      <th>2021</th>\n",
       "      <th>2022</th>\n",
       "      <th>2023</th>\n",
       "    </tr>\n",
       "    <tr>\n",
       "      <th>donation_month</th>\n",
       "      <th></th>\n",
       "      <th></th>\n",
       "      <th></th>\n",
       "      <th></th>\n",
       "      <th></th>\n",
       "    </tr>\n",
       "  </thead>\n",
       "  <tbody>\n",
       "    <tr>\n",
       "      <th>1</th>\n",
       "      <td>1185.0</td>\n",
       "      <td>878.0</td>\n",
       "      <td>1048.0</td>\n",
       "      <td>1610.0</td>\n",
       "      <td>2312.0</td>\n",
       "    </tr>\n",
       "    <tr>\n",
       "      <th>2</th>\n",
       "      <td>1249.0</td>\n",
       "      <td>927.0</td>\n",
       "      <td>1171.0</td>\n",
       "      <td>1685.0</td>\n",
       "      <td>2442.0</td>\n",
       "    </tr>\n",
       "    <tr>\n",
       "      <th>3</th>\n",
       "      <td>1369.0</td>\n",
       "      <td>1012.0</td>\n",
       "      <td>1399.0</td>\n",
       "      <td>2364.0</td>\n",
       "      <td>2776.0</td>\n",
       "    </tr>\n",
       "    <tr>\n",
       "      <th>4</th>\n",
       "      <td>1519.0</td>\n",
       "      <td>1130.0</td>\n",
       "      <td>1414.0</td>\n",
       "      <td>2452.0</td>\n",
       "      <td>2398.0</td>\n",
       "    </tr>\n",
       "    <tr>\n",
       "      <th>5</th>\n",
       "      <td>1258.0</td>\n",
       "      <td>945.0</td>\n",
       "      <td>1188.0</td>\n",
       "      <td>1966.0</td>\n",
       "      <td>2091.0</td>\n",
       "    </tr>\n",
       "    <tr>\n",
       "      <th>6</th>\n",
       "      <td>1269.0</td>\n",
       "      <td>1086.0</td>\n",
       "      <td>1363.0</td>\n",
       "      <td>2265.0</td>\n",
       "      <td>2196.0</td>\n",
       "    </tr>\n",
       "    <tr>\n",
       "      <th>7</th>\n",
       "      <td>1263.0</td>\n",
       "      <td>1006.0</td>\n",
       "      <td>1171.0</td>\n",
       "      <td>2198.0</td>\n",
       "      <td>1909.0</td>\n",
       "    </tr>\n",
       "    <tr>\n",
       "      <th>8</th>\n",
       "      <td>1077.0</td>\n",
       "      <td>1023.0</td>\n",
       "      <td>1417.0</td>\n",
       "      <td>2311.0</td>\n",
       "      <td>1953.0</td>\n",
       "    </tr>\n",
       "    <tr>\n",
       "      <th>9</th>\n",
       "      <td>834.0</td>\n",
       "      <td>1055.0</td>\n",
       "      <td>1572.0</td>\n",
       "      <td>2410.0</td>\n",
       "      <td>1841.0</td>\n",
       "    </tr>\n",
       "    <tr>\n",
       "      <th>10</th>\n",
       "      <td>968.0</td>\n",
       "      <td>1187.0</td>\n",
       "      <td>1679.0</td>\n",
       "      <td>2600.0</td>\n",
       "      <td>1772.0</td>\n",
       "    </tr>\n",
       "    <tr>\n",
       "      <th>11</th>\n",
       "      <td>813.0</td>\n",
       "      <td>1031.0</td>\n",
       "      <td>1594.0</td>\n",
       "      <td>2493.0</td>\n",
       "      <td>1098.0</td>\n",
       "    </tr>\n",
       "    <tr>\n",
       "      <th>12</th>\n",
       "      <td>961.0</td>\n",
       "      <td>1323.0</td>\n",
       "      <td>1961.0</td>\n",
       "      <td>2674.0</td>\n",
       "      <td>NaN</td>\n",
       "    </tr>\n",
       "  </tbody>\n",
       "</table>\n",
       "</div>"
      ],
      "text/plain": [
       "donation_year     2019    2020    2021    2022    2023\n",
       "donation_month                                        \n",
       "1               1185.0   878.0  1048.0  1610.0  2312.0\n",
       "2               1249.0   927.0  1171.0  1685.0  2442.0\n",
       "3               1369.0  1012.0  1399.0  2364.0  2776.0\n",
       "4               1519.0  1130.0  1414.0  2452.0  2398.0\n",
       "5               1258.0   945.0  1188.0  1966.0  2091.0\n",
       "6               1269.0  1086.0  1363.0  2265.0  2196.0\n",
       "7               1263.0  1006.0  1171.0  2198.0  1909.0\n",
       "8               1077.0  1023.0  1417.0  2311.0  1953.0\n",
       "9                834.0  1055.0  1572.0  2410.0  1841.0\n",
       "10               968.0  1187.0  1679.0  2600.0  1772.0\n",
       "11               813.0  1031.0  1594.0  2493.0  1098.0\n",
       "12               961.0  1323.0  1961.0  2674.0     NaN"
      ]
     },
     "execution_count": 230,
     "metadata": {},
     "output_type": "execute_result"
    }
   ],
   "source": [
    "#посмортим динамику изменения количества доноров по месяцам за последние 5 лет\n",
    "growth_month = donations[donations['donation_year'] >= 2019].pivot_table(index='donation_month',\\\n",
    "                                                                         columns='donation_year', values='user_id',\\\n",
    "                                                                         aggfunc='nunique')\n",
    "growth_month"
   ]
  },
  {
   "cell_type": "code",
   "execution_count": 231,
   "id": "b57d8b50",
   "metadata": {
    "id": "b57d8b50",
    "outputId": "215323ad-e128-4236-a39c-4485abcf9d5e",
    "scrolled": false
   },
   "outputs": [
    {
     "data": {
      "image/png": "[encoded data removed]",
      "text/plain": [
       "<Figure size 640x480 with 1 Axes>"
      ]
     },
     "metadata": {},
     "output_type": "display_data"
    }
   ],
   "source": [
    "#построим график\n",
    "sns.lineplot(data=growth_month, dashes=False)\n",
    "plt.title('Количество активных доноров по месяцам в 2019-2023 годах')\n",
    "plt.xlabel('Месяц')\n",
    "plt.ylabel('Количество доноров')\n",
    "plt.legend(title='Год')\n",
    "plt.grid()\n",
    "plt.show()"
   ]
  },
  {
   "cell_type": "markdown",
   "id": "e38cb35b",
   "metadata": {
    "id": "e38cb35b"
   },
   "source": [
    "**Вывод:**\n",
    "\n",
    "Динамика по всем годам похожа, прослеживается некая сезонность - пики в количестве пользователей в марте-апреле, октябре и декабре. \n",
    "\n",
    "В 2022 отмечается резкий рост в марте и октябре, возможно это связано с какими-то проведенными мероприятиями.\n",
    "\n",
    "В 2023 после спада в мае показатели продолжили идти вниз с резким спадом к ноябрю. Возможно, это объясняется тем, что пользователи регистрируют свои донации с задержкой во времени, а данные за ноябрь 2023 у нас неполные."
   ]
  },
  {
   "cell_type": "markdown",
   "id": "01b5c19d",
   "metadata": {
    "id": "01b5c19d"
   },
   "source": [
    "### 3.2.4 Прирост числа донаций"
   ]
  },
  {
   "cell_type": "code",
   "execution_count": 232,
   "id": "3cb6407f",
   "metadata": {
    "id": "3cb6407f",
    "outputId": "2c28617f-8582-496c-ea27-298b4b50c06b"
   },
   "outputs": [
    {
     "data": {
      "text/html": [
       "<div>\n",
       "<style scoped>\n",
       "    .dataframe tbody tr th:only-of-type {\n",
       "        vertical-align: middle;\n",
       "    }\n",
       "\n",
       "    .dataframe tbody tr th {\n",
       "        vertical-align: top;\n",
       "    }\n",
       "\n",
       "    .dataframe thead th {\n",
       "        text-align: right;\n",
       "    }\n",
       "</style>\n",
       "<table border=\"1\" class=\"dataframe\">\n",
       "  <thead>\n",
       "    <tr style=\"text-align: right;\">\n",
       "      <th></th>\n",
       "      <th>donation_year</th>\n",
       "      <th>donation_total</th>\n",
       "      <th>growth</th>\n",
       "    </tr>\n",
       "  </thead>\n",
       "  <tbody>\n",
       "    <tr>\n",
       "      <th>0</th>\n",
       "      <td>2013</td>\n",
       "      <td>8932</td>\n",
       "      <td>NaN</td>\n",
       "    </tr>\n",
       "    <tr>\n",
       "      <th>1</th>\n",
       "      <td>2014</td>\n",
       "      <td>15624</td>\n",
       "      <td>74.92</td>\n",
       "    </tr>\n",
       "    <tr>\n",
       "      <th>2</th>\n",
       "      <td>2015</td>\n",
       "      <td>19122</td>\n",
       "      <td>22.39</td>\n",
       "    </tr>\n",
       "    <tr>\n",
       "      <th>3</th>\n",
       "      <td>2016</td>\n",
       "      <td>18046</td>\n",
       "      <td>-5.63</td>\n",
       "    </tr>\n",
       "    <tr>\n",
       "      <th>4</th>\n",
       "      <td>2017</td>\n",
       "      <td>14384</td>\n",
       "      <td>-20.29</td>\n",
       "    </tr>\n",
       "    <tr>\n",
       "      <th>5</th>\n",
       "      <td>2018</td>\n",
       "      <td>15627</td>\n",
       "      <td>8.64</td>\n",
       "    </tr>\n",
       "    <tr>\n",
       "      <th>6</th>\n",
       "      <td>2019</td>\n",
       "      <td>15019</td>\n",
       "      <td>-3.89</td>\n",
       "    </tr>\n",
       "    <tr>\n",
       "      <th>7</th>\n",
       "      <td>2020</td>\n",
       "      <td>14410</td>\n",
       "      <td>-4.05</td>\n",
       "    </tr>\n",
       "    <tr>\n",
       "      <th>8</th>\n",
       "      <td>2021</td>\n",
       "      <td>18970</td>\n",
       "      <td>31.64</td>\n",
       "    </tr>\n",
       "    <tr>\n",
       "      <th>9</th>\n",
       "      <td>2022</td>\n",
       "      <td>29836</td>\n",
       "      <td>57.28</td>\n",
       "    </tr>\n",
       "    <tr>\n",
       "      <th>10</th>\n",
       "      <td>2023</td>\n",
       "      <td>25596</td>\n",
       "      <td>-14.21</td>\n",
       "    </tr>\n",
       "  </tbody>\n",
       "</table>\n",
       "</div>"
      ],
      "text/plain": [
       "    donation_year  donation_total  growth\n",
       "0            2013            8932     NaN\n",
       "1            2014           15624   74.92\n",
       "2            2015           19122   22.39\n",
       "3            2016           18046   -5.63\n",
       "4            2017           14384  -20.29\n",
       "5            2018           15627    8.64\n",
       "6            2019           15019   -3.89\n",
       "7            2020           14410   -4.05\n",
       "8            2021           18970   31.64\n",
       "9            2022           29836   57.28\n",
       "10           2023           25596  -14.21"
      ]
     },
     "execution_count": 232,
     "metadata": {},
     "output_type": "execute_result"
    }
   ],
   "source": [
    "#посчитаем прирост количества донаций по отношению к предыдущему году в %\n",
    "donation_growth = donations.pivot_table(index='donation_year', values='donation_id', aggfunc='count').reset_index()\\\n",
    ".rename(columns={'donation_id': 'donation_total'})\n",
    "\n",
    "donation_growth['growth'] = round((donation_growth.shift(-1)['donation_total']\\\n",
    "                                   - donation_growth['donation_total']) / donation_growth['donation_total'] * 100,2)\n",
    "\n",
    "donation_growth['growth'] = donation_growth['growth'].shift(1)\n",
    "donation_growth"
   ]
  },
  {
   "cell_type": "code",
   "execution_count": 233,
   "id": "4ba21051",
   "metadata": {
    "id": "4ba21051",
    "outputId": "185dedd2-49a2-497d-b49b-a6fa36cfe076",
    "scrolled": false
   },
   "outputs": [
    {
     "data": {
      "image/png": "[encoded data removed]",
      "text/plain": [
       "<Figure size 700x500 with 1 Axes>"
      ]
     },
     "metadata": {},
     "output_type": "display_data"
    }
   ],
   "source": [
    "#построим график\n",
    "plt.figure(figsize=(7,5))\n",
    "ax = sns.barplot(data = donation_growth, x='donation_year', y='growth')\n",
    "ax.bar_label(ax.containers[0], fmt='%.1f%%')\n",
    "plt.title('Прирост количества донаций по отношению к прошлому году')\n",
    "plt.xlabel('Год')\n",
    "plt.ylabel('% прироста')\n",
    "plt.show()"
   ]
  },
  {
   "cell_type": "markdown",
   "id": "0d8bdc7c",
   "metadata": {
    "id": "0d8bdc7c"
   },
   "source": [
    "**Вывод:** Динамика прироста количества донаций повторяет динамику прироста активных доноров.\n",
    "\n",
    "В 2022 рост составил 58%, тогда как на 23.11.2023 количество донаций упало на 14%."
   ]
  },
  {
   "cell_type": "code",
   "execution_count": 234,
   "id": "ee9f0260",
   "metadata": {
    "id": "ee9f0260",
    "outputId": "da9fedaa-4f4e-4b4e-a66c-d1cb65a57592"
   },
   "outputs": [
    {
     "data": {
      "text/html": [
       "<div>\n",
       "<style scoped>\n",
       "    .dataframe tbody tr th:only-of-type {\n",
       "        vertical-align: middle;\n",
       "    }\n",
       "\n",
       "    .dataframe tbody tr th {\n",
       "        vertical-align: top;\n",
       "    }\n",
       "\n",
       "    .dataframe thead th {\n",
       "        text-align: right;\n",
       "    }\n",
       "</style>\n",
       "<table border=\"1\" class=\"dataframe\">\n",
       "  <thead>\n",
       "    <tr style=\"text-align: right;\">\n",
       "      <th>donation_year</th>\n",
       "      <th>2019</th>\n",
       "      <th>2020</th>\n",
       "      <th>2021</th>\n",
       "      <th>2022</th>\n",
       "      <th>2023</th>\n",
       "    </tr>\n",
       "    <tr>\n",
       "      <th>donation_month</th>\n",
       "      <th></th>\n",
       "      <th></th>\n",
       "      <th></th>\n",
       "      <th></th>\n",
       "      <th></th>\n",
       "    </tr>\n",
       "  </thead>\n",
       "  <tbody>\n",
       "    <tr>\n",
       "      <th>1</th>\n",
       "      <td>1284.0</td>\n",
       "      <td>1075.0</td>\n",
       "      <td>1158.0</td>\n",
       "      <td>1754.0</td>\n",
       "      <td>2543.0</td>\n",
       "    </tr>\n",
       "    <tr>\n",
       "      <th>2</th>\n",
       "      <td>1343.0</td>\n",
       "      <td>1001.0</td>\n",
       "      <td>1253.0</td>\n",
       "      <td>1851.0</td>\n",
       "      <td>2660.0</td>\n",
       "    </tr>\n",
       "    <tr>\n",
       "      <th>3</th>\n",
       "      <td>1443.0</td>\n",
       "      <td>1114.0</td>\n",
       "      <td>1549.0</td>\n",
       "      <td>2601.0</td>\n",
       "      <td>3159.0</td>\n",
       "    </tr>\n",
       "    <tr>\n",
       "      <th>4</th>\n",
       "      <td>1739.0</td>\n",
       "      <td>1486.0</td>\n",
       "      <td>1581.0</td>\n",
       "      <td>2662.0</td>\n",
       "      <td>2710.0</td>\n",
       "    </tr>\n",
       "    <tr>\n",
       "      <th>5</th>\n",
       "      <td>1331.0</td>\n",
       "      <td>1055.0</td>\n",
       "      <td>1279.0</td>\n",
       "      <td>2148.0</td>\n",
       "      <td>2376.0</td>\n",
       "    </tr>\n",
       "    <tr>\n",
       "      <th>6</th>\n",
       "      <td>1431.0</td>\n",
       "      <td>1175.0</td>\n",
       "      <td>1555.0</td>\n",
       "      <td>2502.0</td>\n",
       "      <td>2492.0</td>\n",
       "    </tr>\n",
       "    <tr>\n",
       "      <th>7</th>\n",
       "      <td>1422.0</td>\n",
       "      <td>1090.0</td>\n",
       "      <td>1461.0</td>\n",
       "      <td>2414.0</td>\n",
       "      <td>2168.0</td>\n",
       "    </tr>\n",
       "    <tr>\n",
       "      <th>8</th>\n",
       "      <td>1210.0</td>\n",
       "      <td>1195.0</td>\n",
       "      <td>1553.0</td>\n",
       "      <td>2565.0</td>\n",
       "      <td>2226.0</td>\n",
       "    </tr>\n",
       "    <tr>\n",
       "      <th>9</th>\n",
       "      <td>881.0</td>\n",
       "      <td>1168.0</td>\n",
       "      <td>1765.0</td>\n",
       "      <td>2674.0</td>\n",
       "      <td>2086.0</td>\n",
       "    </tr>\n",
       "    <tr>\n",
       "      <th>10</th>\n",
       "      <td>1053.0</td>\n",
       "      <td>1332.0</td>\n",
       "      <td>1845.0</td>\n",
       "      <td>2869.0</td>\n",
       "      <td>1985.0</td>\n",
       "    </tr>\n",
       "    <tr>\n",
       "      <th>11</th>\n",
       "      <td>869.0</td>\n",
       "      <td>1132.0</td>\n",
       "      <td>1783.0</td>\n",
       "      <td>2784.0</td>\n",
       "      <td>1191.0</td>\n",
       "    </tr>\n",
       "    <tr>\n",
       "      <th>12</th>\n",
       "      <td>1013.0</td>\n",
       "      <td>1587.0</td>\n",
       "      <td>2188.0</td>\n",
       "      <td>3012.0</td>\n",
       "      <td>NaN</td>\n",
       "    </tr>\n",
       "  </tbody>\n",
       "</table>\n",
       "</div>"
      ],
      "text/plain": [
       "donation_year     2019    2020    2021    2022    2023\n",
       "donation_month                                        \n",
       "1               1284.0  1075.0  1158.0  1754.0  2543.0\n",
       "2               1343.0  1001.0  1253.0  1851.0  2660.0\n",
       "3               1443.0  1114.0  1549.0  2601.0  3159.0\n",
       "4               1739.0  1486.0  1581.0  2662.0  2710.0\n",
       "5               1331.0  1055.0  1279.0  2148.0  2376.0\n",
       "6               1431.0  1175.0  1555.0  2502.0  2492.0\n",
       "7               1422.0  1090.0  1461.0  2414.0  2168.0\n",
       "8               1210.0  1195.0  1553.0  2565.0  2226.0\n",
       "9                881.0  1168.0  1765.0  2674.0  2086.0\n",
       "10              1053.0  1332.0  1845.0  2869.0  1985.0\n",
       "11               869.0  1132.0  1783.0  2784.0  1191.0\n",
       "12              1013.0  1587.0  2188.0  3012.0     NaN"
      ]
     },
     "execution_count": 234,
     "metadata": {},
     "output_type": "execute_result"
    }
   ],
   "source": [
    "#посмотрим динамику изменения числа донаций по месяцам за последние 5 лет\n",
    "change_month = donations[donations['donation_year'] >= 2019].pivot_table(index='donation_month', \\\n",
    "                                                                         columns='donation_year', values='donation_id',\\\n",
    "                                                                         aggfunc='count')\n",
    "change_month"
   ]
  },
  {
   "cell_type": "code",
   "execution_count": 235,
   "id": "c555e104",
   "metadata": {
    "id": "c555e104",
    "outputId": "70bd841c-7bfd-4ac8-fdff-13d2d27e0854"
   },
   "outputs": [
    {
     "data": {
      "image/png": "[encoded data removed]",
      "text/plain": [
       "<Figure size 640x480 with 1 Axes>"
      ]
     },
     "metadata": {},
     "output_type": "display_data"
    }
   ],
   "source": [
    "#построим график\n",
    "sns.lineplot(data=change_month, dashes=False)\n",
    "plt.title('Количество донаций по месяцам в 2019-2023 годах')\n",
    "plt.xlabel('Месяц')\n",
    "plt.ylabel('Количество донаций')\n",
    "plt.legend(title='Год')\n",
    "plt.grid()\n",
    "plt.show()"
   ]
  },
  {
   "cell_type": "markdown",
   "id": "84a04498",
   "metadata": {
    "id": "84a04498"
   },
   "source": [
    "**Вывод:** Динамика количества донаций похожа на динамику количества активных доноров.\n",
    "\n",
    "В 2022 также наблюдается резкий рост числа донаций в марте и хороший рост в октябре и декабре. В 2023 мы также видим рост в марте и спад после июня."
   ]
  },
  {
   "cell_type": "markdown",
   "id": "6c867410",
   "metadata": {
    "id": "6c867410"
   },
   "source": [
    "### 3.2.5 Среднее количество донаций на 1 донора"
   ]
  },
  {
   "cell_type": "markdown",
   "id": "48308563",
   "metadata": {
    "id": "48308563"
   },
   "source": [
    "Цельную кровь можно сдавать один раз в два месяца, не более 5 раз в год. Плазму или тромбоциты можно сдавать один раз в две недели, не более 6-12 раз в год. В связи с этой разницей рассчитаем среднее количество донаций на 1 донора для крови и для плазмы и тромбоцитов отдельно. Данных о эритроцитах и гранулоцитах (Лейкоциты) у нас очень мало."
   ]
  },
  {
   "cell_type": "code",
   "execution_count": 236,
   "id": "65e05132",
   "metadata": {
    "id": "65e05132",
    "outputId": "c3a8792b-9318-4e47-bea4-eda27c2a24dd",
    "scrolled": false
   },
   "outputs": [
    {
     "data": {
      "text/html": [
       "<div>\n",
       "<style scoped>\n",
       "    .dataframe tbody tr th:only-of-type {\n",
       "        vertical-align: middle;\n",
       "    }\n",
       "\n",
       "    .dataframe tbody tr th {\n",
       "        vertical-align: top;\n",
       "    }\n",
       "\n",
       "    .dataframe thead th {\n",
       "        text-align: right;\n",
       "    }\n",
       "</style>\n",
       "<table border=\"1\" class=\"dataframe\">\n",
       "  <thead>\n",
       "    <tr style=\"text-align: right;\">\n",
       "      <th></th>\n",
       "      <th>donation_year</th>\n",
       "      <th>donation_total</th>\n",
       "      <th>user_total</th>\n",
       "      <th>avg</th>\n",
       "    </tr>\n",
       "  </thead>\n",
       "  <tbody>\n",
       "    <tr>\n",
       "      <th>0</th>\n",
       "      <td>2013</td>\n",
       "      <td>5561</td>\n",
       "      <td>2782</td>\n",
       "      <td>2.00</td>\n",
       "    </tr>\n",
       "    <tr>\n",
       "      <th>1</th>\n",
       "      <td>2014</td>\n",
       "      <td>10603</td>\n",
       "      <td>6070</td>\n",
       "      <td>1.75</td>\n",
       "    </tr>\n",
       "    <tr>\n",
       "      <th>2</th>\n",
       "      <td>2015</td>\n",
       "      <td>12882</td>\n",
       "      <td>7334</td>\n",
       "      <td>1.76</td>\n",
       "    </tr>\n",
       "    <tr>\n",
       "      <th>3</th>\n",
       "      <td>2016</td>\n",
       "      <td>11995</td>\n",
       "      <td>6588</td>\n",
       "      <td>1.82</td>\n",
       "    </tr>\n",
       "    <tr>\n",
       "      <th>4</th>\n",
       "      <td>2017</td>\n",
       "      <td>9430</td>\n",
       "      <td>4688</td>\n",
       "      <td>2.01</td>\n",
       "    </tr>\n",
       "    <tr>\n",
       "      <th>5</th>\n",
       "      <td>2018</td>\n",
       "      <td>10443</td>\n",
       "      <td>4900</td>\n",
       "      <td>2.13</td>\n",
       "    </tr>\n",
       "    <tr>\n",
       "      <th>6</th>\n",
       "      <td>2019</td>\n",
       "      <td>10139</td>\n",
       "      <td>4805</td>\n",
       "      <td>2.11</td>\n",
       "    </tr>\n",
       "    <tr>\n",
       "      <th>7</th>\n",
       "      <td>2020</td>\n",
       "      <td>9389</td>\n",
       "      <td>3949</td>\n",
       "      <td>2.38</td>\n",
       "    </tr>\n",
       "    <tr>\n",
       "      <th>8</th>\n",
       "      <td>2021</td>\n",
       "      <td>12239</td>\n",
       "      <td>5437</td>\n",
       "      <td>2.25</td>\n",
       "    </tr>\n",
       "    <tr>\n",
       "      <th>9</th>\n",
       "      <td>2022</td>\n",
       "      <td>20109</td>\n",
       "      <td>10191</td>\n",
       "      <td>1.97</td>\n",
       "    </tr>\n",
       "    <tr>\n",
       "      <th>10</th>\n",
       "      <td>2023</td>\n",
       "      <td>16539</td>\n",
       "      <td>9118</td>\n",
       "      <td>1.81</td>\n",
       "    </tr>\n",
       "  </tbody>\n",
       "</table>\n",
       "</div>"
      ],
      "text/plain": [
       "    donation_year  donation_total  user_total   avg\n",
       "0            2013            5561        2782  2.00\n",
       "1            2014           10603        6070  1.75\n",
       "2            2015           12882        7334  1.76\n",
       "3            2016           11995        6588  1.82\n",
       "4            2017            9430        4688  2.01\n",
       "5            2018           10443        4900  2.13\n",
       "6            2019           10139        4805  2.11\n",
       "7            2020            9389        3949  2.38\n",
       "8            2021           12239        5437  2.25\n",
       "9            2022           20109       10191  1.97\n",
       "10           2023           16539        9118  1.81"
      ]
     },
     "execution_count": 236,
     "metadata": {},
     "output_type": "execute_result"
    }
   ],
   "source": [
    "#посчитаем среднее количество донаций крови на 1 донора\n",
    "donations_blood = donations[donations['blood_type'] == 'Цельная кровь']\n",
    "avg_blood = donations_blood.pivot_table(index='donation_year', values = ['user_id', 'donation_id'], \\\n",
    "                                        aggfunc={'user_id' : 'nunique', 'donation_id': 'count'})\\\n",
    ".rename(columns={'donation_id': 'donation_total', 'user_id': 'user_total'}).reset_index()\n",
    "\n",
    "avg_blood['avg'] = round(avg_blood['donation_total'] / avg_blood['user_total'], 2)\n",
    "avg_blood"
   ]
  },
  {
   "cell_type": "code",
   "execution_count": 237,
   "id": "9be48c53",
   "metadata": {
    "id": "9be48c53",
    "outputId": "4b09d148-1431-4617-bfdd-56b8dc299b68",
    "scrolled": false
   },
   "outputs": [
    {
     "data": {
      "text/html": [
       "<div>\n",
       "<style scoped>\n",
       "    .dataframe tbody tr th:only-of-type {\n",
       "        vertical-align: middle;\n",
       "    }\n",
       "\n",
       "    .dataframe tbody tr th {\n",
       "        vertical-align: top;\n",
       "    }\n",
       "\n",
       "    .dataframe thead th {\n",
       "        text-align: right;\n",
       "    }\n",
       "</style>\n",
       "<table border=\"1\" class=\"dataframe\">\n",
       "  <thead>\n",
       "    <tr style=\"text-align: right;\">\n",
       "      <th></th>\n",
       "      <th>donation_year</th>\n",
       "      <th>donation_total</th>\n",
       "      <th>user_total</th>\n",
       "      <th>avg</th>\n",
       "    </tr>\n",
       "  </thead>\n",
       "  <tbody>\n",
       "    <tr>\n",
       "      <th>0</th>\n",
       "      <td>2013</td>\n",
       "      <td>3344</td>\n",
       "      <td>698</td>\n",
       "      <td>4.79</td>\n",
       "    </tr>\n",
       "    <tr>\n",
       "      <th>1</th>\n",
       "      <td>2014</td>\n",
       "      <td>4996</td>\n",
       "      <td>1510</td>\n",
       "      <td>3.31</td>\n",
       "    </tr>\n",
       "    <tr>\n",
       "      <th>2</th>\n",
       "      <td>2015</td>\n",
       "      <td>6175</td>\n",
       "      <td>1935</td>\n",
       "      <td>3.19</td>\n",
       "    </tr>\n",
       "    <tr>\n",
       "      <th>3</th>\n",
       "      <td>2016</td>\n",
       "      <td>5974</td>\n",
       "      <td>1768</td>\n",
       "      <td>3.38</td>\n",
       "    </tr>\n",
       "    <tr>\n",
       "      <th>4</th>\n",
       "      <td>2017</td>\n",
       "      <td>4903</td>\n",
       "      <td>1252</td>\n",
       "      <td>3.92</td>\n",
       "    </tr>\n",
       "    <tr>\n",
       "      <th>5</th>\n",
       "      <td>2018</td>\n",
       "      <td>5130</td>\n",
       "      <td>1321</td>\n",
       "      <td>3.88</td>\n",
       "    </tr>\n",
       "    <tr>\n",
       "      <th>6</th>\n",
       "      <td>2019</td>\n",
       "      <td>4839</td>\n",
       "      <td>1288</td>\n",
       "      <td>3.76</td>\n",
       "    </tr>\n",
       "    <tr>\n",
       "      <th>7</th>\n",
       "      <td>2020</td>\n",
       "      <td>4991</td>\n",
       "      <td>1120</td>\n",
       "      <td>4.46</td>\n",
       "    </tr>\n",
       "    <tr>\n",
       "      <th>8</th>\n",
       "      <td>2021</td>\n",
       "      <td>6717</td>\n",
       "      <td>1593</td>\n",
       "      <td>4.22</td>\n",
       "    </tr>\n",
       "    <tr>\n",
       "      <th>9</th>\n",
       "      <td>2022</td>\n",
       "      <td>9689</td>\n",
       "      <td>2492</td>\n",
       "      <td>3.89</td>\n",
       "    </tr>\n",
       "    <tr>\n",
       "      <th>10</th>\n",
       "      <td>2023</td>\n",
       "      <td>9031</td>\n",
       "      <td>2342</td>\n",
       "      <td>3.86</td>\n",
       "    </tr>\n",
       "  </tbody>\n",
       "</table>\n",
       "</div>"
      ],
      "text/plain": [
       "    donation_year  donation_total  user_total   avg\n",
       "0            2013            3344         698  4.79\n",
       "1            2014            4996        1510  3.31\n",
       "2            2015            6175        1935  3.19\n",
       "3            2016            5974        1768  3.38\n",
       "4            2017            4903        1252  3.92\n",
       "5            2018            5130        1321  3.88\n",
       "6            2019            4839        1288  3.76\n",
       "7            2020            4991        1120  4.46\n",
       "8            2021            6717        1593  4.22\n",
       "9            2022            9689        2492  3.89\n",
       "10           2023            9031        2342  3.86"
      ]
     },
     "execution_count": 237,
     "metadata": {},
     "output_type": "execute_result"
    }
   ],
   "source": [
    "#посчитаем среднее количество донаций плазмы и тромбоцитов на 1 донора\n",
    "donation_plasma_tr = donations[(donations['blood_type'] == 'Тромбоциты') | (donations['blood_type'] == 'Плазма')]\n",
    "avg_plasma_tr = donation_plasma_tr.pivot_table(index='donation_year', values = ['user_id', 'donation_id'], aggfunc={'user_id' : 'nunique', 'donation_id': 'count'}).rename(columns={'donation_id': 'donation_total', 'user_id': 'user_total'}).reset_index()\n",
    "avg_plasma_tr['avg'] = round(avg_plasma_tr['donation_total'] / avg_plasma_tr['user_total'], 2)\n",
    "avg_plasma_tr"
   ]
  },
  {
   "cell_type": "code",
   "execution_count": 238,
   "id": "b8f76cf6",
   "metadata": {
    "id": "b8f76cf6",
    "outputId": "96093e22-bdb3-46c7-ff04-a38a77ec82c7"
   },
   "outputs": [
    {
     "data": {
      "image/png": "[encoded data removed]",
      "text/plain": [
       "<Figure size 800x400 with 2 Axes>"
      ]
     },
     "metadata": {},
     "output_type": "display_data"
    }
   ],
   "source": [
    "fig, (ax1, ax2) = plt.subplots(1, 2, figsize=(8,4))\n",
    "fig.suptitle('Среднее число зарегистрированных донаций на пользователя в 2013-2023 годах', y=1, fontsize=13)\n",
    "\n",
    "sns.barplot(data = avg_blood, x='donation_year', y='avg', ax=ax1)\n",
    "ax1.bar_label(ax1.containers[0], fmt='%.1f')\n",
    "ax1.set_title('Донаций крови')\n",
    "ax1.set_xlabel('Год')\n",
    "ax1.tick_params(axis='x', rotation=90)\n",
    "ax1.set_ylabel('Среднее число донаций')\n",
    "ax1.set_ylim(1.6, 2.5)\n",
    "\n",
    "sns.barplot(data = avg_plasma_tr, x='donation_year', y='avg', ax=ax2)\n",
    "ax2.bar_label(ax2.containers[0], fmt='%.1f')\n",
    "ax2.set_title('Донаций плазмы и тромбоцитов')\n",
    "ax2.set_xlabel('Год')\n",
    "ax2.tick_params(axis='x', rotation=90)\n",
    "ax2.set_ylabel('Среднее число донаций')\n",
    "ax2.set_ylim(3, 5)\n",
    "\n",
    "plt.subplots_adjust(wspace=0.3)"
   ]
  },
  {
   "cell_type": "markdown",
   "id": "a1eac44c",
   "metadata": {
    "id": "a1eac44c"
   },
   "source": [
    "**Вывод:** Интересно, что в 2020 наблюдалось снижение количества доноров и донаций, однако, среднее число донаций на донора самое высокое в 2020. Возможно, это связано с пандемией и активным агитированием доноров к сдаче, которое привело к тому, что повторные доноры стали сдавать кровь чаще. \n",
    "\n",
    "Среднее число донаций крови и плазмы/тромбоцитов в 2022 и 2023 снизилось по сравнению с 2020 и 2021, что может быть связано с окончанием пандемии и снижением темпов агитирования к донорству."
   ]
  },
  {
   "cell_type": "markdown",
   "id": "9751fde5",
   "metadata": {
    "id": "9751fde5"
   },
   "source": [
    "### 3.2.6 Среднее число планирования донаций на пользователя"
   ]
  },
  {
   "cell_type": "code",
   "execution_count": 239,
   "id": "e537cd05",
   "metadata": {
    "id": "e537cd05",
    "outputId": "c0c084b5-2e60-4b02-cd95-583a2d120e5c"
   },
   "outputs": [
    {
     "data": {
      "text/html": [
       "<div>\n",
       "<style scoped>\n",
       "    .dataframe tbody tr th:only-of-type {\n",
       "        vertical-align: middle;\n",
       "    }\n",
       "\n",
       "    .dataframe tbody tr th {\n",
       "        vertical-align: top;\n",
       "    }\n",
       "\n",
       "    .dataframe thead th {\n",
       "        text-align: right;\n",
       "    }\n",
       "</style>\n",
       "<table border=\"1\" class=\"dataframe\">\n",
       "  <thead>\n",
       "    <tr style=\"text-align: right;\">\n",
       "      <th></th>\n",
       "      <th>plan_year</th>\n",
       "      <th>donation_total</th>\n",
       "      <th>users_total</th>\n",
       "      <th>avg</th>\n",
       "    </tr>\n",
       "  </thead>\n",
       "  <tbody>\n",
       "    <tr>\n",
       "      <th>0</th>\n",
       "      <td>2021</td>\n",
       "      <td>4009</td>\n",
       "      <td>2704</td>\n",
       "      <td>1.5</td>\n",
       "    </tr>\n",
       "    <tr>\n",
       "      <th>1</th>\n",
       "      <td>2022</td>\n",
       "      <td>10900</td>\n",
       "      <td>7148</td>\n",
       "      <td>1.5</td>\n",
       "    </tr>\n",
       "    <tr>\n",
       "      <th>2</th>\n",
       "      <td>2023</td>\n",
       "      <td>12026</td>\n",
       "      <td>7415</td>\n",
       "      <td>1.6</td>\n",
       "    </tr>\n",
       "  </tbody>\n",
       "</table>\n",
       "</div>"
      ],
      "text/plain": [
       "   plan_year  donation_total  users_total  avg\n",
       "0       2021            4009         2704  1.5\n",
       "1       2022           10900         7148  1.5\n",
       "2       2023           12026         7415  1.6"
      ]
     },
     "execution_count": 239,
     "metadata": {},
     "output_type": "execute_result"
    }
   ],
   "source": [
    "#данные за 2020г неполные, поэтому расчитаем метрику только для 2021-2023гг\n",
    "avg_plan = donation_plan[donation_plan['plan_year'] > 2020].pivot_table(index='plan_year', \\\n",
    "                                                                        values=['user_id', 'donation_id'], \\\n",
    "                                                                        aggfunc={'user_id': 'nunique', \\\n",
    "                                                                                 'donation_id': 'count'})\\\n",
    ".reset_index().rename(columns={'donation_id': 'donation_total', 'user_id': 'users_total'})\n",
    "\n",
    "avg_plan['avg'] = round(avg_plan['donation_total'] / avg_plan['users_total'],1)\n",
    "avg_plan"
   ]
  },
  {
   "cell_type": "code",
   "execution_count": 240,
   "id": "0e07baba",
   "metadata": {
    "id": "0e07baba",
    "outputId": "44d6d69e-1ec6-4dbd-be9c-ddcf708a4aaf"
   },
   "outputs": [
    {
     "data": {
      "image/png": "[encoded data removed]",
      "text/plain": [
       "<Figure size 500x400 with 1 Axes>"
      ]
     },
     "metadata": {},
     "output_type": "display_data"
    }
   ],
   "source": [
    "plt.figure(figsize=(5,4))\n",
    "ax = sns.barplot(data = avg_plan, x='plan_year', y='avg')\n",
    "ax.bar_label(ax.containers[0], fmt='%.1f')\n",
    "plt.title('Среднее число планирования донаций на пользователя')\n",
    "plt.xlabel('Год')\n",
    "plt.ylabel('Число планирований')\n",
    "plt.ylim(1.4, 1.7)\n",
    "plt.show()"
   ]
  },
  {
   "cell_type": "markdown",
   "id": "db40aa4f",
   "metadata": {
    "id": "db40aa4f"
   },
   "source": [
    "**Вывод:** В 2022 году пользователи пользовались функцией планирования донаций также часто, как и в 2021. В 2023 значение незначительно увеличилась на **+6,7%**."
   ]
  },
  {
   "cell_type": "markdown",
   "id": "518a4b55",
   "metadata": {
    "id": "518a4b55"
   },
   "source": [
    "### 3.2.7 Среднее число выставляемых оценок на пользователя"
   ]
  },
  {
   "cell_type": "code",
   "execution_count": 241,
   "id": "4f09351f",
   "metadata": {
    "id": "4f09351f",
    "outputId": "d31483e8-0aa2-406c-d6f4-c4652027af3a"
   },
   "outputs": [
    {
     "data": {
      "text/html": [
       "<div>\n",
       "<style scoped>\n",
       "    .dataframe tbody tr th:only-of-type {\n",
       "        vertical-align: middle;\n",
       "    }\n",
       "\n",
       "    .dataframe tbody tr th {\n",
       "        vertical-align: top;\n",
       "    }\n",
       "\n",
       "    .dataframe thead th {\n",
       "        text-align: right;\n",
       "    }\n",
       "</style>\n",
       "<table border=\"1\" class=\"dataframe\">\n",
       "  <thead>\n",
       "    <tr style=\"text-align: right;\">\n",
       "      <th></th>\n",
       "      <th>year</th>\n",
       "      <th>total_notes</th>\n",
       "      <th>total_users</th>\n",
       "      <th>avg</th>\n",
       "    </tr>\n",
       "  </thead>\n",
       "  <tbody>\n",
       "    <tr>\n",
       "      <th>0</th>\n",
       "      <td>2013</td>\n",
       "      <td>134</td>\n",
       "      <td>51</td>\n",
       "      <td>2.6</td>\n",
       "    </tr>\n",
       "    <tr>\n",
       "      <th>1</th>\n",
       "      <td>2014</td>\n",
       "      <td>191</td>\n",
       "      <td>80</td>\n",
       "      <td>2.4</td>\n",
       "    </tr>\n",
       "    <tr>\n",
       "      <th>2</th>\n",
       "      <td>2015</td>\n",
       "      <td>208</td>\n",
       "      <td>82</td>\n",
       "      <td>2.5</td>\n",
       "    </tr>\n",
       "    <tr>\n",
       "      <th>3</th>\n",
       "      <td>2016</td>\n",
       "      <td>235</td>\n",
       "      <td>85</td>\n",
       "      <td>2.8</td>\n",
       "    </tr>\n",
       "    <tr>\n",
       "      <th>4</th>\n",
       "      <td>2017</td>\n",
       "      <td>340</td>\n",
       "      <td>136</td>\n",
       "      <td>2.5</td>\n",
       "    </tr>\n",
       "    <tr>\n",
       "      <th>5</th>\n",
       "      <td>2018</td>\n",
       "      <td>391</td>\n",
       "      <td>165</td>\n",
       "      <td>2.4</td>\n",
       "    </tr>\n",
       "    <tr>\n",
       "      <th>6</th>\n",
       "      <td>2019</td>\n",
       "      <td>569</td>\n",
       "      <td>244</td>\n",
       "      <td>2.3</td>\n",
       "    </tr>\n",
       "    <tr>\n",
       "      <th>7</th>\n",
       "      <td>2020</td>\n",
       "      <td>1071</td>\n",
       "      <td>586</td>\n",
       "      <td>1.8</td>\n",
       "    </tr>\n",
       "    <tr>\n",
       "      <th>8</th>\n",
       "      <td>2021</td>\n",
       "      <td>3031</td>\n",
       "      <td>1642</td>\n",
       "      <td>1.8</td>\n",
       "    </tr>\n",
       "    <tr>\n",
       "      <th>9</th>\n",
       "      <td>2022</td>\n",
       "      <td>5320</td>\n",
       "      <td>3339</td>\n",
       "      <td>1.6</td>\n",
       "    </tr>\n",
       "    <tr>\n",
       "      <th>10</th>\n",
       "      <td>2023</td>\n",
       "      <td>4589</td>\n",
       "      <td>2963</td>\n",
       "      <td>1.5</td>\n",
       "    </tr>\n",
       "  </tbody>\n",
       "</table>\n",
       "</div>"
      ],
      "text/plain": [
       "    year  total_notes  total_users  avg\n",
       "0   2013          134           51  2.6\n",
       "1   2014          191           80  2.4\n",
       "2   2015          208           82  2.5\n",
       "3   2016          235           85  2.8\n",
       "4   2017          340          136  2.5\n",
       "5   2018          391          165  2.4\n",
       "6   2019          569          244  2.3\n",
       "7   2020         1071          586  1.8\n",
       "8   2021         3031         1642  1.8\n",
       "9   2022         5320         3339  1.6\n",
       "10  2023         4589         2963  1.5"
      ]
     },
     "execution_count": 241,
     "metadata": {},
     "output_type": "execute_result"
    }
   ],
   "source": [
    "#посчитаем среднее число выставляемых оценок на пользователя\n",
    "avg_note = note.pivot_table(index = 'year', values=['user_id', 'note'], aggfunc={'user_id': 'nunique', 'note': 'count'})\\\n",
    ".reset_index().rename(columns={'note': 'total_notes', 'user_id': 'total_users'})\n",
    "\n",
    "avg_note['avg'] = round(avg_note['total_notes'] / avg_note['total_users'], 1)\n",
    "avg_note['year'] = avg_note['year'].astype('int')\n",
    "avg_note"
   ]
  },
  {
   "cell_type": "code",
   "execution_count": 242,
   "id": "6edc3f6f",
   "metadata": {
    "id": "6edc3f6f",
    "outputId": "2106269e-e1af-496a-da7e-23d599aa2d59"
   },
   "outputs": [
    {
     "data": {
      "image/png": "[encoded data removed]",
      "text/plain": [
       "<Figure size 700x500 with 1 Axes>"
      ]
     },
     "metadata": {},
     "output_type": "display_data"
    }
   ],
   "source": [
    "plt.figure(figsize=(7,5))\n",
    "ax = sns.barplot(data = avg_note, x='year', y='avg')\n",
    "ax.bar_label(ax.containers[0], fmt='%.1f')\n",
    "plt.title('Среднее число выставляемых оценок на пользователя')\n",
    "plt.xlabel('Год')\n",
    "plt.ylabel('Среднее число оценок')\n",
    "plt.ylim(1.4, 3)\n",
    "plt.show()"
   ]
  },
  {
   "cell_type": "markdown",
   "id": "ccb5fe82",
   "metadata": {
    "id": "ccb5fe82"
   },
   "source": [
    "**Вывод:** В 2022 и 2023 пользователи стали менее активными в оставлении оценки после донации.\n",
    "\n",
    "Возможно, пользователи сдают кровь всегда в одном и том же центре и со временем перестают оставлять оценки, так как качество услуг в центре не меняется. Резкое падение в 2020 году предполагаю связано со сбоем базы и потерей прежних записей в феврале месяце."
   ]
  },
  {
   "cell_type": "markdown",
   "id": "058af600",
   "metadata": {
    "id": "058af600"
   },
   "source": [
    "### 3.2.8 Скорость добавления донации на платформу"
   ]
  },
  {
   "cell_type": "code",
   "execution_count": 243,
   "id": "2bcb0c87",
   "metadata": {
    "id": "2bcb0c87"
   },
   "outputs": [],
   "source": [
    "#посчитаем количество дней между датой донации и датой ее добавления на платформу\n",
    "donations['speed'] = donations['donation_added_date'] - donations['donation_date']\n",
    "donations['speed'] = donations['speed'].dt.days"
   ]
  },
  {
   "cell_type": "code",
   "execution_count": 244,
   "id": "a40e74d2",
   "metadata": {
    "id": "a40e74d2"
   },
   "outputs": [],
   "source": [
    "#добавим столбец\n",
    "donations['added_year'] = pd.DatetimeIndex(donations['donation_added_date']).year"
   ]
  },
  {
   "cell_type": "code",
   "execution_count": 245,
   "id": "69031d01",
   "metadata": {
    "id": "69031d01",
    "outputId": "bb186744-a946-48a9-90ea-68e5dbd4d107",
    "scrolled": true
   },
   "outputs": [
    {
     "data": {
      "text/plain": [
       "2020    73143\n",
       "2023    62634\n",
       "2022    49591\n",
       "2021    10198\n",
       "Name: added_year, dtype: int64"
      ]
     },
     "execution_count": 245,
     "metadata": {},
     "output_type": "execute_result"
    }
   ],
   "source": [
    "#изучим данные\n",
    "donations['added_year'].value_counts()"
   ]
  },
  {
   "cell_type": "markdown",
   "id": "ae6b6802",
   "metadata": {
    "id": "ae6b6802"
   },
   "source": [
    "Функция добавления донации на платформу судя по данным была добавлена только в 2020г. Учитывая то, что пользователи могут добавлять свои прошлые донации на платформу задним числом в дату регистрации, для расчетов ограничимся только теми донациями, которые были сделаны и добавлены в одинаковом году."
   ]
  },
  {
   "cell_type": "code",
   "execution_count": 246,
   "id": "e86d6e00",
   "metadata": {
    "id": "e86d6e00",
    "outputId": "a180166a-1910-4775-9ca3-380f704e7680"
   },
   "outputs": [
    {
     "data": {
      "text/html": [
       "<div>\n",
       "<style scoped>\n",
       "    .dataframe tbody tr th:only-of-type {\n",
       "        vertical-align: middle;\n",
       "    }\n",
       "\n",
       "    .dataframe tbody tr th {\n",
       "        vertical-align: top;\n",
       "    }\n",
       "\n",
       "    .dataframe thead th {\n",
       "        text-align: right;\n",
       "    }\n",
       "</style>\n",
       "<table border=\"1\" class=\"dataframe\">\n",
       "  <thead>\n",
       "    <tr style=\"text-align: right;\">\n",
       "      <th></th>\n",
       "      <th>donation_year</th>\n",
       "      <th>speed</th>\n",
       "    </tr>\n",
       "  </thead>\n",
       "  <tbody>\n",
       "    <tr>\n",
       "      <th>0</th>\n",
       "      <td>2021</td>\n",
       "      <td>1.0</td>\n",
       "    </tr>\n",
       "    <tr>\n",
       "      <th>1</th>\n",
       "      <td>2022</td>\n",
       "      <td>5.0</td>\n",
       "    </tr>\n",
       "    <tr>\n",
       "      <th>2</th>\n",
       "      <td>2023</td>\n",
       "      <td>1.0</td>\n",
       "    </tr>\n",
       "  </tbody>\n",
       "</table>\n",
       "</div>"
      ],
      "text/plain": [
       "   donation_year  speed\n",
       "0           2021    1.0\n",
       "1           2022    5.0\n",
       "2           2023    1.0"
      ]
     },
     "execution_count": 246,
     "metadata": {},
     "output_type": "execute_result"
    }
   ],
   "source": [
    "#найдем количество дней между донацией и ее добавлением на платформу\n",
    "speed = donations[(donations['donation_year'] == donations['added_year']) & (donations['donation_year'] > 2020)]\\\n",
    ".groupby('donation_year')['speed'].median().reset_index()\n",
    "\n",
    "speed"
   ]
  },
  {
   "cell_type": "code",
   "execution_count": 247,
   "id": "dc97244d",
   "metadata": {
    "id": "dc97244d",
    "outputId": "0f17df4c-5f42-4b0b-9d4b-b22dfd016314",
    "scrolled": false
   },
   "outputs": [
    {
     "data": {
      "image/png": "[encoded data removed]",
      "text/plain": [
       "<Figure size 500x400 with 1 Axes>"
      ]
     },
     "metadata": {},
     "output_type": "display_data"
    }
   ],
   "source": [
    "plt.figure(figsize=(5,4))\n",
    "ax = sns.barplot(data = speed, x='donation_year', y='speed')\n",
    "ax.bar_label(ax.containers[0], fmt='%.0f')\n",
    "plt.title('Медианное количество дней между донацией и ее добавлением на платформе')\n",
    "plt.xlabel('Год')\n",
    "plt.ylabel('Количество дней')\n",
    "plt.show()"
   ]
  },
  {
   "cell_type": "markdown",
   "id": "20e10649",
   "metadata": {
    "id": "20e10649"
   },
   "source": [
    "**Вывод:** В 2022 пользователи обычно добавляли донации на платформу через 5 дней после сдачи, а в 2023 через 1 день."
   ]
  },
  {
   "cell_type": "markdown",
   "id": "a245752c",
   "metadata": {
    "id": "a245752c"
   },
   "source": [
    "### 3.2.9 Retention rate - удержание пользователей"
   ]
  },
  {
   "cell_type": "code",
   "execution_count": 248,
   "id": "8d3c452c",
   "metadata": {
    "id": "8d3c452c",
    "outputId": "8af65821-472b-44a3-f498-c95831559a6b",
    "scrolled": false
   },
   "outputs": [
    {
     "data": {
      "text/html": [
       "<div>\n",
       "<style scoped>\n",
       "    .dataframe tbody tr th:only-of-type {\n",
       "        vertical-align: middle;\n",
       "    }\n",
       "\n",
       "    .dataframe tbody tr th {\n",
       "        vertical-align: top;\n",
       "    }\n",
       "\n",
       "    .dataframe thead th {\n",
       "        text-align: right;\n",
       "    }\n",
       "</style>\n",
       "<table border=\"1\" class=\"dataframe\">\n",
       "  <thead>\n",
       "    <tr style=\"text-align: right;\">\n",
       "      <th>lifetime</th>\n",
       "      <th>0</th>\n",
       "      <th>1</th>\n",
       "      <th>2</th>\n",
       "      <th>3</th>\n",
       "      <th>4</th>\n",
       "      <th>5</th>\n",
       "      <th>6</th>\n",
       "      <th>7</th>\n",
       "      <th>8</th>\n",
       "      <th>9</th>\n",
       "      <th>10</th>\n",
       "    </tr>\n",
       "    <tr>\n",
       "      <th>first_year</th>\n",
       "      <th></th>\n",
       "      <th></th>\n",
       "      <th></th>\n",
       "      <th></th>\n",
       "      <th></th>\n",
       "      <th></th>\n",
       "      <th></th>\n",
       "      <th></th>\n",
       "      <th></th>\n",
       "      <th></th>\n",
       "      <th></th>\n",
       "    </tr>\n",
       "  </thead>\n",
       "  <tbody>\n",
       "    <tr>\n",
       "      <th>2013</th>\n",
       "      <td>3152.0</td>\n",
       "      <td>2103.0</td>\n",
       "      <td>1585.0</td>\n",
       "      <td>1184.0</td>\n",
       "      <td>922.0</td>\n",
       "      <td>822.0</td>\n",
       "      <td>708.0</td>\n",
       "      <td>657.0</td>\n",
       "      <td>682.0</td>\n",
       "      <td>755.0</td>\n",
       "      <td>609.0</td>\n",
       "    </tr>\n",
       "    <tr>\n",
       "      <th>2014</th>\n",
       "      <td>4811.0</td>\n",
       "      <td>1696.0</td>\n",
       "      <td>958.0</td>\n",
       "      <td>575.0</td>\n",
       "      <td>481.0</td>\n",
       "      <td>404.0</td>\n",
       "      <td>331.0</td>\n",
       "      <td>369.0</td>\n",
       "      <td>417.0</td>\n",
       "      <td>321.0</td>\n",
       "      <td>NaN</td>\n",
       "    </tr>\n",
       "    <tr>\n",
       "      <th>2015</th>\n",
       "      <td>5104.0</td>\n",
       "      <td>1434.0</td>\n",
       "      <td>758.0</td>\n",
       "      <td>566.0</td>\n",
       "      <td>444.0</td>\n",
       "      <td>345.0</td>\n",
       "      <td>369.0</td>\n",
       "      <td>408.0</td>\n",
       "      <td>322.0</td>\n",
       "      <td>NaN</td>\n",
       "      <td>NaN</td>\n",
       "    </tr>\n",
       "    <tr>\n",
       "      <th>2016</th>\n",
       "      <td>3973.0</td>\n",
       "      <td>914.0</td>\n",
       "      <td>565.0</td>\n",
       "      <td>440.0</td>\n",
       "      <td>329.0</td>\n",
       "      <td>338.0</td>\n",
       "      <td>373.0</td>\n",
       "      <td>297.0</td>\n",
       "      <td>NaN</td>\n",
       "      <td>NaN</td>\n",
       "      <td>NaN</td>\n",
       "    </tr>\n",
       "    <tr>\n",
       "      <th>2017</th>\n",
       "      <td>2101.0</td>\n",
       "      <td>868.0</td>\n",
       "      <td>607.0</td>\n",
       "      <td>399.0</td>\n",
       "      <td>376.0</td>\n",
       "      <td>408.0</td>\n",
       "      <td>320.0</td>\n",
       "      <td>NaN</td>\n",
       "      <td>NaN</td>\n",
       "      <td>NaN</td>\n",
       "      <td>NaN</td>\n",
       "    </tr>\n",
       "    <tr>\n",
       "      <th>2018</th>\n",
       "      <td>2142.0</td>\n",
       "      <td>986.0</td>\n",
       "      <td>424.0</td>\n",
       "      <td>410.0</td>\n",
       "      <td>414.0</td>\n",
       "      <td>331.0</td>\n",
       "      <td>NaN</td>\n",
       "      <td>NaN</td>\n",
       "      <td>NaN</td>\n",
       "      <td>NaN</td>\n",
       "      <td>NaN</td>\n",
       "    </tr>\n",
       "    <tr>\n",
       "      <th>2019</th>\n",
       "      <td>1754.0</td>\n",
       "      <td>510.0</td>\n",
       "      <td>401.0</td>\n",
       "      <td>412.0</td>\n",
       "      <td>317.0</td>\n",
       "      <td>NaN</td>\n",
       "      <td>NaN</td>\n",
       "      <td>NaN</td>\n",
       "      <td>NaN</td>\n",
       "      <td>NaN</td>\n",
       "      <td>NaN</td>\n",
       "    </tr>\n",
       "    <tr>\n",
       "      <th>2020</th>\n",
       "      <td>1356.0</td>\n",
       "      <td>630.0</td>\n",
       "      <td>509.0</td>\n",
       "      <td>370.0</td>\n",
       "      <td>NaN</td>\n",
       "      <td>NaN</td>\n",
       "      <td>NaN</td>\n",
       "      <td>NaN</td>\n",
       "      <td>NaN</td>\n",
       "      <td>NaN</td>\n",
       "      <td>NaN</td>\n",
       "    </tr>\n",
       "    <tr>\n",
       "      <th>2021</th>\n",
       "      <td>2433.0</td>\n",
       "      <td>1313.0</td>\n",
       "      <td>739.0</td>\n",
       "      <td>NaN</td>\n",
       "      <td>NaN</td>\n",
       "      <td>NaN</td>\n",
       "      <td>NaN</td>\n",
       "      <td>NaN</td>\n",
       "      <td>NaN</td>\n",
       "      <td>NaN</td>\n",
       "      <td>NaN</td>\n",
       "    </tr>\n",
       "    <tr>\n",
       "      <th>2022</th>\n",
       "      <td>6304.0</td>\n",
       "      <td>1996.0</td>\n",
       "      <td>NaN</td>\n",
       "      <td>NaN</td>\n",
       "      <td>NaN</td>\n",
       "      <td>NaN</td>\n",
       "      <td>NaN</td>\n",
       "      <td>NaN</td>\n",
       "      <td>NaN</td>\n",
       "      <td>NaN</td>\n",
       "      <td>NaN</td>\n",
       "    </tr>\n",
       "    <tr>\n",
       "      <th>2023</th>\n",
       "      <td>4666.0</td>\n",
       "      <td>NaN</td>\n",
       "      <td>NaN</td>\n",
       "      <td>NaN</td>\n",
       "      <td>NaN</td>\n",
       "      <td>NaN</td>\n",
       "      <td>NaN</td>\n",
       "      <td>NaN</td>\n",
       "      <td>NaN</td>\n",
       "      <td>NaN</td>\n",
       "      <td>NaN</td>\n",
       "    </tr>\n",
       "  </tbody>\n",
       "</table>\n",
       "</div>"
      ],
      "text/plain": [
       "lifetime        0       1       2       3      4      5      6      7      8   \\\n",
       "first_year                                                                      \n",
       "2013        3152.0  2103.0  1585.0  1184.0  922.0  822.0  708.0  657.0  682.0   \n",
       "2014        4811.0  1696.0   958.0   575.0  481.0  404.0  331.0  369.0  417.0   \n",
       "2015        5104.0  1434.0   758.0   566.0  444.0  345.0  369.0  408.0  322.0   \n",
       "2016        3973.0   914.0   565.0   440.0  329.0  338.0  373.0  297.0    NaN   \n",
       "2017        2101.0   868.0   607.0   399.0  376.0  408.0  320.0    NaN    NaN   \n",
       "2018        2142.0   986.0   424.0   410.0  414.0  331.0    NaN    NaN    NaN   \n",
       "2019        1754.0   510.0   401.0   412.0  317.0    NaN    NaN    NaN    NaN   \n",
       "2020        1356.0   630.0   509.0   370.0    NaN    NaN    NaN    NaN    NaN   \n",
       "2021        2433.0  1313.0   739.0     NaN    NaN    NaN    NaN    NaN    NaN   \n",
       "2022        6304.0  1996.0     NaN     NaN    NaN    NaN    NaN    NaN    NaN   \n",
       "2023        4666.0     NaN     NaN     NaN    NaN    NaN    NaN    NaN    NaN   \n",
       "\n",
       "lifetime       9      10  \n",
       "first_year                \n",
       "2013        755.0  609.0  \n",
       "2014        321.0    NaN  \n",
       "2015          NaN    NaN  \n",
       "2016          NaN    NaN  \n",
       "2017          NaN    NaN  \n",
       "2018          NaN    NaN  \n",
       "2019          NaN    NaN  \n",
       "2020          NaN    NaN  \n",
       "2021          NaN    NaN  \n",
       "2022          NaN    NaN  \n",
       "2023          NaN    NaN  "
      ]
     },
     "execution_count": 248,
     "metadata": {},
     "output_type": "execute_result"
    }
   ],
   "source": [
    "#составим профили пользователей\n",
    "profiles = (\n",
    "        donations.sort_values(by=['user_id', 'donation_year'])\n",
    "        .groupby('user_id')\n",
    "        .agg({'donation_year': 'first'})\n",
    "        .rename(columns={'donation_year': 'first_year'}) # год первой донации пользователя\n",
    "        .reset_index()\n",
    "    )\n",
    "df = profiles.merge(donations, on='user_id', how='left')\n",
    "\n",
    "#вычисляем лайфтайм\n",
    "df['lifetime'] = df['donation_year'] - df['first_year']\n",
    "\n",
    "#строим таблицу удержания\n",
    "result = df.pivot_table(index='first_year', columns='lifetime', values='user_id', aggfunc='nunique')\n",
    "\n",
    "result"
   ]
  },
  {
   "cell_type": "code",
   "execution_count": 249,
   "id": "4f85cf12",
   "metadata": {},
   "outputs": [
    {
     "data": {
      "text/html": [
       "<div>\n",
       "<style scoped>\n",
       "    .dataframe tbody tr th:only-of-type {\n",
       "        vertical-align: middle;\n",
       "    }\n",
       "\n",
       "    .dataframe tbody tr th {\n",
       "        vertical-align: top;\n",
       "    }\n",
       "\n",
       "    .dataframe thead th {\n",
       "        text-align: right;\n",
       "    }\n",
       "</style>\n",
       "<table border=\"1\" class=\"dataframe\">\n",
       "  <thead>\n",
       "    <tr style=\"text-align: right;\">\n",
       "      <th></th>\n",
       "      <th>0</th>\n",
       "      <th>1</th>\n",
       "      <th>2</th>\n",
       "      <th>3</th>\n",
       "      <th>4</th>\n",
       "      <th>5</th>\n",
       "      <th>6</th>\n",
       "      <th>7</th>\n",
       "      <th>8</th>\n",
       "      <th>9</th>\n",
       "      <th>10</th>\n",
       "    </tr>\n",
       "    <tr>\n",
       "      <th>first_year</th>\n",
       "      <th></th>\n",
       "      <th></th>\n",
       "      <th></th>\n",
       "      <th></th>\n",
       "      <th></th>\n",
       "      <th></th>\n",
       "      <th></th>\n",
       "      <th></th>\n",
       "      <th></th>\n",
       "      <th></th>\n",
       "      <th></th>\n",
       "    </tr>\n",
       "  </thead>\n",
       "  <tbody>\n",
       "    <tr>\n",
       "      <th>2013</th>\n",
       "      <td>1.0</td>\n",
       "      <td>0.667195</td>\n",
       "      <td>0.502855</td>\n",
       "      <td>0.375635</td>\n",
       "      <td>0.292513</td>\n",
       "      <td>0.260787</td>\n",
       "      <td>0.224619</td>\n",
       "      <td>0.208439</td>\n",
       "      <td>0.216371</td>\n",
       "      <td>0.239530</td>\n",
       "      <td>0.193211</td>\n",
       "    </tr>\n",
       "    <tr>\n",
       "      <th>2014</th>\n",
       "      <td>1.0</td>\n",
       "      <td>0.352525</td>\n",
       "      <td>0.199127</td>\n",
       "      <td>0.119518</td>\n",
       "      <td>0.099979</td>\n",
       "      <td>0.083974</td>\n",
       "      <td>0.068801</td>\n",
       "      <td>0.076699</td>\n",
       "      <td>0.086676</td>\n",
       "      <td>0.066722</td>\n",
       "      <td>0.000000</td>\n",
       "    </tr>\n",
       "    <tr>\n",
       "      <th>2015</th>\n",
       "      <td>1.0</td>\n",
       "      <td>0.280956</td>\n",
       "      <td>0.148511</td>\n",
       "      <td>0.110893</td>\n",
       "      <td>0.086991</td>\n",
       "      <td>0.067594</td>\n",
       "      <td>0.072296</td>\n",
       "      <td>0.079937</td>\n",
       "      <td>0.063088</td>\n",
       "      <td>0.000000</td>\n",
       "      <td>0.000000</td>\n",
       "    </tr>\n",
       "    <tr>\n",
       "      <th>2016</th>\n",
       "      <td>1.0</td>\n",
       "      <td>0.230053</td>\n",
       "      <td>0.142210</td>\n",
       "      <td>0.110748</td>\n",
       "      <td>0.082809</td>\n",
       "      <td>0.085074</td>\n",
       "      <td>0.093884</td>\n",
       "      <td>0.074755</td>\n",
       "      <td>0.000000</td>\n",
       "      <td>0.000000</td>\n",
       "      <td>0.000000</td>\n",
       "    </tr>\n",
       "    <tr>\n",
       "      <th>2017</th>\n",
       "      <td>1.0</td>\n",
       "      <td>0.413137</td>\n",
       "      <td>0.288910</td>\n",
       "      <td>0.189910</td>\n",
       "      <td>0.178962</td>\n",
       "      <td>0.194193</td>\n",
       "      <td>0.152308</td>\n",
       "      <td>0.000000</td>\n",
       "      <td>0.000000</td>\n",
       "      <td>0.000000</td>\n",
       "      <td>0.000000</td>\n",
       "    </tr>\n",
       "    <tr>\n",
       "      <th>2018</th>\n",
       "      <td>1.0</td>\n",
       "      <td>0.460317</td>\n",
       "      <td>0.197946</td>\n",
       "      <td>0.191410</td>\n",
       "      <td>0.193277</td>\n",
       "      <td>0.154528</td>\n",
       "      <td>0.000000</td>\n",
       "      <td>0.000000</td>\n",
       "      <td>0.000000</td>\n",
       "      <td>0.000000</td>\n",
       "      <td>0.000000</td>\n",
       "    </tr>\n",
       "    <tr>\n",
       "      <th>2019</th>\n",
       "      <td>1.0</td>\n",
       "      <td>0.290764</td>\n",
       "      <td>0.228620</td>\n",
       "      <td>0.234892</td>\n",
       "      <td>0.180730</td>\n",
       "      <td>0.000000</td>\n",
       "      <td>0.000000</td>\n",
       "      <td>0.000000</td>\n",
       "      <td>0.000000</td>\n",
       "      <td>0.000000</td>\n",
       "      <td>0.000000</td>\n",
       "    </tr>\n",
       "    <tr>\n",
       "      <th>2020</th>\n",
       "      <td>1.0</td>\n",
       "      <td>0.464602</td>\n",
       "      <td>0.375369</td>\n",
       "      <td>0.272861</td>\n",
       "      <td>0.000000</td>\n",
       "      <td>0.000000</td>\n",
       "      <td>0.000000</td>\n",
       "      <td>0.000000</td>\n",
       "      <td>0.000000</td>\n",
       "      <td>0.000000</td>\n",
       "      <td>0.000000</td>\n",
       "    </tr>\n",
       "    <tr>\n",
       "      <th>2021</th>\n",
       "      <td>1.0</td>\n",
       "      <td>0.539663</td>\n",
       "      <td>0.303740</td>\n",
       "      <td>0.000000</td>\n",
       "      <td>0.000000</td>\n",
       "      <td>0.000000</td>\n",
       "      <td>0.000000</td>\n",
       "      <td>0.000000</td>\n",
       "      <td>0.000000</td>\n",
       "      <td>0.000000</td>\n",
       "      <td>0.000000</td>\n",
       "    </tr>\n",
       "    <tr>\n",
       "      <th>2022</th>\n",
       "      <td>1.0</td>\n",
       "      <td>0.316624</td>\n",
       "      <td>0.000000</td>\n",
       "      <td>0.000000</td>\n",
       "      <td>0.000000</td>\n",
       "      <td>0.000000</td>\n",
       "      <td>0.000000</td>\n",
       "      <td>0.000000</td>\n",
       "      <td>0.000000</td>\n",
       "      <td>0.000000</td>\n",
       "      <td>0.000000</td>\n",
       "    </tr>\n",
       "    <tr>\n",
       "      <th>2023</th>\n",
       "      <td>1.0</td>\n",
       "      <td>0.000000</td>\n",
       "      <td>0.000000</td>\n",
       "      <td>0.000000</td>\n",
       "      <td>0.000000</td>\n",
       "      <td>0.000000</td>\n",
       "      <td>0.000000</td>\n",
       "      <td>0.000000</td>\n",
       "      <td>0.000000</td>\n",
       "      <td>0.000000</td>\n",
       "      <td>0.000000</td>\n",
       "    </tr>\n",
       "  </tbody>\n",
       "</table>\n",
       "</div>"
      ],
      "text/plain": [
       "              0         1         2         3         4         5         6  \\\n",
       "first_year                                                                    \n",
       "2013        1.0  0.667195  0.502855  0.375635  0.292513  0.260787  0.224619   \n",
       "2014        1.0  0.352525  0.199127  0.119518  0.099979  0.083974  0.068801   \n",
       "2015        1.0  0.280956  0.148511  0.110893  0.086991  0.067594  0.072296   \n",
       "2016        1.0  0.230053  0.142210  0.110748  0.082809  0.085074  0.093884   \n",
       "2017        1.0  0.413137  0.288910  0.189910  0.178962  0.194193  0.152308   \n",
       "2018        1.0  0.460317  0.197946  0.191410  0.193277  0.154528  0.000000   \n",
       "2019        1.0  0.290764  0.228620  0.234892  0.180730  0.000000  0.000000   \n",
       "2020        1.0  0.464602  0.375369  0.272861  0.000000  0.000000  0.000000   \n",
       "2021        1.0  0.539663  0.303740  0.000000  0.000000  0.000000  0.000000   \n",
       "2022        1.0  0.316624  0.000000  0.000000  0.000000  0.000000  0.000000   \n",
       "2023        1.0  0.000000  0.000000  0.000000  0.000000  0.000000  0.000000   \n",
       "\n",
       "                   7         8         9        10  \n",
       "first_year                                          \n",
       "2013        0.208439  0.216371  0.239530  0.193211  \n",
       "2014        0.076699  0.086676  0.066722  0.000000  \n",
       "2015        0.079937  0.063088  0.000000  0.000000  \n",
       "2016        0.074755  0.000000  0.000000  0.000000  \n",
       "2017        0.000000  0.000000  0.000000  0.000000  \n",
       "2018        0.000000  0.000000  0.000000  0.000000  \n",
       "2019        0.000000  0.000000  0.000000  0.000000  \n",
       "2020        0.000000  0.000000  0.000000  0.000000  \n",
       "2021        0.000000  0.000000  0.000000  0.000000  \n",
       "2022        0.000000  0.000000  0.000000  0.000000  \n",
       "2023        0.000000  0.000000  0.000000  0.000000  "
      ]
     },
     "execution_count": 249,
     "metadata": {},
     "output_type": "execute_result"
    }
   ],
   "source": [
    "#вычисляем размеры когорт\n",
    "cohort_sizes = df.groupby('first_year').agg({'user_id': 'nunique'}).rename(columns={'user_id': 'cohort_size'})\n",
    "\n",
    "#объединяем размеры когорт и таблицу удержания\n",
    "result_grouped = cohort_sizes.merge(result, on='first_year', how='left').fillna(0)\n",
    "\n",
    "#делим данные таблицы удержания на размеры когорт\n",
    "retention = result_grouped.div(result_grouped['cohort_size'], axis=0).drop(columns=['cohort_size'])\n",
    "retention"
   ]
  },
  {
   "cell_type": "code",
   "execution_count": 250,
   "id": "3a502bd6",
   "metadata": {
    "id": "3a502bd6",
    "outputId": "3185102a-5e96-478a-ce3e-0a2bf36c68b7",
    "scrolled": false
   },
   "outputs": [
    {
     "data": {
      "image/png": "[encoded data removed]",
      "text/plain": [
       "<Figure size 1200x400 with 2 Axes>"
      ]
     },
     "metadata": {},
     "output_type": "display_data"
    }
   ],
   "source": [
    "plt.figure(figsize=(12, 4))  # задаём размер графика\n",
    "sns.heatmap(\n",
    "    retention.drop(0, axis=1),  # удаляем лишние столбцы\n",
    "    annot=True,  # включаем подписи\n",
    "    fmt='.2%',  # переводим значения в проценты\n",
    ")\n",
    "plt.title('Тепловая карта удержания')  # название графика\n",
    "plt.show()"
   ]
  },
  {
   "cell_type": "markdown",
   "id": "dd3f6136",
   "metadata": {
    "id": "dd3f6136"
   },
   "source": [
    "**Вывод:** Самый высокий процент удержания пользователей в 2013г - 19% пользователей из 2013г. продолжают пользоваться платформой. Только 32% пользователей из 2022г. продолжают пользоваться платформой в 2023г., что ниже показателей 2020 и 2021г. по удержанию на 2ой год пользования продуктом. В целом видны проблемы с удержанием пользователей, в среднем 60% пользователей перестают пользоваться платформой на 2ой год после добавления первой донации."
   ]
  },
  {
   "cell_type": "markdown",
   "id": "bcaceac1",
   "metadata": {
    "id": "bcaceac1"
   },
   "source": [
    "### 3.2.10 Доли доноров, сдающих кровь 1 или более раз"
   ]
  },
  {
   "cell_type": "markdown",
   "id": "a360f260",
   "metadata": {
    "id": "a360f260"
   },
   "source": [
    "Цельную кровь можно сдавать один раз в два месяца, не более 5 раз в год. Плазму или тромбоциты можно сдавать один раз в две недели, не более 6-12 раз в год. В связи с этой разницей рассчитаем среднее количество донаций на 1 донора для крови и для плазмы и тромбоцитов отдельно. Данных о эритроцитах и гранулоцитах (Лейкоциты) у нас очень мало."
   ]
  },
  {
   "cell_type": "code",
   "execution_count": 251,
   "id": "637cc862",
   "metadata": {
    "id": "637cc862",
    "outputId": "4ce20029-54b1-4cd0-bd90-370e231b8393"
   },
   "outputs": [
    {
     "data": {
      "text/html": [
       "<div>\n",
       "<style scoped>\n",
       "    .dataframe tbody tr th:only-of-type {\n",
       "        vertical-align: middle;\n",
       "    }\n",
       "\n",
       "    .dataframe tbody tr th {\n",
       "        vertical-align: top;\n",
       "    }\n",
       "\n",
       "    .dataframe thead th {\n",
       "        text-align: right;\n",
       "    }\n",
       "</style>\n",
       "<table border=\"1\" class=\"dataframe\">\n",
       "  <thead>\n",
       "    <tr style=\"text-align: right;\">\n",
       "      <th>don_nb</th>\n",
       "      <th>donation_year</th>\n",
       "      <th>1</th>\n",
       "      <th>2</th>\n",
       "      <th>3</th>\n",
       "      <th>4</th>\n",
       "      <th>5</th>\n",
       "      <th>total</th>\n",
       "    </tr>\n",
       "  </thead>\n",
       "  <tbody>\n",
       "    <tr>\n",
       "      <th>0</th>\n",
       "      <td>2013</td>\n",
       "      <td>1584</td>\n",
       "      <td>579</td>\n",
       "      <td>278</td>\n",
       "      <td>198</td>\n",
       "      <td>90</td>\n",
       "      <td>2729</td>\n",
       "    </tr>\n",
       "    <tr>\n",
       "      <th>1</th>\n",
       "      <td>2014</td>\n",
       "      <td>3750</td>\n",
       "      <td>1196</td>\n",
       "      <td>588</td>\n",
       "      <td>362</td>\n",
       "      <td>132</td>\n",
       "      <td>6028</td>\n",
       "    </tr>\n",
       "    <tr>\n",
       "      <th>2</th>\n",
       "      <td>2015</td>\n",
       "      <td>4513</td>\n",
       "      <td>1375</td>\n",
       "      <td>774</td>\n",
       "      <td>448</td>\n",
       "      <td>166</td>\n",
       "      <td>7276</td>\n",
       "    </tr>\n",
       "    <tr>\n",
       "      <th>3</th>\n",
       "      <td>2016</td>\n",
       "      <td>3942</td>\n",
       "      <td>1209</td>\n",
       "      <td>739</td>\n",
       "      <td>451</td>\n",
       "      <td>193</td>\n",
       "      <td>6534</td>\n",
       "    </tr>\n",
       "    <tr>\n",
       "      <th>4</th>\n",
       "      <td>2017</td>\n",
       "      <td>2376</td>\n",
       "      <td>984</td>\n",
       "      <td>680</td>\n",
       "      <td>406</td>\n",
       "      <td>204</td>\n",
       "      <td>4650</td>\n",
       "    </tr>\n",
       "    <tr>\n",
       "      <th>5</th>\n",
       "      <td>2018</td>\n",
       "      <td>2143</td>\n",
       "      <td>1210</td>\n",
       "      <td>769</td>\n",
       "      <td>529</td>\n",
       "      <td>205</td>\n",
       "      <td>4856</td>\n",
       "    </tr>\n",
       "    <tr>\n",
       "      <th>6</th>\n",
       "      <td>2019</td>\n",
       "      <td>2180</td>\n",
       "      <td>1111</td>\n",
       "      <td>727</td>\n",
       "      <td>498</td>\n",
       "      <td>243</td>\n",
       "      <td>4759</td>\n",
       "    </tr>\n",
       "    <tr>\n",
       "      <th>7</th>\n",
       "      <td>2020</td>\n",
       "      <td>1542</td>\n",
       "      <td>849</td>\n",
       "      <td>687</td>\n",
       "      <td>565</td>\n",
       "      <td>254</td>\n",
       "      <td>3897</td>\n",
       "    </tr>\n",
       "    <tr>\n",
       "      <th>8</th>\n",
       "      <td>2021</td>\n",
       "      <td>2269</td>\n",
       "      <td>1116</td>\n",
       "      <td>929</td>\n",
       "      <td>752</td>\n",
       "      <td>314</td>\n",
       "      <td>5380</td>\n",
       "    </tr>\n",
       "    <tr>\n",
       "      <th>9</th>\n",
       "      <td>2022</td>\n",
       "      <td>5292</td>\n",
       "      <td>2045</td>\n",
       "      <td>1359</td>\n",
       "      <td>976</td>\n",
       "      <td>440</td>\n",
       "      <td>10112</td>\n",
       "    </tr>\n",
       "    <tr>\n",
       "      <th>10</th>\n",
       "      <td>2023</td>\n",
       "      <td>5132</td>\n",
       "      <td>1840</td>\n",
       "      <td>1193</td>\n",
       "      <td>694</td>\n",
       "      <td>202</td>\n",
       "      <td>9061</td>\n",
       "    </tr>\n",
       "  </tbody>\n",
       "</table>\n",
       "</div>"
      ],
      "text/plain": [
       "don_nb  donation_year     1     2     3    4    5  total\n",
       "0                2013  1584   579   278  198   90   2729\n",
       "1                2014  3750  1196   588  362  132   6028\n",
       "2                2015  4513  1375   774  448  166   7276\n",
       "3                2016  3942  1209   739  451  193   6534\n",
       "4                2017  2376   984   680  406  204   4650\n",
       "5                2018  2143  1210   769  529  205   4856\n",
       "6                2019  2180  1111   727  498  243   4759\n",
       "7                2020  1542   849   687  565  254   3897\n",
       "8                2021  2269  1116   929  752  314   5380\n",
       "9                2022  5292  2045  1359  976  440  10112\n",
       "10               2023  5132  1840  1193  694  202   9061"
      ]
     },
     "execution_count": 251,
     "metadata": {},
     "output_type": "execute_result"
    }
   ],
   "source": [
    "#посчитаем количество донаций крови каждого донора с группировкой по годам\n",
    "df1 = donations_blood.groupby(['donation_year', 'user_id'])['donation_id'].count().reset_index()\\\n",
    ".rename(columns={'donation_id': 'don_nb'})\n",
    "\n",
    "#отфильтруем макс 5 донаций (есть пользователи, регистрирующие все свои прошлые донации в день регистрации)\n",
    "df1 = df1[df1['don_nb'] <=5]\n",
    "\n",
    "#посчитаем количество доноров с 1-5 донациями\n",
    "df2 = df1.pivot_table(index='donation_year', columns='don_nb', values='user_id', aggfunc='nunique')\n",
    "\n",
    "#найдем общее количество донаций\n",
    "df2['total'] = df2.sum(axis = 1)\n",
    "df2 = df2.reset_index()\n",
    "\n",
    "df2"
   ]
  },
  {
   "cell_type": "code",
   "execution_count": 252,
   "id": "5d3e5736",
   "metadata": {
    "id": "5d3e5736",
    "outputId": "76564cd8-2d8c-4854-cc0e-bc2a35819962",
    "scrolled": true
   },
   "outputs": [
    {
     "data": {
      "text/html": [
       "<div>\n",
       "<style scoped>\n",
       "    .dataframe tbody tr th:only-of-type {\n",
       "        vertical-align: middle;\n",
       "    }\n",
       "\n",
       "    .dataframe tbody tr th {\n",
       "        vertical-align: top;\n",
       "    }\n",
       "\n",
       "    .dataframe thead th {\n",
       "        text-align: right;\n",
       "    }\n",
       "</style>\n",
       "<table border=\"1\" class=\"dataframe\">\n",
       "  <thead>\n",
       "    <tr style=\"text-align: right;\">\n",
       "      <th>don_nb</th>\n",
       "      <th>1_share</th>\n",
       "      <th>2_share</th>\n",
       "      <th>3_share</th>\n",
       "      <th>4_share</th>\n",
       "      <th>5_share</th>\n",
       "    </tr>\n",
       "  </thead>\n",
       "  <tbody>\n",
       "    <tr>\n",
       "      <th>0</th>\n",
       "      <td>58.0</td>\n",
       "      <td>21.2</td>\n",
       "      <td>10.2</td>\n",
       "      <td>7.3</td>\n",
       "      <td>3.3</td>\n",
       "    </tr>\n",
       "    <tr>\n",
       "      <th>1</th>\n",
       "      <td>62.2</td>\n",
       "      <td>19.8</td>\n",
       "      <td>9.8</td>\n",
       "      <td>6.0</td>\n",
       "      <td>2.2</td>\n",
       "    </tr>\n",
       "    <tr>\n",
       "      <th>2</th>\n",
       "      <td>62.0</td>\n",
       "      <td>18.9</td>\n",
       "      <td>10.6</td>\n",
       "      <td>6.2</td>\n",
       "      <td>2.3</td>\n",
       "    </tr>\n",
       "    <tr>\n",
       "      <th>3</th>\n",
       "      <td>60.3</td>\n",
       "      <td>18.5</td>\n",
       "      <td>11.3</td>\n",
       "      <td>6.9</td>\n",
       "      <td>3.0</td>\n",
       "    </tr>\n",
       "    <tr>\n",
       "      <th>4</th>\n",
       "      <td>51.1</td>\n",
       "      <td>21.2</td>\n",
       "      <td>14.6</td>\n",
       "      <td>8.7</td>\n",
       "      <td>4.4</td>\n",
       "    </tr>\n",
       "    <tr>\n",
       "      <th>5</th>\n",
       "      <td>44.1</td>\n",
       "      <td>24.9</td>\n",
       "      <td>15.8</td>\n",
       "      <td>10.9</td>\n",
       "      <td>4.2</td>\n",
       "    </tr>\n",
       "    <tr>\n",
       "      <th>6</th>\n",
       "      <td>45.8</td>\n",
       "      <td>23.3</td>\n",
       "      <td>15.3</td>\n",
       "      <td>10.5</td>\n",
       "      <td>5.1</td>\n",
       "    </tr>\n",
       "    <tr>\n",
       "      <th>7</th>\n",
       "      <td>39.6</td>\n",
       "      <td>21.8</td>\n",
       "      <td>17.6</td>\n",
       "      <td>14.5</td>\n",
       "      <td>6.5</td>\n",
       "    </tr>\n",
       "    <tr>\n",
       "      <th>8</th>\n",
       "      <td>42.2</td>\n",
       "      <td>20.7</td>\n",
       "      <td>17.3</td>\n",
       "      <td>14.0</td>\n",
       "      <td>5.8</td>\n",
       "    </tr>\n",
       "    <tr>\n",
       "      <th>9</th>\n",
       "      <td>52.3</td>\n",
       "      <td>20.2</td>\n",
       "      <td>13.4</td>\n",
       "      <td>9.7</td>\n",
       "      <td>4.4</td>\n",
       "    </tr>\n",
       "    <tr>\n",
       "      <th>10</th>\n",
       "      <td>56.6</td>\n",
       "      <td>20.3</td>\n",
       "      <td>13.2</td>\n",
       "      <td>7.7</td>\n",
       "      <td>2.2</td>\n",
       "    </tr>\n",
       "  </tbody>\n",
       "</table>\n",
       "</div>"
      ],
      "text/plain": [
       "don_nb  1_share  2_share  3_share  4_share  5_share\n",
       "0          58.0     21.2     10.2      7.3      3.3\n",
       "1          62.2     19.8      9.8      6.0      2.2\n",
       "2          62.0     18.9     10.6      6.2      2.3\n",
       "3          60.3     18.5     11.3      6.9      3.0\n",
       "4          51.1     21.2     14.6      8.7      4.4\n",
       "5          44.1     24.9     15.8     10.9      4.2\n",
       "6          45.8     23.3     15.3     10.5      5.1\n",
       "7          39.6     21.8     17.6     14.5      6.5\n",
       "8          42.2     20.7     17.3     14.0      5.8\n",
       "9          52.3     20.2     13.4      9.7      4.4\n",
       "10         56.6     20.3     13.2      7.7      2.2"
      ]
     },
     "execution_count": 252,
     "metadata": {},
     "output_type": "execute_result"
    }
   ],
   "source": [
    "#найдем доли\n",
    "df3 = round(df2.iloc[:,1:6].div(df2.total, axis=0) * 100, 1)\n",
    "df3 = df3.rename(columns={1 : '1_share', 2: '2_share', 3: '3_share', 4: '4_share', 5: '5_share'})\n",
    "df3"
   ]
  },
  {
   "cell_type": "code",
   "execution_count": 253,
   "id": "6a004938",
   "metadata": {
    "id": "6a004938",
    "outputId": "12987a85-c63c-4cb5-b0d2-8a5a8ec6e550",
    "scrolled": false
   },
   "outputs": [
    {
     "data": {
      "text/html": [
       "<div>\n",
       "<style scoped>\n",
       "    .dataframe tbody tr th:only-of-type {\n",
       "        vertical-align: middle;\n",
       "    }\n",
       "\n",
       "    .dataframe tbody tr th {\n",
       "        vertical-align: top;\n",
       "    }\n",
       "\n",
       "    .dataframe thead th {\n",
       "        text-align: right;\n",
       "    }\n",
       "</style>\n",
       "<table border=\"1\" class=\"dataframe\">\n",
       "  <thead>\n",
       "    <tr style=\"text-align: right;\">\n",
       "      <th>don_nb</th>\n",
       "      <th>1</th>\n",
       "      <th>2</th>\n",
       "      <th>3</th>\n",
       "      <th>4</th>\n",
       "      <th>5</th>\n",
       "      <th>total</th>\n",
       "      <th>1_share</th>\n",
       "      <th>2_share</th>\n",
       "      <th>3_share</th>\n",
       "      <th>4_share</th>\n",
       "      <th>5_share</th>\n",
       "    </tr>\n",
       "    <tr>\n",
       "      <th>donation_year</th>\n",
       "      <th></th>\n",
       "      <th></th>\n",
       "      <th></th>\n",
       "      <th></th>\n",
       "      <th></th>\n",
       "      <th></th>\n",
       "      <th></th>\n",
       "      <th></th>\n",
       "      <th></th>\n",
       "      <th></th>\n",
       "      <th></th>\n",
       "    </tr>\n",
       "  </thead>\n",
       "  <tbody>\n",
       "    <tr>\n",
       "      <th>2013</th>\n",
       "      <td>1584</td>\n",
       "      <td>579</td>\n",
       "      <td>278</td>\n",
       "      <td>198</td>\n",
       "      <td>90</td>\n",
       "      <td>2729</td>\n",
       "      <td>58.0</td>\n",
       "      <td>21.2</td>\n",
       "      <td>10.2</td>\n",
       "      <td>7.3</td>\n",
       "      <td>3.3</td>\n",
       "    </tr>\n",
       "    <tr>\n",
       "      <th>2014</th>\n",
       "      <td>3750</td>\n",
       "      <td>1196</td>\n",
       "      <td>588</td>\n",
       "      <td>362</td>\n",
       "      <td>132</td>\n",
       "      <td>6028</td>\n",
       "      <td>62.2</td>\n",
       "      <td>19.8</td>\n",
       "      <td>9.8</td>\n",
       "      <td>6.0</td>\n",
       "      <td>2.2</td>\n",
       "    </tr>\n",
       "    <tr>\n",
       "      <th>2015</th>\n",
       "      <td>4513</td>\n",
       "      <td>1375</td>\n",
       "      <td>774</td>\n",
       "      <td>448</td>\n",
       "      <td>166</td>\n",
       "      <td>7276</td>\n",
       "      <td>62.0</td>\n",
       "      <td>18.9</td>\n",
       "      <td>10.6</td>\n",
       "      <td>6.2</td>\n",
       "      <td>2.3</td>\n",
       "    </tr>\n",
       "    <tr>\n",
       "      <th>2016</th>\n",
       "      <td>3942</td>\n",
       "      <td>1209</td>\n",
       "      <td>739</td>\n",
       "      <td>451</td>\n",
       "      <td>193</td>\n",
       "      <td>6534</td>\n",
       "      <td>60.3</td>\n",
       "      <td>18.5</td>\n",
       "      <td>11.3</td>\n",
       "      <td>6.9</td>\n",
       "      <td>3.0</td>\n",
       "    </tr>\n",
       "    <tr>\n",
       "      <th>2017</th>\n",
       "      <td>2376</td>\n",
       "      <td>984</td>\n",
       "      <td>680</td>\n",
       "      <td>406</td>\n",
       "      <td>204</td>\n",
       "      <td>4650</td>\n",
       "      <td>51.1</td>\n",
       "      <td>21.2</td>\n",
       "      <td>14.6</td>\n",
       "      <td>8.7</td>\n",
       "      <td>4.4</td>\n",
       "    </tr>\n",
       "    <tr>\n",
       "      <th>2018</th>\n",
       "      <td>2143</td>\n",
       "      <td>1210</td>\n",
       "      <td>769</td>\n",
       "      <td>529</td>\n",
       "      <td>205</td>\n",
       "      <td>4856</td>\n",
       "      <td>44.1</td>\n",
       "      <td>24.9</td>\n",
       "      <td>15.8</td>\n",
       "      <td>10.9</td>\n",
       "      <td>4.2</td>\n",
       "    </tr>\n",
       "    <tr>\n",
       "      <th>2019</th>\n",
       "      <td>2180</td>\n",
       "      <td>1111</td>\n",
       "      <td>727</td>\n",
       "      <td>498</td>\n",
       "      <td>243</td>\n",
       "      <td>4759</td>\n",
       "      <td>45.8</td>\n",
       "      <td>23.3</td>\n",
       "      <td>15.3</td>\n",
       "      <td>10.5</td>\n",
       "      <td>5.1</td>\n",
       "    </tr>\n",
       "    <tr>\n",
       "      <th>2020</th>\n",
       "      <td>1542</td>\n",
       "      <td>849</td>\n",
       "      <td>687</td>\n",
       "      <td>565</td>\n",
       "      <td>254</td>\n",
       "      <td>3897</td>\n",
       "      <td>39.6</td>\n",
       "      <td>21.8</td>\n",
       "      <td>17.6</td>\n",
       "      <td>14.5</td>\n",
       "      <td>6.5</td>\n",
       "    </tr>\n",
       "    <tr>\n",
       "      <th>2021</th>\n",
       "      <td>2269</td>\n",
       "      <td>1116</td>\n",
       "      <td>929</td>\n",
       "      <td>752</td>\n",
       "      <td>314</td>\n",
       "      <td>5380</td>\n",
       "      <td>42.2</td>\n",
       "      <td>20.7</td>\n",
       "      <td>17.3</td>\n",
       "      <td>14.0</td>\n",
       "      <td>5.8</td>\n",
       "    </tr>\n",
       "    <tr>\n",
       "      <th>2022</th>\n",
       "      <td>5292</td>\n",
       "      <td>2045</td>\n",
       "      <td>1359</td>\n",
       "      <td>976</td>\n",
       "      <td>440</td>\n",
       "      <td>10112</td>\n",
       "      <td>52.3</td>\n",
       "      <td>20.2</td>\n",
       "      <td>13.4</td>\n",
       "      <td>9.7</td>\n",
       "      <td>4.4</td>\n",
       "    </tr>\n",
       "    <tr>\n",
       "      <th>2023</th>\n",
       "      <td>5132</td>\n",
       "      <td>1840</td>\n",
       "      <td>1193</td>\n",
       "      <td>694</td>\n",
       "      <td>202</td>\n",
       "      <td>9061</td>\n",
       "      <td>56.6</td>\n",
       "      <td>20.3</td>\n",
       "      <td>13.2</td>\n",
       "      <td>7.7</td>\n",
       "      <td>2.2</td>\n",
       "    </tr>\n",
       "  </tbody>\n",
       "</table>\n",
       "</div>"
      ],
      "text/plain": [
       "don_nb            1     2     3    4    5  total  1_share  2_share  3_share  \\\n",
       "donation_year                                                                 \n",
       "2013           1584   579   278  198   90   2729     58.0     21.2     10.2   \n",
       "2014           3750  1196   588  362  132   6028     62.2     19.8      9.8   \n",
       "2015           4513  1375   774  448  166   7276     62.0     18.9     10.6   \n",
       "2016           3942  1209   739  451  193   6534     60.3     18.5     11.3   \n",
       "2017           2376   984   680  406  204   4650     51.1     21.2     14.6   \n",
       "2018           2143  1210   769  529  205   4856     44.1     24.9     15.8   \n",
       "2019           2180  1111   727  498  243   4759     45.8     23.3     15.3   \n",
       "2020           1542   849   687  565  254   3897     39.6     21.8     17.6   \n",
       "2021           2269  1116   929  752  314   5380     42.2     20.7     17.3   \n",
       "2022           5292  2045  1359  976  440  10112     52.3     20.2     13.4   \n",
       "2023           5132  1840  1193  694  202   9061     56.6     20.3     13.2   \n",
       "\n",
       "don_nb         4_share  5_share  \n",
       "donation_year                    \n",
       "2013               7.3      3.3  \n",
       "2014               6.0      2.2  \n",
       "2015               6.2      2.3  \n",
       "2016               6.9      3.0  \n",
       "2017               8.7      4.4  \n",
       "2018              10.9      4.2  \n",
       "2019              10.5      5.1  \n",
       "2020              14.5      6.5  \n",
       "2021              14.0      5.8  \n",
       "2022               9.7      4.4  \n",
       "2023               7.7      2.2  "
      ]
     },
     "execution_count": 253,
     "metadata": {},
     "output_type": "execute_result"
    }
   ],
   "source": [
    "#объединим таблицы\n",
    "df_final = pd.concat([df2, df3], axis=1)\n",
    "df_final = df_final.set_index(df_final.columns[0])\n",
    "df_final"
   ]
  },
  {
   "cell_type": "code",
   "execution_count": 254,
   "id": "b11c57d1",
   "metadata": {
    "id": "b11c57d1",
    "outputId": "5e39bae6-d2c0-4d0e-a4ae-78f07cc257b7",
    "scrolled": false
   },
   "outputs": [
    {
     "data": {
      "image/png": "[encoded data removed]",
      "text/plain": [
       "<Figure size 640x480 with 1 Axes>"
      ]
     },
     "metadata": {},
     "output_type": "display_data"
    }
   ],
   "source": [
    "ax = df_final[['1_share', '2_share', '3_share', '4_share', '5_share']].plot(kind='bar', stacked=True)\n",
    "\n",
    "y_offset = -2\n",
    "for bar in ax.patches:\n",
    "    ax.text(\n",
    "      bar.get_x() + bar.get_width() / 2,\n",
    "      bar.get_height() + bar.get_y() + y_offset,\n",
    "      round(bar.get_height(),1),\n",
    "      ha='center',\n",
    "      color='w',\n",
    "      weight='bold',\n",
    "      size=6\n",
    "  )\n",
    "\n",
    "plt.title('Доля доноров, сдающих кровь 1 или несколько раз в год, в динамике по годам')\n",
    "plt.xlabel('Год')\n",
    "plt.ylabel('Доля в %')\n",
    "plt.legend(labels=['1 донация', '2 донации', '3 донации', '4 донации', '5 донаций'])\n",
    "plt.show()"
   ]
  },
  {
   "cell_type": "markdown",
   "id": "729542b3",
   "metadata": {
    "id": "729542b3"
   },
   "source": [
    "**Вывод:** В 2022 и 2023г. доля доноров, делающих только 1 донацию крови, увеличилась по отношению к прошлым годам. А доли доноров, делающих более 1 донации, уменьшились."
   ]
  },
  {
   "cell_type": "code",
   "execution_count": 255,
   "id": "1c39e157",
   "metadata": {
    "id": "1c39e157",
    "outputId": "4335ca4e-0f33-44d6-83ad-78786b4ab208",
    "scrolled": true
   },
   "outputs": [
    {
     "data": {
      "text/html": [
       "<div>\n",
       "<style scoped>\n",
       "    .dataframe tbody tr th:only-of-type {\n",
       "        vertical-align: middle;\n",
       "    }\n",
       "\n",
       "    .dataframe tbody tr th {\n",
       "        vertical-align: top;\n",
       "    }\n",
       "\n",
       "    .dataframe thead th {\n",
       "        text-align: right;\n",
       "    }\n",
       "</style>\n",
       "<table border=\"1\" class=\"dataframe\">\n",
       "  <thead>\n",
       "    <tr style=\"text-align: right;\">\n",
       "      <th>don_nb</th>\n",
       "      <th>donation_year</th>\n",
       "      <th>1</th>\n",
       "      <th>2</th>\n",
       "      <th>3</th>\n",
       "      <th>4</th>\n",
       "      <th>5</th>\n",
       "      <th>6</th>\n",
       "      <th>7</th>\n",
       "      <th>8</th>\n",
       "      <th>total</th>\n",
       "    </tr>\n",
       "  </thead>\n",
       "  <tbody>\n",
       "    <tr>\n",
       "      <th>0</th>\n",
       "      <td>2013</td>\n",
       "      <td>320</td>\n",
       "      <td>83</td>\n",
       "      <td>52</td>\n",
       "      <td>41</td>\n",
       "      <td>40</td>\n",
       "      <td>26</td>\n",
       "      <td>28</td>\n",
       "      <td>8</td>\n",
       "      <td>598</td>\n",
       "    </tr>\n",
       "    <tr>\n",
       "      <th>1</th>\n",
       "      <td>2014</td>\n",
       "      <td>821</td>\n",
       "      <td>199</td>\n",
       "      <td>124</td>\n",
       "      <td>63</td>\n",
       "      <td>60</td>\n",
       "      <td>48</td>\n",
       "      <td>34</td>\n",
       "      <td>26</td>\n",
       "      <td>1375</td>\n",
       "    </tr>\n",
       "    <tr>\n",
       "      <th>2</th>\n",
       "      <td>2015</td>\n",
       "      <td>1038</td>\n",
       "      <td>288</td>\n",
       "      <td>129</td>\n",
       "      <td>106</td>\n",
       "      <td>71</td>\n",
       "      <td>75</td>\n",
       "      <td>38</td>\n",
       "      <td>36</td>\n",
       "      <td>1781</td>\n",
       "    </tr>\n",
       "    <tr>\n",
       "      <th>3</th>\n",
       "      <td>2016</td>\n",
       "      <td>871</td>\n",
       "      <td>274</td>\n",
       "      <td>159</td>\n",
       "      <td>104</td>\n",
       "      <td>78</td>\n",
       "      <td>51</td>\n",
       "      <td>33</td>\n",
       "      <td>25</td>\n",
       "      <td>1595</td>\n",
       "    </tr>\n",
       "    <tr>\n",
       "      <th>4</th>\n",
       "      <td>2017</td>\n",
       "      <td>484</td>\n",
       "      <td>221</td>\n",
       "      <td>128</td>\n",
       "      <td>87</td>\n",
       "      <td>58</td>\n",
       "      <td>48</td>\n",
       "      <td>49</td>\n",
       "      <td>43</td>\n",
       "      <td>1118</td>\n",
       "    </tr>\n",
       "    <tr>\n",
       "      <th>5</th>\n",
       "      <td>2018</td>\n",
       "      <td>508</td>\n",
       "      <td>223</td>\n",
       "      <td>121</td>\n",
       "      <td>101</td>\n",
       "      <td>76</td>\n",
       "      <td>60</td>\n",
       "      <td>47</td>\n",
       "      <td>45</td>\n",
       "      <td>1181</td>\n",
       "    </tr>\n",
       "    <tr>\n",
       "      <th>6</th>\n",
       "      <td>2019</td>\n",
       "      <td>466</td>\n",
       "      <td>232</td>\n",
       "      <td>123</td>\n",
       "      <td>99</td>\n",
       "      <td>88</td>\n",
       "      <td>66</td>\n",
       "      <td>52</td>\n",
       "      <td>38</td>\n",
       "      <td>1164</td>\n",
       "    </tr>\n",
       "    <tr>\n",
       "      <th>7</th>\n",
       "      <td>2020</td>\n",
       "      <td>334</td>\n",
       "      <td>195</td>\n",
       "      <td>123</td>\n",
       "      <td>101</td>\n",
       "      <td>68</td>\n",
       "      <td>60</td>\n",
       "      <td>44</td>\n",
       "      <td>37</td>\n",
       "      <td>962</td>\n",
       "    </tr>\n",
       "    <tr>\n",
       "      <th>8</th>\n",
       "      <td>2021</td>\n",
       "      <td>544</td>\n",
       "      <td>251</td>\n",
       "      <td>154</td>\n",
       "      <td>127</td>\n",
       "      <td>106</td>\n",
       "      <td>76</td>\n",
       "      <td>71</td>\n",
       "      <td>52</td>\n",
       "      <td>1381</td>\n",
       "    </tr>\n",
       "    <tr>\n",
       "      <th>9</th>\n",
       "      <td>2022</td>\n",
       "      <td>1009</td>\n",
       "      <td>370</td>\n",
       "      <td>240</td>\n",
       "      <td>158</td>\n",
       "      <td>119</td>\n",
       "      <td>118</td>\n",
       "      <td>90</td>\n",
       "      <td>67</td>\n",
       "      <td>2171</td>\n",
       "    </tr>\n",
       "    <tr>\n",
       "      <th>10</th>\n",
       "      <td>2023</td>\n",
       "      <td>949</td>\n",
       "      <td>338</td>\n",
       "      <td>220</td>\n",
       "      <td>149</td>\n",
       "      <td>133</td>\n",
       "      <td>97</td>\n",
       "      <td>77</td>\n",
       "      <td>80</td>\n",
       "      <td>2043</td>\n",
       "    </tr>\n",
       "  </tbody>\n",
       "</table>\n",
       "</div>"
      ],
      "text/plain": [
       "don_nb  donation_year     1    2    3    4    5    6   7   8  total\n",
       "0                2013   320   83   52   41   40   26  28   8    598\n",
       "1                2014   821  199  124   63   60   48  34  26   1375\n",
       "2                2015  1038  288  129  106   71   75  38  36   1781\n",
       "3                2016   871  274  159  104   78   51  33  25   1595\n",
       "4                2017   484  221  128   87   58   48  49  43   1118\n",
       "5                2018   508  223  121  101   76   60  47  45   1181\n",
       "6                2019   466  232  123   99   88   66  52  38   1164\n",
       "7                2020   334  195  123  101   68   60  44  37    962\n",
       "8                2021   544  251  154  127  106   76  71  52   1381\n",
       "9                2022  1009  370  240  158  119  118  90  67   2171\n",
       "10               2023   949  338  220  149  133   97  77  80   2043"
      ]
     },
     "execution_count": 255,
     "metadata": {},
     "output_type": "execute_result"
    }
   ],
   "source": [
    "#посчитаем количество донаций крови каждого донора с группировкой по годам\n",
    "df4 = donation_plasma_tr.groupby(['donation_year', 'user_id'])['donation_id'].count().reset_index()\\\n",
    ".rename(columns={'donation_id': 'don_nb'})\n",
    "\n",
    "#отфильтруем макс 5 донаций (есть пользователи, регистрирующие все свои прошлые донации в день регистрации)\n",
    "df4 = df4[df4['don_nb'] <= 8]\n",
    "\n",
    "#посчитаем количество доноров с 1-5 донациями\n",
    "df5 = df4.pivot_table(index='donation_year', columns='don_nb', values='user_id', aggfunc='nunique')\n",
    "\n",
    "#найдем общее количество донаций\n",
    "df5['total'] = df5.sum(axis = 1)\n",
    "df5 = df5.reset_index()\n",
    "\n",
    "df5"
   ]
  },
  {
   "cell_type": "code",
   "execution_count": 256,
   "id": "69b50e7b",
   "metadata": {
    "id": "69b50e7b",
    "outputId": "094e212a-3518-4ddd-9270-601c53b99ff8"
   },
   "outputs": [
    {
     "data": {
      "text/html": [
       "<div>\n",
       "<style scoped>\n",
       "    .dataframe tbody tr th:only-of-type {\n",
       "        vertical-align: middle;\n",
       "    }\n",
       "\n",
       "    .dataframe tbody tr th {\n",
       "        vertical-align: top;\n",
       "    }\n",
       "\n",
       "    .dataframe thead th {\n",
       "        text-align: right;\n",
       "    }\n",
       "</style>\n",
       "<table border=\"1\" class=\"dataframe\">\n",
       "  <thead>\n",
       "    <tr style=\"text-align: right;\">\n",
       "      <th>don_nb</th>\n",
       "      <th>1_share</th>\n",
       "      <th>2_share</th>\n",
       "      <th>3_share</th>\n",
       "      <th>4_share</th>\n",
       "      <th>5_share</th>\n",
       "      <th>6_share</th>\n",
       "      <th>7_share</th>\n",
       "      <th>8_share</th>\n",
       "    </tr>\n",
       "  </thead>\n",
       "  <tbody>\n",
       "    <tr>\n",
       "      <th>0</th>\n",
       "      <td>53.5</td>\n",
       "      <td>13.9</td>\n",
       "      <td>8.7</td>\n",
       "      <td>6.9</td>\n",
       "      <td>6.7</td>\n",
       "      <td>4.3</td>\n",
       "      <td>4.7</td>\n",
       "      <td>1.3</td>\n",
       "    </tr>\n",
       "    <tr>\n",
       "      <th>1</th>\n",
       "      <td>59.7</td>\n",
       "      <td>14.5</td>\n",
       "      <td>9.0</td>\n",
       "      <td>4.6</td>\n",
       "      <td>4.4</td>\n",
       "      <td>3.5</td>\n",
       "      <td>2.5</td>\n",
       "      <td>1.9</td>\n",
       "    </tr>\n",
       "    <tr>\n",
       "      <th>2</th>\n",
       "      <td>58.3</td>\n",
       "      <td>16.2</td>\n",
       "      <td>7.2</td>\n",
       "      <td>6.0</td>\n",
       "      <td>4.0</td>\n",
       "      <td>4.2</td>\n",
       "      <td>2.1</td>\n",
       "      <td>2.0</td>\n",
       "    </tr>\n",
       "    <tr>\n",
       "      <th>3</th>\n",
       "      <td>54.6</td>\n",
       "      <td>17.2</td>\n",
       "      <td>10.0</td>\n",
       "      <td>6.5</td>\n",
       "      <td>4.9</td>\n",
       "      <td>3.2</td>\n",
       "      <td>2.1</td>\n",
       "      <td>1.6</td>\n",
       "    </tr>\n",
       "    <tr>\n",
       "      <th>4</th>\n",
       "      <td>43.3</td>\n",
       "      <td>19.8</td>\n",
       "      <td>11.4</td>\n",
       "      <td>7.8</td>\n",
       "      <td>5.2</td>\n",
       "      <td>4.3</td>\n",
       "      <td>4.4</td>\n",
       "      <td>3.8</td>\n",
       "    </tr>\n",
       "    <tr>\n",
       "      <th>5</th>\n",
       "      <td>43.0</td>\n",
       "      <td>18.9</td>\n",
       "      <td>10.2</td>\n",
       "      <td>8.6</td>\n",
       "      <td>6.4</td>\n",
       "      <td>5.1</td>\n",
       "      <td>4.0</td>\n",
       "      <td>3.8</td>\n",
       "    </tr>\n",
       "    <tr>\n",
       "      <th>6</th>\n",
       "      <td>40.0</td>\n",
       "      <td>19.9</td>\n",
       "      <td>10.6</td>\n",
       "      <td>8.5</td>\n",
       "      <td>7.6</td>\n",
       "      <td>5.7</td>\n",
       "      <td>4.5</td>\n",
       "      <td>3.3</td>\n",
       "    </tr>\n",
       "    <tr>\n",
       "      <th>7</th>\n",
       "      <td>34.7</td>\n",
       "      <td>20.3</td>\n",
       "      <td>12.8</td>\n",
       "      <td>10.5</td>\n",
       "      <td>7.1</td>\n",
       "      <td>6.2</td>\n",
       "      <td>4.6</td>\n",
       "      <td>3.8</td>\n",
       "    </tr>\n",
       "    <tr>\n",
       "      <th>8</th>\n",
       "      <td>39.4</td>\n",
       "      <td>18.2</td>\n",
       "      <td>11.2</td>\n",
       "      <td>9.2</td>\n",
       "      <td>7.7</td>\n",
       "      <td>5.5</td>\n",
       "      <td>5.1</td>\n",
       "      <td>3.8</td>\n",
       "    </tr>\n",
       "    <tr>\n",
       "      <th>9</th>\n",
       "      <td>46.5</td>\n",
       "      <td>17.0</td>\n",
       "      <td>11.1</td>\n",
       "      <td>7.3</td>\n",
       "      <td>5.5</td>\n",
       "      <td>5.4</td>\n",
       "      <td>4.1</td>\n",
       "      <td>3.1</td>\n",
       "    </tr>\n",
       "    <tr>\n",
       "      <th>10</th>\n",
       "      <td>46.5</td>\n",
       "      <td>16.5</td>\n",
       "      <td>10.8</td>\n",
       "      <td>7.3</td>\n",
       "      <td>6.5</td>\n",
       "      <td>4.7</td>\n",
       "      <td>3.8</td>\n",
       "      <td>3.9</td>\n",
       "    </tr>\n",
       "  </tbody>\n",
       "</table>\n",
       "</div>"
      ],
      "text/plain": [
       "don_nb  1_share  2_share  3_share  4_share  5_share  6_share  7_share  8_share\n",
       "0          53.5     13.9      8.7      6.9      6.7      4.3      4.7      1.3\n",
       "1          59.7     14.5      9.0      4.6      4.4      3.5      2.5      1.9\n",
       "2          58.3     16.2      7.2      6.0      4.0      4.2      2.1      2.0\n",
       "3          54.6     17.2     10.0      6.5      4.9      3.2      2.1      1.6\n",
       "4          43.3     19.8     11.4      7.8      5.2      4.3      4.4      3.8\n",
       "5          43.0     18.9     10.2      8.6      6.4      5.1      4.0      3.8\n",
       "6          40.0     19.9     10.6      8.5      7.6      5.7      4.5      3.3\n",
       "7          34.7     20.3     12.8     10.5      7.1      6.2      4.6      3.8\n",
       "8          39.4     18.2     11.2      9.2      7.7      5.5      5.1      3.8\n",
       "9          46.5     17.0     11.1      7.3      5.5      5.4      4.1      3.1\n",
       "10         46.5     16.5     10.8      7.3      6.5      4.7      3.8      3.9"
      ]
     },
     "execution_count": 256,
     "metadata": {},
     "output_type": "execute_result"
    }
   ],
   "source": [
    "#найдем доли\n",
    "df6 = round(df5.iloc[:,1:9].div(df5.total, axis=0) * 100, 1)\n",
    "df6 = df6.rename(columns={1 : '1_share', 2: '2_share', 3: '3_share', 4: '4_share', 5: '5_share', 6: '6_share',\\\n",
    "                          7: '7_share', 8: '8_share'})\n",
    "df6"
   ]
  },
  {
   "cell_type": "code",
   "execution_count": 257,
   "id": "c3fd5034",
   "metadata": {
    "id": "c3fd5034",
    "outputId": "e3e2c08b-a4cb-43df-c7eb-05d021cf5d59",
    "scrolled": false
   },
   "outputs": [
    {
     "data": {
      "text/html": [
       "<div>\n",
       "<style scoped>\n",
       "    .dataframe tbody tr th:only-of-type {\n",
       "        vertical-align: middle;\n",
       "    }\n",
       "\n",
       "    .dataframe tbody tr th {\n",
       "        vertical-align: top;\n",
       "    }\n",
       "\n",
       "    .dataframe thead th {\n",
       "        text-align: right;\n",
       "    }\n",
       "</style>\n",
       "<table border=\"1\" class=\"dataframe\">\n",
       "  <thead>\n",
       "    <tr style=\"text-align: right;\">\n",
       "      <th>don_nb</th>\n",
       "      <th>1</th>\n",
       "      <th>2</th>\n",
       "      <th>3</th>\n",
       "      <th>4</th>\n",
       "      <th>5</th>\n",
       "      <th>6</th>\n",
       "      <th>7</th>\n",
       "      <th>8</th>\n",
       "      <th>total</th>\n",
       "      <th>1_share</th>\n",
       "      <th>2_share</th>\n",
       "      <th>3_share</th>\n",
       "      <th>4_share</th>\n",
       "      <th>5_share</th>\n",
       "      <th>6_share</th>\n",
       "      <th>7_share</th>\n",
       "      <th>8_share</th>\n",
       "    </tr>\n",
       "    <tr>\n",
       "      <th>donation_year</th>\n",
       "      <th></th>\n",
       "      <th></th>\n",
       "      <th></th>\n",
       "      <th></th>\n",
       "      <th></th>\n",
       "      <th></th>\n",
       "      <th></th>\n",
       "      <th></th>\n",
       "      <th></th>\n",
       "      <th></th>\n",
       "      <th></th>\n",
       "      <th></th>\n",
       "      <th></th>\n",
       "      <th></th>\n",
       "      <th></th>\n",
       "      <th></th>\n",
       "      <th></th>\n",
       "    </tr>\n",
       "  </thead>\n",
       "  <tbody>\n",
       "    <tr>\n",
       "      <th>2013</th>\n",
       "      <td>320</td>\n",
       "      <td>83</td>\n",
       "      <td>52</td>\n",
       "      <td>41</td>\n",
       "      <td>40</td>\n",
       "      <td>26</td>\n",
       "      <td>28</td>\n",
       "      <td>8</td>\n",
       "      <td>598</td>\n",
       "      <td>53.5</td>\n",
       "      <td>13.9</td>\n",
       "      <td>8.7</td>\n",
       "      <td>6.9</td>\n",
       "      <td>6.7</td>\n",
       "      <td>4.3</td>\n",
       "      <td>4.7</td>\n",
       "      <td>1.3</td>\n",
       "    </tr>\n",
       "    <tr>\n",
       "      <th>2014</th>\n",
       "      <td>821</td>\n",
       "      <td>199</td>\n",
       "      <td>124</td>\n",
       "      <td>63</td>\n",
       "      <td>60</td>\n",
       "      <td>48</td>\n",
       "      <td>34</td>\n",
       "      <td>26</td>\n",
       "      <td>1375</td>\n",
       "      <td>59.7</td>\n",
       "      <td>14.5</td>\n",
       "      <td>9.0</td>\n",
       "      <td>4.6</td>\n",
       "      <td>4.4</td>\n",
       "      <td>3.5</td>\n",
       "      <td>2.5</td>\n",
       "      <td>1.9</td>\n",
       "    </tr>\n",
       "    <tr>\n",
       "      <th>2015</th>\n",
       "      <td>1038</td>\n",
       "      <td>288</td>\n",
       "      <td>129</td>\n",
       "      <td>106</td>\n",
       "      <td>71</td>\n",
       "      <td>75</td>\n",
       "      <td>38</td>\n",
       "      <td>36</td>\n",
       "      <td>1781</td>\n",
       "      <td>58.3</td>\n",
       "      <td>16.2</td>\n",
       "      <td>7.2</td>\n",
       "      <td>6.0</td>\n",
       "      <td>4.0</td>\n",
       "      <td>4.2</td>\n",
       "      <td>2.1</td>\n",
       "      <td>2.0</td>\n",
       "    </tr>\n",
       "    <tr>\n",
       "      <th>2016</th>\n",
       "      <td>871</td>\n",
       "      <td>274</td>\n",
       "      <td>159</td>\n",
       "      <td>104</td>\n",
       "      <td>78</td>\n",
       "      <td>51</td>\n",
       "      <td>33</td>\n",
       "      <td>25</td>\n",
       "      <td>1595</td>\n",
       "      <td>54.6</td>\n",
       "      <td>17.2</td>\n",
       "      <td>10.0</td>\n",
       "      <td>6.5</td>\n",
       "      <td>4.9</td>\n",
       "      <td>3.2</td>\n",
       "      <td>2.1</td>\n",
       "      <td>1.6</td>\n",
       "    </tr>\n",
       "    <tr>\n",
       "      <th>2017</th>\n",
       "      <td>484</td>\n",
       "      <td>221</td>\n",
       "      <td>128</td>\n",
       "      <td>87</td>\n",
       "      <td>58</td>\n",
       "      <td>48</td>\n",
       "      <td>49</td>\n",
       "      <td>43</td>\n",
       "      <td>1118</td>\n",
       "      <td>43.3</td>\n",
       "      <td>19.8</td>\n",
       "      <td>11.4</td>\n",
       "      <td>7.8</td>\n",
       "      <td>5.2</td>\n",
       "      <td>4.3</td>\n",
       "      <td>4.4</td>\n",
       "      <td>3.8</td>\n",
       "    </tr>\n",
       "    <tr>\n",
       "      <th>2018</th>\n",
       "      <td>508</td>\n",
       "      <td>223</td>\n",
       "      <td>121</td>\n",
       "      <td>101</td>\n",
       "      <td>76</td>\n",
       "      <td>60</td>\n",
       "      <td>47</td>\n",
       "      <td>45</td>\n",
       "      <td>1181</td>\n",
       "      <td>43.0</td>\n",
       "      <td>18.9</td>\n",
       "      <td>10.2</td>\n",
       "      <td>8.6</td>\n",
       "      <td>6.4</td>\n",
       "      <td>5.1</td>\n",
       "      <td>4.0</td>\n",
       "      <td>3.8</td>\n",
       "    </tr>\n",
       "    <tr>\n",
       "      <th>2019</th>\n",
       "      <td>466</td>\n",
       "      <td>232</td>\n",
       "      <td>123</td>\n",
       "      <td>99</td>\n",
       "      <td>88</td>\n",
       "      <td>66</td>\n",
       "      <td>52</td>\n",
       "      <td>38</td>\n",
       "      <td>1164</td>\n",
       "      <td>40.0</td>\n",
       "      <td>19.9</td>\n",
       "      <td>10.6</td>\n",
       "      <td>8.5</td>\n",
       "      <td>7.6</td>\n",
       "      <td>5.7</td>\n",
       "      <td>4.5</td>\n",
       "      <td>3.3</td>\n",
       "    </tr>\n",
       "    <tr>\n",
       "      <th>2020</th>\n",
       "      <td>334</td>\n",
       "      <td>195</td>\n",
       "      <td>123</td>\n",
       "      <td>101</td>\n",
       "      <td>68</td>\n",
       "      <td>60</td>\n",
       "      <td>44</td>\n",
       "      <td>37</td>\n",
       "      <td>962</td>\n",
       "      <td>34.7</td>\n",
       "      <td>20.3</td>\n",
       "      <td>12.8</td>\n",
       "      <td>10.5</td>\n",
       "      <td>7.1</td>\n",
       "      <td>6.2</td>\n",
       "      <td>4.6</td>\n",
       "      <td>3.8</td>\n",
       "    </tr>\n",
       "    <tr>\n",
       "      <th>2021</th>\n",
       "      <td>544</td>\n",
       "      <td>251</td>\n",
       "      <td>154</td>\n",
       "      <td>127</td>\n",
       "      <td>106</td>\n",
       "      <td>76</td>\n",
       "      <td>71</td>\n",
       "      <td>52</td>\n",
       "      <td>1381</td>\n",
       "      <td>39.4</td>\n",
       "      <td>18.2</td>\n",
       "      <td>11.2</td>\n",
       "      <td>9.2</td>\n",
       "      <td>7.7</td>\n",
       "      <td>5.5</td>\n",
       "      <td>5.1</td>\n",
       "      <td>3.8</td>\n",
       "    </tr>\n",
       "    <tr>\n",
       "      <th>2022</th>\n",
       "      <td>1009</td>\n",
       "      <td>370</td>\n",
       "      <td>240</td>\n",
       "      <td>158</td>\n",
       "      <td>119</td>\n",
       "      <td>118</td>\n",
       "      <td>90</td>\n",
       "      <td>67</td>\n",
       "      <td>2171</td>\n",
       "      <td>46.5</td>\n",
       "      <td>17.0</td>\n",
       "      <td>11.1</td>\n",
       "      <td>7.3</td>\n",
       "      <td>5.5</td>\n",
       "      <td>5.4</td>\n",
       "      <td>4.1</td>\n",
       "      <td>3.1</td>\n",
       "    </tr>\n",
       "    <tr>\n",
       "      <th>2023</th>\n",
       "      <td>949</td>\n",
       "      <td>338</td>\n",
       "      <td>220</td>\n",
       "      <td>149</td>\n",
       "      <td>133</td>\n",
       "      <td>97</td>\n",
       "      <td>77</td>\n",
       "      <td>80</td>\n",
       "      <td>2043</td>\n",
       "      <td>46.5</td>\n",
       "      <td>16.5</td>\n",
       "      <td>10.8</td>\n",
       "      <td>7.3</td>\n",
       "      <td>6.5</td>\n",
       "      <td>4.7</td>\n",
       "      <td>3.8</td>\n",
       "      <td>3.9</td>\n",
       "    </tr>\n",
       "  </tbody>\n",
       "</table>\n",
       "</div>"
      ],
      "text/plain": [
       "don_nb            1    2    3    4    5    6   7   8  total  1_share  2_share  \\\n",
       "donation_year                                                                   \n",
       "2013            320   83   52   41   40   26  28   8    598     53.5     13.9   \n",
       "2014            821  199  124   63   60   48  34  26   1375     59.7     14.5   \n",
       "2015           1038  288  129  106   71   75  38  36   1781     58.3     16.2   \n",
       "2016            871  274  159  104   78   51  33  25   1595     54.6     17.2   \n",
       "2017            484  221  128   87   58   48  49  43   1118     43.3     19.8   \n",
       "2018            508  223  121  101   76   60  47  45   1181     43.0     18.9   \n",
       "2019            466  232  123   99   88   66  52  38   1164     40.0     19.9   \n",
       "2020            334  195  123  101   68   60  44  37    962     34.7     20.3   \n",
       "2021            544  251  154  127  106   76  71  52   1381     39.4     18.2   \n",
       "2022           1009  370  240  158  119  118  90  67   2171     46.5     17.0   \n",
       "2023            949  338  220  149  133   97  77  80   2043     46.5     16.5   \n",
       "\n",
       "don_nb         3_share  4_share  5_share  6_share  7_share  8_share  \n",
       "donation_year                                                        \n",
       "2013               8.7      6.9      6.7      4.3      4.7      1.3  \n",
       "2014               9.0      4.6      4.4      3.5      2.5      1.9  \n",
       "2015               7.2      6.0      4.0      4.2      2.1      2.0  \n",
       "2016              10.0      6.5      4.9      3.2      2.1      1.6  \n",
       "2017              11.4      7.8      5.2      4.3      4.4      3.8  \n",
       "2018              10.2      8.6      6.4      5.1      4.0      3.8  \n",
       "2019              10.6      8.5      7.6      5.7      4.5      3.3  \n",
       "2020              12.8     10.5      7.1      6.2      4.6      3.8  \n",
       "2021              11.2      9.2      7.7      5.5      5.1      3.8  \n",
       "2022              11.1      7.3      5.5      5.4      4.1      3.1  \n",
       "2023              10.8      7.3      6.5      4.7      3.8      3.9  "
      ]
     },
     "execution_count": 257,
     "metadata": {},
     "output_type": "execute_result"
    }
   ],
   "source": [
    "#объединим таблицы\n",
    "df_final_2 = pd.concat([df5, df6], axis=1)\n",
    "df_final_2 = df_final_2.set_index(df_final_2.columns[0])\n",
    "df_final_2"
   ]
  },
  {
   "cell_type": "code",
   "execution_count": 258,
   "id": "f049370b",
   "metadata": {
    "id": "f049370b",
    "outputId": "bd862f62-1bf5-4b21-f86f-7de05a322300",
    "scrolled": false
   },
   "outputs": [
    {
     "data": {
      "image/png": "[encoded data removed]",
      "text/plain": [
       "<Figure size 640x480 with 1 Axes>"
      ]
     },
     "metadata": {},
     "output_type": "display_data"
    }
   ],
   "source": [
    "ax = df_final_2[['1_share', '2_share', '3_share', '4_share', '5_share', '6_share', '7_share', '8_share']]\\\n",
    ".plot(kind='bar', stacked=True)\n",
    "\n",
    "y_offset = -2\n",
    "for bar in ax.patches:\n",
    "    ax.text(\n",
    "      bar.get_x() + bar.get_width() / 2,\n",
    "      bar.get_height() + bar.get_y() + y_offset,\n",
    "      round(bar.get_height(),1),\n",
    "      ha='center',\n",
    "      color='w',\n",
    "      weight='bold',\n",
    "      size=6\n",
    "  )\n",
    "\n",
    "plt.title('Доля доноров, сдающих плазму/тромбоциты 1 или несколько раз в год, в динамике по годам')\n",
    "plt.xlabel('Год')\n",
    "plt.ylabel('Доля в %')\n",
    "plt.legend(labels=['1 донация', '2 донации', '3 донации', '4 донации', '5 донаций', '6 донаций', '7 донаций', '8 донаций'])\n",
    "plt.show()"
   ]
  },
  {
   "cell_type": "markdown",
   "id": "5bbeee71",
   "metadata": {
    "id": "5bbeee71"
   },
   "source": [
    "**Вывод:** Похожая динамика прослеживается и с донациями плазмы и тромбоцитов. В 2022 и 2023г. доля доноров, делающих только 1 донацию крови, увеличилась по отношению к прошлым годам, а доли доноров, делающих более 1 донации, уменьшились."
   ]
  },
  {
   "cell_type": "markdown",
   "id": "1ec8f9c8",
   "metadata": {
    "id": "1ec8f9c8"
   },
   "source": [
    "### 3.2.11 Среднее количество дней между донациями"
   ]
  },
  {
   "cell_type": "code",
   "execution_count": 259,
   "id": "33eb4755",
   "metadata": {
    "id": "33eb4755",
    "outputId": "7a0101f8-62ef-479f-8fde-1263ddcf7876"
   },
   "outputs": [
    {
     "data": {
      "text/plain": [
       "donation_year\n",
       "2013    79\n",
       "2014    89\n",
       "2015    90\n",
       "2016    89\n",
       "2017    90\n",
       "2018    92\n",
       "2019    90\n",
       "2020    88\n",
       "2021    93\n",
       "2022    90\n",
       "2023    85\n",
       "Name: days_bw_donations, dtype: int32"
      ]
     },
     "execution_count": 259,
     "metadata": {},
     "output_type": "execute_result"
    }
   ],
   "source": [
    "#сделаем расчеты для доноров крови\n",
    "#отфильтруем доноров по id и дате донации\n",
    "don_time = donations_blood[['user_id', 'donation_year', 'donation_date']].sort_values(by=['user_id', 'donation_date'])\n",
    "\n",
    "#добавим столбец с прошлой датой донации для каждого юзера с сортировакой по году\n",
    "don_time['previous'] = don_time.groupby(['donation_year', 'user_id'])['donation_date'].shift()\n",
    "\n",
    "#посчитаем количество дней между донациями\n",
    "don_time['days_bw_donations'] = don_time['donation_date'] - don_time['previous']\n",
    "don_time['days_bw_donations'] = don_time['days_bw_donations'].dt.days\n",
    "\n",
    "#посчитаем среднее количество дней по годам\n",
    "time_final = don_time.groupby('donation_year')['days_bw_donations'].mean().round().astype('int')\n",
    "time_final"
   ]
  },
  {
   "cell_type": "code",
   "execution_count": 260,
   "id": "13430407",
   "metadata": {
    "id": "13430407",
    "outputId": "0a789120-669c-4a80-dc04-d5598408f278",
    "scrolled": true
   },
   "outputs": [
    {
     "data": {
      "text/plain": [
       "donation_year\n",
       "2013    24\n",
       "2014    32\n",
       "2015    34\n",
       "2016    35\n",
       "2017    37\n",
       "2018    38\n",
       "2019    39\n",
       "2020    38\n",
       "2021    37\n",
       "2022    37\n",
       "2023    33\n",
       "Name: days_bw_donations, dtype: int32"
      ]
     },
     "execution_count": 260,
     "metadata": {},
     "output_type": "execute_result"
    }
   ],
   "source": [
    "#сделаем расчеты для доноров плазмы и тромбоцитов\n",
    "#отфильтруем доноров по id и дате донации\n",
    "don_time_2 = donation_plasma_tr[['user_id', 'donation_year', 'donation_date']].sort_values(by=['user_id', 'donation_date'])\n",
    "\n",
    "#добавим столбец с прошлой датой донации для каждого юзера с сортировакой по году\n",
    "don_time_2['previous'] = don_time_2.groupby(['donation_year', 'user_id'])['donation_date'].shift()\n",
    "\n",
    "#посчитаем количество дней между донациями\n",
    "don_time_2['days_bw_donations'] = don_time_2['donation_date'] - don_time_2['previous']\n",
    "don_time_2['days_bw_donations'] = don_time_2['days_bw_donations'].dt.days\n",
    "\n",
    "#посчитаем среднее количество дней по годам\n",
    "time_final_2 = don_time_2.groupby('donation_year')['days_bw_donations'].mean().round().astype('int')\n",
    "time_final_2"
   ]
  },
  {
   "cell_type": "code",
   "execution_count": 261,
   "id": "31b1dfea",
   "metadata": {
    "id": "31b1dfea",
    "outputId": "14dd6955-fb49-41cf-e39e-f997a659508c"
   },
   "outputs": [
    {
     "data": {
      "image/png": "[encoded data removed]",
      "text/plain": [
       "<Figure size 900x400 with 2 Axes>"
      ]
     },
     "metadata": {},
     "output_type": "display_data"
    }
   ],
   "source": [
    "fig, (ax1, ax2) = plt.subplots(1, 2, figsize=(9,4))\n",
    "fig.suptitle('Среднее количество дней между донациями в 2013-2023гг.', y=1, fontsize=13)\n",
    "\n",
    "time_final.plot(kind='bar', ax=ax1, color='red', alpha=0.5)\n",
    "ax1.bar_label(ax1.containers[0], fmt='%.f')\n",
    "ax1.set_title('Донации крови')\n",
    "ax1.set_xlabel('Год')\n",
    "ax1.tick_params(axis='x', rotation=90)\n",
    "ax1.set_ylabel('Количество дней')\n",
    "ax1.set_ylim(76, 95)\n",
    "\n",
    "time_final_2.plot(kind='bar', ax=ax2, color='green')\n",
    "ax2.bar_label(ax2.containers[0], fmt='%.f')\n",
    "ax2.set_title('Донации плазмы и тромбоцитов')\n",
    "ax2.set_xlabel('Год')\n",
    "ax2.tick_params(axis='x', rotation=90)\n",
    "ax2.set_ylabel('Количество дней')\n",
    "ax2.set_ylim(22, 42)\n",
    "\n",
    "plt.subplots_adjust(wspace=0.3)\n",
    "plt.show()"
   ]
  },
  {
   "cell_type": "markdown",
   "id": "ec85c2f0",
   "metadata": {
    "id": "ec85c2f0"
   },
   "source": [
    "**Вывод:** Интервал между донациями крови должен составлять не менее 60 дней, а между донациями плазмы и тромбоцитов не менее 14 дней. Среднее количество донаций на пользователя в 2022 и 2023г ниже значений предыдущего года, но при этом количество дней между донациями тоже меньше значений 2021 года, что может говорить о меньшей вовлеченности в процесс сдачи крови пользователей последних двух лет."
   ]
  },
  {
   "cell_type": "markdown",
   "id": "199834e2",
   "metadata": {
    "id": "199834e2"
   },
   "source": [
    "## 3.3 ВЫВОД по документу о метриках:"
   ]
  },
  {
   "cell_type": "markdown",
   "id": "031b9872",
   "metadata": {},
   "source": [
    "<div style=\"border:solid red 2px; padding: 20px\">\n",
    "\n",
    "**Про прирост активных доноров и донаций:**\n",
    "\n",
    "В 2022 количество активных доноров, регистрирующих свои донации на платформе, выросло на 88% к 2021 году. Рост в 2021 и 2022, возможно, связан с связан со снятием короновирусных ограничений. Также рост может быть связан с запуском новой версии сайта в ноябре 2020 после сбоя и потери части данных в феврале 2020.\n",
    "\n",
    "На ноябрь 2023 количество активных доноров упало на 9% (по сравнению с 2022), но данные за 2023 год неполные – по ноябрь месяц, плюс требуется пользователям некоторое время для добавления донации на платформу.\n",
    "\n",
    "Коэффициент вовлеченности (ER), рассчитанный по скорости добавления донации пользователем в базу, говорит, что за последние 2 года вовлеченность упала в среднем на 33% (по сравнению с 2021) -  только 39% пользователей добавляют донацию на платформу в течении 90 дней.\n",
    "\n",
    "По месяцам динамика прироста активных доноров (и динамика прироста количества донаций) по всем годам похожа, прослеживается некая сезонность - пики в марте-апреле, октябре и декабре.\n",
    "\n",
    "В 2022 году отмечается резкий рост в марте и октябре, возможно это связано с какими-то проведенными мероприятиями.\n",
    "\n",
    "Динамика прироста количества донаций повторяет динамику прироста активных доноров. В 2022 рост составил 57%, тогда как на ноябрь 2023 показатель упал на 14%, напомню, данные за 2023 год неполные.\n",
    "\n",
    "Интересно, что в 2020 наблюдалось снижение количества доноров и донаций по отношению к прошлому году, однако, среднее число донаций на донора самое высокое в 2020 году: 2,4 донации крови на 1 активного пользователя и 4,5 донации плазмы или тромбоцитов на 1 донора среди сдающих эти виды крови в этом году. Возможно, это связано с пандемией и активным агитированием доноров к сдаче, которое привело к тому, что повторные доноры стали сдавать кровь чаще. \n",
    "\n",
    "Среднее число донаций крови, плазмы или тромбоцитов в 2022 и 2023 годах снизилось по сравнению с 2020 и 2021 до значений 1,8 и 3,9 соответственно (2023г).\n",
    "\n",
    "**Оценка активности на платформе:**\n",
    "\n",
    "В 2022 году пользователи пользовались функцией планирования донаций также часто, как и в 2021. В 2023 значение незначительно увеличилась на +6,7%.\n",
    "\n",
    "В 2022 и 2023 пользователи стали менее активными в оставлении оценки после донации. Возможно, пользователи сдают кровь всегда в одном и том же центре и со временем перестают оставлять оценки, так как качество услуг в центре не меняется.\n",
    "\n",
    "В 2022 пользователи обычно добавляли донации на платформу через 5 дней после сдачи, а в 2023 через 1 день, как и в 2021 году.\n",
    "\n",
    "**Про удержание:**\n",
    "\n",
    "Самый высокий процент удержания пользователей пришедших в 2013 году - 19% пользователей из них продолжают пользоваться платформой до сих пор. Только 32% пользователей из 2022 продолжают пользоваться платформой в 2023 году, но, можно сказать: это данные по ноябрь, однако, в 2021 относительно 2020 года удержание через 1 год упало с 38% до 30%.\n",
    "\n",
    "Также, коэффициент вернувшихся пользователей (RUR) в том же году с повторной донацией снизился в 2022 на 12% по сравнению с прошлым годом, а в 2023 году немного подрос, тем не менее значение RUR в 2023 на 19% выросло по сравнению с 2020 годом.\n",
    "\n",
    "В 2022 и 2023 доля доноров, делающих только 1 донацию крови, увеличилась по отношению к прошлым годам. С 40% в 2020 до 57% в 2023. А доли доноров, делающих более 1 донации, соответственно, уменьшились.\n",
    "\n",
    "Похожая динамика прослеживается и с донациями плазмы и тромбоцитов. В 2022 и 2023 доля доноров, делающих только 1 донацию крови, увеличилась по отношению к прошлым годам: с 35% в 2020 до 47% в 2023.\n",
    "\n",
    "В целом, видны проблемы с удержанием пользователей: в среднем 60% пользователей перестают пользоваться платформой на 2-ой год после добавления первой донации.\n",
    "\n",
    "Среднее количество донаций на пользователя в 2022 и 2023 ниже значений предыдущего года, но при этом количество дней между донациями, -  тоже меньше значений 2021 года, что может говорить о меньшей вовлеченности в процесс сдачи крови пользователей последних двух лет.\n"
   ]
  }
 ],
 "metadata": {
  "colab": {
   "provenance": []
  },
  "kernelspec": {
   "display_name": "Python 3 (ipykernel)",
   "language": "python",
   "name": "python3"
  },
  "language_info": {
   "codemirror_mode": {
    "name": "ipython",
    "version": 3
   },
   "file_extension": ".py",
   "mimetype": "text/x-python",
   "name": "python",
   "nbconvert_exporter": "python",
   "pygments_lexer": "ipython3",
   "version": "3.9.13"
  }
 },
 "nbformat": 4,
 "nbformat_minor": 5
}
